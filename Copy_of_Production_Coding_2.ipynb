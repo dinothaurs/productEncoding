{
  "cells": [
    {
      "cell_type": "markdown",
      "metadata": {
        "id": "view-in-github",
        "colab_type": "text"
      },
      "source": [
        "<a href=\"https://colab.research.google.com/github/dinothaurs/productEncoding/blob/main/Copy_of_Production_Coding_2.ipynb\" target=\"_parent\"><img src=\"https://colab.research.google.com/assets/colab-badge.svg\" alt=\"Open In Colab\"/></a>"
      ]
    },
    {
      "cell_type": "markdown",
      "source": [
        "Download the fuzzywuzzy package. This only needs to be run once."
      ],
      "metadata": {
        "id": "sgs5QCAlheVd"
      }
    },
    {
      "cell_type": "code",
      "execution_count": null,
      "metadata": {
        "colab": {
          "base_uri": "https://localhost:8080/"
        },
        "id": "fA5d1MOv4MR-",
        "outputId": "0d189e6b-51d7-4670-f0b1-cfda15a8b596"
      },
      "outputs": [
        {
          "output_type": "stream",
          "name": "stdout",
          "text": [
            "Collecting fuzzywuzzy\n",
            "  Downloading fuzzywuzzy-0.18.0-py2.py3-none-any.whl (18 kB)\n",
            "Installing collected packages: fuzzywuzzy\n",
            "Successfully installed fuzzywuzzy-0.18.0\n",
            "Collecting python-Levenshtein\n",
            "  Downloading python_Levenshtein-0.25.1-py3-none-any.whl (9.4 kB)\n",
            "Collecting Levenshtein==0.25.1 (from python-Levenshtein)\n",
            "  Downloading Levenshtein-0.25.1-cp310-cp310-manylinux_2_17_x86_64.manylinux2014_x86_64.whl (177 kB)\n",
            "\u001b[2K     \u001b[90m━━━━━━━━━━━━━━━━━━━━━━━━━━━━━━━━━━━━━━━━\u001b[0m \u001b[32m177.4/177.4 kB\u001b[0m \u001b[31m2.8 MB/s\u001b[0m eta \u001b[36m0:00:00\u001b[0m\n",
            "\u001b[?25hCollecting rapidfuzz<4.0.0,>=3.8.0 (from Levenshtein==0.25.1->python-Levenshtein)\n",
            "  Downloading rapidfuzz-3.9.4-cp310-cp310-manylinux_2_17_x86_64.manylinux2014_x86_64.whl (3.4 MB)\n",
            "\u001b[2K     \u001b[90m━━━━━━━━━━━━━━━━━━━━━━━━━━━━━━━━━━━━━━━━\u001b[0m \u001b[32m3.4/3.4 MB\u001b[0m \u001b[31m36.1 MB/s\u001b[0m eta \u001b[36m0:00:00\u001b[0m\n",
            "\u001b[?25hInstalling collected packages: rapidfuzz, Levenshtein, python-Levenshtein\n",
            "Successfully installed Levenshtein-0.25.1 python-Levenshtein-0.25.1 rapidfuzz-3.9.4\n"
          ]
        }
      ],
      "source": [
        "!pip install fuzzywuzzy\n",
        "!pip install python-Levenshtein"
      ]
    },
    {
      "cell_type": "markdown",
      "source": [
        "# Connecting Google Drive and Colab\n",
        "Connect Colab with your Google Drive, after it runs it will provide a popup asking you to connect with your Google Drive, select the Google account your spreadsheets will be located in and agree to mount Drive to Colab."
      ],
      "metadata": {
        "id": "3hhy7NjXhlv0"
      }
    },
    {
      "cell_type": "code",
      "execution_count": null,
      "metadata": {
        "colab": {
          "base_uri": "https://localhost:8080/"
        },
        "id": "yC7nTBOvW-nf",
        "outputId": "7526156c-3252-4971-b61e-e7539e03ae82"
      },
      "outputs": [
        {
          "output_type": "stream",
          "name": "stdout",
          "text": [
            "Mounted at /content/drive\n"
          ]
        }
      ],
      "source": [
        "from google.colab import drive\n",
        "drive.mount('/content/drive')"
      ]
    },
    {
      "cell_type": "markdown",
      "source": [
        "Reading data from Google Drive\n",
        "\n",
        "To ensure that the following code works, please open your google drive and find three files that should have been shared with you:\n",
        "\n",
        "\n",
        "*   CutSize.xlsx\n",
        "*   RMfullList.xlsx\n",
        "*   Tests.xlsx\n",
        "\n",
        "Download all three of these spreadsheets onto your computer, then go to My Drive. Open Files and drag each of the three files you just downloaded into your drive. If the upload was successful, there should be a little box on the bottom right hand corner which indicates that the three files have been uploaded to your drive. Now you can proceed and run the program.\n",
        "\n",
        "\n",
        "\n",
        "\n",
        "\n",
        "If it does not run:\n",
        "\n",
        "\n",
        "*   Check if spreadsheet is located in your drive\n",
        "*   Check if the pathway (ie. /content/drive/My Drive/CutSize.xlsx) is correct\n",
        "*   Check if Google Drive is connected to Colab\n",
        "\n",
        "\n",
        "\n",
        "\n"
      ],
      "metadata": {
        "id": "2GW8bslIiQzG"
      }
    },
    {
      "cell_type": "code",
      "execution_count": null,
      "metadata": {
        "id": "vmKTp-aWZeL1"
      },
      "outputs": [],
      "source": [
        "import pandas as pd\n",
        "import numpy as np\n",
        "import re\n",
        "from openpyxl import load_workbook\n",
        "\n",
        "def convert_excel(df, dictionary):\n",
        "  count = 1\n",
        "  for i in df:\n",
        "    if count < 10:\n",
        "      dictionary[str(i)] = \"00\" + str(count)\n",
        "    elif count < 100:\n",
        "      dictionary[str(i)] = \"0\" + str(count)\n",
        "    else:\n",
        "      dictionary[str(i)] = str(count)\n",
        "    count+=1\n",
        "\n",
        "# Load the XLSX file into a DataFrame\n",
        "df = pd.read_excel('/content/drive/My Drive/CutSize.xlsx',)\n",
        "\n",
        "df.dropna(subset=['Cut Method Clean'], inplace=True)\n",
        "cut_method = df['Cut Method Clean'].astype(str).to_numpy()\n",
        "\n",
        "df.dropna(subset=['CutSize/Count'], inplace=True)\n",
        "cut_list = df['CutSize/Count'].astype(str).to_numpy()\n",
        "\n",
        "# df.dropna(subset=['PackSize'], inplace=True)\n",
        "# pack_size = df['PackSize'].astype(str).to_numpy()\n",
        "\n",
        "# df.dropna(subset=['Container'], inplace=True)\n",
        "# container_type = df['Container'].astype(str).to_numpy()\n",
        "\n",
        "# df.dropna(subset=['Packing Material'], inplace=True)\n",
        "# packing_material = df['Packing Material'].astype(str).to_numpy()\n",
        "\n",
        "df.dropna(subset=['Mixes'], inplace = True)\n",
        "mixes = df['Mixes'].astype(str).to_numpy()\n",
        "\n",
        "#cut size dictionary\n",
        "cut_dict = {}\n",
        "\n",
        "#cut methods dictionary\n",
        "cuts = {}\n",
        "\n",
        "#pack size dictionary\n",
        "pack_size_dict = {}\n",
        "container_dict = {}\n",
        "packing_material_dict = {}\n",
        "\n",
        "#mixes\n",
        "\n",
        "convert_excel(cut_list, cut_dict)\n",
        "print(cut_dict)\n",
        "convert_excel(cut_method, cuts)\n",
        "# convert_excel(pack_size, pack_size_dict)\n",
        "# convert_excel(container_type, container_dict)\n",
        "# convert_excel(packing_material, packing_material_dict)\n",
        "\n",
        "#for i in cut_dict:\n",
        "#  i.replace(\"'\", \"+\")\n",
        "#  i.replace('\"', \"+\")\n",
        "\n",
        "#create new dictionary\n",
        "new_cut_dict = {}\n",
        "for key in cut_dict:\n",
        "  #for each value, replace the ' and \" then add the new value into the new dictionary\n",
        "  new_key = key.replace(\"”\", '\"')\n",
        "  new_key = key.replace(\"''\", '_').replace(\"'\", '_').replace('\"\"', '_').replace('\"', \"_\").replace(\"/\", \"a\")\n",
        "  new_cut_dict[new_key] = cut_dict[key]\n",
        "\n",
        "#raw materials\n",
        "gf = pd.read_excel('/content/drive/My Drive/RMfullList.xlsx',)\n",
        "\n",
        "gf.dropna(subset=['Vegetable'], inplace=True)\n",
        "\n",
        "rm_list = gf['Vegetable'].astype(str).to_numpy()\n",
        "\n",
        "rm = {}\n",
        "\n",
        "convert_excel(rm_list, rm)\n",
        "\n",
        "print(rm)\n",
        "print(new_cut_dict)\n",
        "print(cuts)"
      ]
    },
    {
      "cell_type": "code",
      "source": [
        "print(mixes)"
      ],
      "metadata": {
        "id": "Koa8_8PB_J6z"
      },
      "execution_count": null,
      "outputs": []
    },
    {
      "cell_type": "markdown",
      "source": [
        "# Read in Test Cases\n",
        "If there needs be a change in the spreadsheet\n",
        "\n",
        "\n",
        "*   Change the name of the excel link(ie. if the new spread sheet is called MyTest, change \"/content/drive/My Drive/Tests.xlsx\" to \"/content/drive/My Drive/MyTests.xlsx\".\n",
        "*   Make sure that the file is an xlsx file\n",
        "*   Make sure that the list of names of the products is listed under a cell titled \"Name\"\n",
        "\n",
        "\n",
        "\n",
        "\n"
      ],
      "metadata": {
        "id": "bu7ynwNbq2Du"
      }
    },
    {
      "cell_type": "code",
      "execution_count": null,
      "metadata": {
        "id": "AwKi0v_MUGgY",
        "colab": {
          "base_uri": "https://localhost:8080/"
        },
        "outputId": "7d1b8a1d-1ee2-4eb2-bff0-52a46529272e"
      },
      "outputs": [
        {
          "output_type": "stream",
          "name": "stdout",
          "text": [
            "['Bean Green Cleaned & Trimmed 1/5lb', 'Green Bean Cleaned & Halved 1/5lb', 'Green Bean Cleaned & Halved 4/5lb', 'Organic Black Watermelon Deseeded & Chunk 1\" 1/5lb', 'Broccoli Florets 4/3lb', 'Organic Cabbage Green Shredded 1/8\" 1/5lb', 'Organic Cabbage Green Shredded 1/8\" 4/5lb', 'Organic Cabbage Red Shredded 1/8\" 1/5lb', 'Organic Cabbage Red Shredded 1/8\" 4/5lb', 'Cantaloupe Chunk 1\" 4/5lb', 'Organic Carrot Coin Cut 1/4\" 4/5lb', 'Organic Carrot Diced 1/4\" 1/5lb', 'Organic Carrot Diced 1/4\" 4/5lb', 'Organic Carrot Matchstick 1/5lb', 'Organic Carrot Shredded 1/5lb', 'Carrot Sticks 4\" 1/5lb', 'Cauliflower Florets 4/3lb', 'Organic Celery Diced 1/4\" 1/5lb', 'Organic Celery Diced 1/4\" 4/5lb', 'Organic Rainbow Chard Chopped 4/5lb', 'Organic Rainbow Chard Chopped 1/5lb', 'Eggplant Chinese Coin Sliced 1/4\" 1/5lb', 'Corn Cleaned & Husked 48ct', 'Corn Kernel White 1/5lb', 'Corn Yellow Cleaned/Shucked & 3 Cut (Case)', \"Organic Cucumber Sliced 1/4' 1/5lb\", 'Jicama Sticks 1/5lb', 'Organic Kale Lacinato Shredded 1/5lb', 'Organic Romaine Chopped 1\" 1/5lb', 'Organic Onion Red Diced 1/4\" 1/5lb', 'Organic Onion Red Julienne 1/4\" 1/5lb', 'Organic Onion Yellow Diced 1/4\" 1/5lb', 'Organic Onion Yellow Diced 1/4\" 4/5lb', 'Organic Onion Yellow Julienne 1/4\" 1/5lb', 'Onion Yellow Organic Julienne 1/4\" 4/5lb', 'Pea Snap Cleaned 4/5lb', 'Pea Snap Cleaned 1/5lb', 'Organic Pepper Red Julienne 1/4\" 1/5lb', 'Organic Pepper Red Julienne 1/4\" 4/5lb', 'Organic Pepper Red Diced 1/4\" 1/5lb', 'Pineapple Chunk 1\" 1/5lb', 'Pineapple Chunk 1\" 4/5lb', 'Organic Yukon Potato Peeled Diced 1\" 1/20lb', 'Radish Sliced 1/4\" 1/5lb', 'Organic Squash Butternut Diced 1\" 4/5lb', 'Organic Squash Butternut Diced 1\" 1/5lb', 'Organic Squash Zucchini Halfmoon Sliced 1/4\" 1/5lb', 'Organic Squash Yellow Coin Sliced 1/4\" 1/5lb', 'Organic Squash Yellow Halfmoon Sliced 1/4\" 1/5lb', 'Organic Squash Zucchini Coin Sliced 1/4\" 1/5lb', 'Tomato Diced 1/4\" 1/5lb', 'Watermelon Chunk 1\" 4/5lb', 'Organic Yam Peeled & Diced 1\" 1/5lb', \"Cabbage Green Diced 1/2' lb\", \"Cabbage Green Diced 1/8'\", 'Cabbage Napa Diced 1/4\" lb', 'Carrot Minced lb.', \"Celery Diced 3/8' lb.\", 'Garlic Whole Peeled lb.', 'Ginger lb', 'Yellow Onion Diced 1/4\" lb.', 'Celery Diced 1/4\" 1/5lb', \"Cucumber Sliced 1/4' (Skin On) 1/5lb\", 'Jicama Diced 1/4\" 1/5lb', 'Romaine Chopped 1\" 1/5# (Harvested: Salinas- /24)', 'Tomato Diced 1/4\" 1/5lb', 'Achiote Paste 12/400GM', 'Cabbage Red 10/1lb', 'Cauliflower Florets 4/3lb', 'Kale Chopped 1/10lb', 'Pineapple Chunk (4oz) 1/24ct', 'Pineapple Chunk (8oz) 1/24ct', 'Squash Butternut Diced 1\" 30/16oz', 'Squash Butternut Diced 1\" 30/8oz', 'Cabbage Green Chopped 1.5\" 1/15lb', 'Cabbage Green Chopped 1.5\" 1/15lb', 'Apple Grannysmith Sliced 1/4\" (Skin On) 4/5lb', 'Bean Green Cleaned & Trimmed 2/5lb', 'Bean Green Cut 2\" 2/5lb', 'Brussels Sprouts Cleaned & Trimmed 2/5lb', 'Brussels Sprouts Cleaned & Quartered 2/5lb', 'Brussels Sprouts Small Sliced 1/2\" 2/5lb', 'Carrot Diced 1/2\" 1/20lb', 'Carrot Matchstick 4/5lb', 'Celery Diced 1/2\" 4/5lb', 'Celery Root Diced 1\" 2/5lb', 'Ginger Puree (Skin On) 1/5lb', 'Kale Deribbed & Chopped 1\" 1/10lb', 'Organic Kale Deribbed & Chopped 1\" 1/10lb', 'Mushroom Crimini Sliced 1/10lb', 'Onion Red Wedge 8 Cut (Hand Cut) 4/5lb', 'Organic Onion Yellow Diced 1/2\" 4/5lb', 'Organic Onion Yellow Whole Peeled 1/30lb', 'Onion Yellow Diced 1/2\" 4/5lb', 'Onion Yellow Whole Peeled 1/30lb', 'Potato Russet Peeled & Diced 1\" 1/20lb', 'Potato Russet Peeled & Diced 1/2\" 1/20lb', 'Potato Russet Whole Peeled 1/20lb', 'Organic Squash Butternut Peeled & Diced 1\" 1/20lb', 'Organic Squash Butternut Peeled & Halved 1/20lb', 'Yam Peeled & Diced 1\" 4/5lb', 'Organic Yam Peeled & Diced 1\" 1/20lb', 'Organic Yam Peeled & Diced 1\" 4/5lb', 'Yam Peeled & Halfmoon 1\" 4/5lb', 'Yam Matchsticks 4/5lb', 'Yam Whole Peeled 1/20lb', 'Broccoli Florets 4/3#', 'Cabbage Green Shredded 1/4\" 4/5#', 'Cantaloupe Chunk 1/5# Tray', 'Cantaloupe Diced 1/2\" 1/5#', \"Celery Diced 3/8' 1/5#\", \"Celery Sticks 4' 1/5#\", \"Celery Sticks 4' 4/5#\", \"Cucumber Sliced 1/4' (Skin-On) 1/5#\", 'Honeydew Chunks 1/5# (Tray)', 'Jicama Sticks 1/5#', 'Jicama Sticks 4/5#', 'Kale Green Chopped 1\" 2/5#', \"Onion Green Diced 1/4' 1/5#\", \"Onion Red Diced 1/4' 1/5#\", \"Onion Yellow Diced 1/4' 1/5#\", 'Orange Wedges 1/5#', \"Pepper Green Diced 1/4' 1/5#\", 'Pineapple Chunk 1/5#', \"Squash Zucchini Sliced 1/4' 1/5#\", \"Tomato Diced 3/8' 1/5#\", \"Tomato Sliced 1/4' 1/5#\", 'Watermelon Chunks 1/5#', 'Watermelon Chunks 4/5#', 'Organic Kale Chopped 2/5#', 'Organic Kale Lacinato Chopped 1/10#', 'Organic Kale Lacinato Shredded  1/10#', 'Yam Chunk 1\" 1/20lb', 'Potato Russet Diced 1\" 1/5lb', 'Potato Red Diced 1/2\" (Skin-On) 1/20lb', 'Red Onion Diced 1/4\" 1/5lb', 'Cantaloupe Chunk 1\" 1/5lb', 'Honeydew Chunk 1\" 1/5lb', 'Potato Red Diced 1/2\" Skin-On 1/5lb', 'Yam Stick 4\" 1/5lb', 'Cantaloupe Sliced 3/8\" 1/5lb', 'Honeydew Sliced 3/8\" 1/5lb', 'Potato Russet Peeled & Diced 1/2\" 1/20lb', 'Mango Spears 1/5lb', 'Squash Yellow Halfmoon 1/5lb', 'Celery Diced 1/4\" 1/5lb', 'Pepper Green Bell Diced 3/8\" 1/5lb', 'Celery Diced 1/2\" 1/5lb', 'Green Onion Diced 3/8\" 1/5lb', 'Cabbage Savoy Shredded 1/8\" 1/5lb', 'Cantaloupe Chunk 1/2\" 1/5lb', 'Honeydew Chunk 1/2\" 1/5lb', 'Mango Diced 1/4\" 1/5lb', 'Cauliflower Floret Mini 1\" (No Stem) 1/5lb', 'Cilantro Chopped 4/5lb', 'Pepper Jalapeno Diced 4/5lb', 'Papaya Green Shredded 1/5lb', 'Pineapple Chunk 3/8\" 1/5 lb', 'Celery Root Diced 3/4\" 1/5lb', 'Italian Parsley Leaves Only 1/1lb', 'Carrot Halfmoon Sliced 1/4\" 1/5lb', 'Celery Sticks 4/5lb', 'Potato Baking Foil Wrap 80ct', 'Cucumber Sliced 1/2\" 1/5lb', 'Tomato Sliced 1/4\" 1/5lb', 'Pepper Green Julienne 1/4\" 6/2lb', 'Potato Yukon Whole Peeled 1/20lb', 'Potato Yukon Diced 1\" (Skin-On) 1/20lb', 'Watermelon Chunk 1/5lb', 'Squash Butternut Diced 1/4\" 1/5lb', 'Celery Diced 1\" 1/5lb', 'Onion Yellow Sliced 3/8\" 1/5lb', 'Yam Whole Peeled 1/20lb', 'Cantaloupe Chunk 3/4\" 1/20lb', 'Pineapple Chunk 3/4\" 1/5 lb', 'Celery Bias Cut 1/4\" 1/5lb', 'Pepper Green Julienne 1/4\" 1/5lb', 'Pepper Red Julienne 1/4\" 1/5#', 'Squash Butternut Chunk 1\" 4/5lb', 'Onion Ring Sliced 1/8\" 1/5lb', 'Lime Wedge 6 Cut 1/2lb', 'Squash Butternut Diced 3/4\" 1/5lb', 'Pepper Yellow Diced 2\" 1/5#', 'Jicama Sticks 1/5lb', 'Onion Green Diced 3/8\" 1/2lb', 'Cabbage Savoy Shredded 1/8\" 2/3lb', 'Carrot Stew Cut (1/5lb)', 'Potato Russet Stew Cut 1\" 1/20lb', 'Cucumber Sliced 3/16\" 1/5lb', 'Onion Yellow Diced 1/4\" 1/5#', 'Cabbage Red Shredded 5/1lb', 'Beet Red Diced 1/2\" 1/5lb', 'Onion Yellow Diced 1\" 1/5#', 'Honeydew Chunk 1\" 1/20lb', 'Green Onion Diced 3/8\" 1/5lb', 'Beet Red Diced 3/4\" 1/5lb', 'Carrot Diced 1/2\" 1/5lb', 'Onion Red Whole Peeled 1/5lb', 'Onion Yellow Whole Peeled 1/5lb', 'Watermelon Chunk 4/5lb', 'Squash Butternut Peeled & Halved 1/5lb', 'Cucumber Coin Sliced 1/4\" 1/5lb', 'Squash Zucchini Plank (Sliced Lengthwise 1/2\") 1/5#', 'Carrot Stick 2\" 1/5lb', 'Pineapple Chunk 1\" 1/5 lb', 'Radish Sliced 1/16\" 1/5lb', 'Onion Yellow Julienne 1/4\" 6/2lb', 'Potato Russet Diced 1/4\" 1/20lb', 'Pepper Yellow Diced 1/4\" 1/5#', 'Pepper Jalapeno Sliced 1/4\" 1/5lb', 'Squash Butternut Diced 1/2\" 1/5lb', 'Onion Yellow Whole Peeled 1/5#', 'Onion Red Whole Peeled 4/5lb', 'Beans Green Cleaned & Cut 1/4\" 4/5lb', 'Pepper Jalapeno Diced 1/4\" 1/5lb', 'Cucumber Diced 1/2\" 1/5lb', 'Jicama Diced 1/4\" 1/5lb', 'Pepper Green Bell Diced 1/2\" 1/5lb', 'Onion Yellow Whole Peeled 1/20lb', 'Pineapple Chunk 3/4\" 1/20lb', \"Onion Red Diced 3/8' 1/5lb\", 'Mango Diced 1\" 1/5lb', 'Cucumber Diced 1\" (Skin-On) 1/5lb', 'Bok Choy Chopped 1\" 1/5lb', 'Pepper Red Diced 2\" 1/5#', 'Mango Chunks 2/5lb', 'Carrot Julienne 4\" x 1/4\" 1/5lb', 'Squash Zucchini Sliced/Coins 1/5lb', 'Squash Yellow Halfmoon 1/5lb', 'Onion Red Diced 2\" 1/5lb', 'Pepper Green Diced 2\" 1/5#', 'Squash Zucchini Diced 3/8\" 1/5lb', 'Beet Gold Whole Peeled 1/5lb', 'Onion Yellow Julienne 1/5lb', 'Ginger Whole Peeled 1/1lb', 'Onion Yellow Diced 1/2\" 1/5#', 'Squash Zucchini Bias Halfmoon 1/5lb', 'Squash Zucchini Julienne 1/4\" 1/5lb', 'Cabbage Green Wedged 8 Cut 4/5lb', 'Squash Zucchini Diced 1/8\" 1/5lb', \"Carrot Bias Cut 1/4' (1/5lb)\", \"Cabbage Napa Shredded 1/4'' (4/5lb)\", 'Celery Diced 1/4\" (1/5lb)', 'Pepper Red Diced 1/4\" 1/5#', 'Orange Sections 4/5lb', 'Onion White Diced 1/4\" 1/5lb', 'Potato Russet Diced 1\" 1/5lb', 'Honeydew Chunk 1/2\" 1/5lb', 'Radish Sliced 1/16\" 1/2lb', 'Squash Butternut Chunk 1/2\" 1/5lb', 'Cilantro Chopped 1/1lb', 'Carrot Diced 3/4\" 1/5lb', 'Cucumber English Diced 1/2\" 4/5lb', 'Squash Butternut Peeled & Halved (Deseeded) 1/5lb', 'Yam Chunk 1\" 1/5lb', 'Tomato Diced 1/4\" (1/5lb)', 'Pepper Green Bell Diced 3/8\" 1/5lb', 'Tomato Diced 3/8\" 1/5lb', 'Celery Diced 3/8\" (1/5lb)', 'Cilantro Chopped 1/5lb', 'Cantaloupe Chunk 1\" 1/20 lb', 'Mango Diced 1/4\" 1/5lb', 'Potato Red B Quartered (Skin-On) 1/20lb', 'Onion Green Diced 1/8\" 1/5lb', 'Cilantro Chopped 1/5lb', 'Onion Yellow Diced 3/8\" 4/5#', 'Pepper Red Diced 1/2\" 1/5lb', 'Onion Red Sliced 1/8\" 1/5lb', \"Onion Yellow Stew Cut 1' 1/5lb\", 'Squash Yellow Coin Cut 1/4\" 1/5lb', 'Tomato Diced 3/4\" 1/5lb', 'Carrot Matchstick 5/1lb', 'Celery Diced 1/2\" 1/5lb', 'Carrot Diced 1/2\" 1/5lb', 'Cucumber Diced 1/4\" 1/5lb', 'Squash Zucchini Diced 1/2\" 1/5lb', 'Onion Red Sliced 1/4\" 1/5lb', 'Onion Red Julienne 1/4\" 4/5lb', 'Tomato Roma Sliced 1/4\" 1/5lb', 'Onion Red Sliced 3/8\" 1/5lb', 'Pepper Red Diced 1/4\" 1/5#', 'Pepper Green Bell Diced 1/4\" 1/5lb', 'Orange Segments 1/5lb', 'Onion Yellow Sliced 1/16\" 1/5lb', 'Squash Zucchini Stick 3\" X 1/4\" 1/5lb', 'Onion Yellow Sliced 1/8\" 1/5lb', 'Pea Snap Cleaned 1/5lb', 'Pineapple Chunk 1\" 1/20lb', 'Potato Peeled & Quartered 1/20lb', 'Squash Butternut Chunk 1\" 1/5lb', 'Squash Zucchini Diced 1\" 1/5lb', 'Pineapple Spears 1/5lb', 'Apple', 'Fuji Apples 138ct', 'Cantaloupe Melons', 'Cantaloupe Chunks 1/5lb', 'Grape Green', 'Grape Red 18#', 'Grapefruits', 'Honeydew Melon', 'Lime Fancy', 'Mango', 'Orange (case)', 'Papaya', 'Papaya Mexican 1/40lb', 'Pineapple', 'Pineapple Chunks 1/5lb', 'Watermelon', \"Watermelon Chunks 1' 1/5lb\", 'Organic Beet Red Shredded 4/5#', 'Organic Brussel Sprouts Cleaned & Halved 1/10#', 'Organic Brussel Sprouts Cleaned & Halved 4/5#', 'Organic Rainbow Carrot Stick 1/10#', 'Organic Rainbow Carrot Stick 4/5#', 'Organic Carrot Stick 4/5#', 'Organic Ginger Whole Peeled 1/5#', 'Organic Ginger Whole Peeled 2/5#', \"Organic Squash Butternut Peeled & Diced 1' 1/10#\", \"Organic Squash Butternut Peeled & Diced 1' 4/5#\", 'Organic Squash Delicata Halfmoon 1/2\" (Skin On) 1/10#', 'Organic Squash Delicata Halfmoon 1/2\" (Skin On) 4/5#', 'Organic Squash Kabocha Wedged (Skin-On) 1/10#', 'Organic Squash Kabocha Wedged (Skin-On) 4/5#', 'Organic Yam Stick 1/10#', 'Organic Yam Stick 4/5#', \"Cabbage Green Shredded 1/4'' 1/15lb\", 'Cabbage Red Angel Hair 1/8\" 1/15lb', 'Carrot Diced 1/8\" (2/5#)', 'Carrot Shredded 4/5lb', 'Celery Diced 1/4\" 1/20lb', 'Celery Diced 3/8\" 1/20lb', \"Garlic Diced 1/16' (1/40lb) 'Christopher Ranch'\", \"Organic Garlic Diced 1/8' (1/40lb) 'Christopher Ranch'\", 'Organic Kale Chopped 1\" 1/10lb', \"Kale Shredded 1/4' 2/5lb\", \"Lemon Sliced 3/8' 4/5lb\", \"Onion Red Diced 1/8' 4/5lb\", 'Onion Red Julienne (4/5 lb)', 'Organic Onion Red Julienne 1/4\" 4/5lb', 'Onion Red Rings 3/4\" 1/20lb', 'Onion Yellow Julienne 2\" x 1/4\" 4/5lb', 'Onion Yellow Diced 1/8\" 4/5lb.', 'Onion Yellow Julienne 4/5lb', 'Parsley Chopped 1/5lb', 'Organic Pepper Jalapeno Sliced Round 1/8\" 1/5lb..', \"Pepper Poblano Julienne 1/4' (4/5 lb)\", 'Squash Butternut Diced 1/2\" 4/5lb', 'Squash Yellow Halved Lengthwise 1/20lb', 'Squash Zucchini Halved Lengthwise 1/20lb', \"Tomato Diced 3/8' 4/5lb\", 'Tomato Grape/Cherry 1/20lb', \"Apple Fuji Diced 1/2' 1/5 lb (Skin-On)\", \"Apple Fuji Peeled & Diced 1/2' 1/5 lb\", \"Apple Fuji Peeled & Diced 1/4' 1/5 lb\", 'Apple Fuji Peeled & Sliced 1/4\" 1/5lb', \"Apple Gala Peeled & Diced 1/4' 1/5lb\", \"Granny Smith Diced 1/2' 1/5lb (Skin On)\", \"Apple Granny Smith Peeled & Sliced Wedges 1/4' 1/5lb\", \"Apple Granny Peeled & Half Moon 1/8' 1/5lb\", \"Granny Smith Peeled & Diced 1/2' 1/5lb\", \"Granny Smith Peeled & Diced 1/4'1/5lb\", \"Granny Smith Peeled & Sliced 1/4' 1/5lb\", 'French Beans Cleaned 1/5#', 'Green Beans Cleaned 1/5#', 'Beans Green Cut 1\" 1/5lb', \"Beans Green Cut 2' 1/5lb\", 'Beans Green Sliced 1/4\" 1/5lb', 'Yellow Wax Beans Cleaned 1/5#', 'Beets Chiogga Peeled 1/5#', 'Beets Gold Matchsticks 1/5lb', 'Beets Gold Peeled 1/5#', 'Beets Gold Peeled & Diced 1\" 1/5#', 'Beets Gold Peeled & Diced 1/2\" 1/5#', 'Beets Red Matchstick 1/8\" 1/5#', 'Beets Red Peeled 1/5#', 'Beets Red Peeled & Diced 1\" 1/5#', \"Beets Red Peeled & Diced 1/2' 1/5#\", 'Beets Red Peeled & Diced 1/4\" 1/5#', 'Broccoli Floret 1/5lb', 'Broccoli Floret 4/3lb', 'Brussels Sprout Halved 1/5#', 'Brussels Sprout Quartered 1/5#', \"Brussels Sprout Shredded 1/4' 1/5#\", 'Brussels Sprout Sliced 1/8\" 1/5#', 'Cabbage Green Shredded 1/4\" 1/5lb', \"Cabbage Green Shredded 1/8' 1/5lb\", \"Cabbage Green Shredded 1/8' 4/5lb\", 'Cabbage Napa Shredded 1/4\" 1/5#', 'Cabbage Napa Shredded 1/8\" 1/5#', 'Cabbage Red Shredded 1/4\" 1/5lb', \"Cabbage Red Shredded 1/8' 1/5lb\", 'Cabbage Savoy Shredded 1/4\" 1/5lb', \"Cantaloupe Diced 1' 1/5lb\", 'Cantaloupe Diced 1\" (Hand Cut) 1/5 lb', 'Cantaloupe Diced 1\" 4/5 lb', \"Cantaloupe Diced 3/4' 1/5 lb\", \"Cantaloupe Diced 3/4' (Hand Cut) 4/5 lb\", \"Cantaloupe Diced 3/4' 4/5 lb\", 'Carrot Crescents (Half Moon) 1/5#', \"Carrot Diced 1' (Hand Cut) 1/5lb\", \"Carrot Diced 1' 1/5lb\", \"Carrot Diced 1/2' 1/5lb\", 'Carrot Diced 1/4\" 1/5lb', 'Carrot Diced 1/8\" 1/5lb', \"Carrot Diced 3/4' (Hand Cut) 1/5lb\", \"Carrot Diced 3/4' 1/5lb\", \"Carrot Diced 3/8' 1/5lb\", \"Carrot Halfmoon 1/4' (1/5#)\", 'Carrot Julienne  1/5lb', 'Carrot Matchsticks 1/5lb', 'Carrot Matchstick 1/8\" 1/5b', 'Carrot Shredded 1/5lb', 'Carrot Shredded 4/5lb', \"Carrot Sliced (Coin Cut) 1/2' 1/5#\", \"Carrot Sliced (Coin Cut) 1/4' 1/5#\", \"Carrot Sticks 3' X 3/16' 1/5lb\", 'Carrot Stick 4 X 1/2\"  1/5lb', \"Carrot Sticks 3' 1/5lb\", 'Carrot Tri-Color Diced 3/4\" 1/5lb', 'Carrot Tri-Color Slice 3/4\" 1/5lb', 'Carrot Whole Peeled 1/5#', 'Carrot Whole Peeled 2/10#', 'Cauliflower Florets 1/5lb', 'Cauliflower Florets 4/3lb', \"Cauliflower Diced 1/8' 1/5lb\", 'Celery Bias Cut 1/5lb', \"Celery Diced 1' 1/5lb\", \"Celery Diced 1/2' 1/5lb\", \"Celery Diced 1/4' 1/5lb\", 'Celery Diced 1/8\" 1/5lb', \"Celery Diced 3/4' 1/5lb\", \"Celery Diced 3/4' (Hand Cut) 1/5lb\", 'Celery Julienne 1/4\" 1/5#', \"Celery Root Diced 1/2'  1/5lb\", 'Celery Root Diced 1/4\"  1/5lb', 'Celery Root Diced 3/4\"  1/5lb', 'Celery Root Julienne 1/4\" 1/5lb', 'Celery Root Whole Peeled 1/5#', 'Celery Sliced 1/8\" 1/5lb', \"Celery Stick 3' 1/5#\", \"Celery Stick 4' Center Cut 1/5#\", 'Chard Green Chopped 1/5lb', 'Cilantro Leaves 1/1lb', 'Collard Greens Deribbed & Chopped 1\" 1/5#', 'Corn White Husked 48ct.', 'Corn Yellow Cleaned 48ct', 'Corn Yellow Cleaned/Shucked & 3 Cut (Case)', \"Cucumber English Diced 1/4' (1/5#)\", 'Cucumber English Halfmoon 1/2\" (Skin On) (1/5#)', \"Cucumber English Wheel Sliced 1/4' 5#\", 'Cucumber English Sliced 1/8\" 5#', \"Cucumber Diced 1/2' (1/5#)\", 'Cucumber English Wheel 1/8\" 1/1 lb', 'Cucumber Pickling Sliced 1/4\" (1/5#)', \"Cucumber Stick 3' 1/5#\", 'Cucumber Peeled & DeSeeded Stick 3\" (Hand Cut) 1/5#', 'Cucumber Stick 4\"  1/5#', 'Daikon Matchstick 4/5lb', 'Daikon Matchstick 1/5lb', 'Daikon Shredded 1/5lb', 'Eggplant 2.5\"X1/2\"X1/2\" (Skin-On) 1/5lb', 'Eggplant Peeled & Diced 1/2\" 1/5#', 'Eggplant Diced 1/2\" (Skin-On) 1/5#', \"Eggplant Diced 1/4' 1/5#\", \"Fennel Diced 1' (Hand Cut) 1/5#\", 'Fennel Diced 1/2\" 1/5#', \"Fennel Diced 1/4' 1/5#\", \"Fennel Diced 3/4' (Hand Cut) 1/5#\", 'Fennel Julienne 1/4\" 1/5#', 'Fennel Shaved 1/8\" 1/5#', 'Ginger Whole Peeled 1/5lb', 'Grapefruit Section 1/8lb', \"Honeydew Diced 1' 1/5lb\", 'Honeydew Diced 1\" (Hand Cut) 1/5 lb', 'Honeydew Diced 1\" 4/5lb', \"Honeydew Diced 3/4' 1/5lb\", \"Honeydew Diced 3/4' (Hand Cut) 4/5lb\", \"Honeydew Diced 3/4' 4/5lb\", \"Jicama Diced 1/2' 1/5lb\", 'Jicama Shredded 1/5lb', \"Jicama Sticks 4' 1/5lb\", 'Kale Chopped 1/5lb', 'Kale Lacinato Shredded (No Rib) 1/5lb', 'Lacinato Kale Deribbed 1/5lb', \"Kale Shredded 1/4' (No Rib) 1/5lb\", 'Kiwi Peeled & Sliced 1/2\" 1/5#', 'Kohlrabi Peeled & Diced 3/4\" 1/5 lb', \"Leek Diced 1/2' 1/5lb\", \"Leek Diced 1/2'  (White Only) 1/5lb\", \"Leek Diced 1/4' 1/5lb\", 'Leek Diced 1/4\" (White Only) 1/5lb', 'Leek Julienne 2\" x 1/4\" 1/5 lb', 'Lemon Half Moon 1/4\" 1/1 lb', \"Lemon Wheels Sliced 1/2' (Skin-On) 1/5lb\", \"Lettuce Iceberg Shredded 1/4' 4/5lb\", 'Lettuce Iceberg Shredded 1/5lb', \"Romaine Chopped 1' 4/3lb (Harvested: Salinas- /24)\", 'Romaine Heart Chopped 1\" 4/3lb (Harvested: Salinas- /24)', \"Romaine Heart Shredded 1/4' 4/3lb (Harvested: Salinas- /24)\", 'Mango Diced 1\" 1/5 lb', \"Mango Diced 1/2' 1/5 lb\", \"Mango Diced 1/4' 1/5 lb\", \"Mango Diced 3/4' 1/5 lb\", 'Mushroom Button Qtrd 1/5lb', 'Mushroom Crimini Quartered 1/5lb', 'Mushroom Shiitake Destemmed & Quartered 1/5lb', 'Mushroom Shiitake Destemmed Whole 1/5lb', 'Mushroom Shiitake Diced 1/4\" 1/5lb', 'Nopales Cleaned 1/5#', 'Nopales Cleaned & Diced 1/2\" 1/5#', \"Green Onion Chopped 1/4' 1/5lb\", 'Green Onion Sliced 1/8\" 1/5lb', \"Red Onion Diced 1' (Hand Cut) (1/5lb)\", \"Red Onion Diced 1/2' (1/5lb)\", \"Red Onion Diced 1/2' (1/5lb) Hand Cut\", \"Red Onion Diced 1/4' (1/5lb)\", \"Red Onion Diced 1/8' (1/5lb)\", \"Red Onion Julienne 1/4' 1/5lb\", 'Red Onion Julienne 1/8\" 1/5lb', 'Red Onion Peeled & Wedge 4 Cut 1/5#', 'Onion Red Slice Slab 1/4\" 1/5 lb', \"Red Onion Sliced 1/2' 1/5lb\", \"Red Onion Sliced 1/4' 1/5lb\", \"Red Onion Sliced 1/8' 1/5lb\", 'Red Onion Whole Peeled 1/5#', \"White Onion Diced 1/4' (1/5lb)\", 'White Onion Diced 1/8\" (1/5lb)', 'White Onion Julienne 1/4\" 1/5lb', \"White Onion Julienne 1/8'  1/5lb\", 'White Onion Whole Peeled (1/5lb)', \"Yellow Onion Julienne 1/4'  1/5lb\", \"Yellow Onion Julienne 1/8'  1/5lb\", \"Yellow Onion Diced 1' (Stew Cut) (1/5lb)\", \"Yellow Onion Diced 1/2' (1/5lb)\", \"Yellow Onion Diced 1/4' (1/5lb)\", 'Yellow Onion Diced 1/8\" (1/5lb)', 'Yellow Onion Diced 3/4\" (Hand Cut) (1/5lb)', \"Onion Yellow Diced 3/8' 1/5 lb.\", 'Yellow Onion Sliced 1/2\" (1/5lb)', \"Yellow Onion Sliced 1/4' (1/5lb)\", 'Yellow Onion Whole Peeled 1/5#', 'Orange Section 1/8lb', 'Papaya Green Julienne 1/5lb', 'Papaya Green Shredded 1/5lb', 'Parsley Chopped 1/5lb', 'Parsley Cleaned (No Stem) 1/5lb', 'Italian Parsley Cleaned 1/5lb', \"Parsnip Diced 1/2' 1/5lb\", 'Parsnip Sticks 3\" x 1/4\" 1/5lb', 'Parsnip Whole Peeled 1/5lb', 'Snap Peas Cleaned 1/5lb', 'Pear Bartlett Peeled & Diced 1\" 1/5lb', \"Pepper Jalapeno Diced 1/4' No seeds 1/5lb\", \"Pepper Pasilla Diced 1/2' 1/5lb\", 'Pepper Pasilla Diced 1/4\" 1/5lb', 'Pepper Pasilla Julienne 3/8\" 1/5lb', \"Pepper Green Diced 1' 1/5lb\", \"Pepper Green Diced 1/2' 1/5lb\", \"Pepper Green Diced 1/4' 1/5lb\", 'Pepper Green Julienne 1/5lb', 'Pepper Green Rings 1/8\" 1/5lb', 'Pepper Jalapeno Sliced 1/4\" 1/5lb', 'Pepper Jalapeno Sliced 3/8\" 1/5lb', \"Pepper Red Diced 1/2' 1/5lb\", \"Pepper Red Diced 1/4' 1/5lb\", \"Pepper Red Diced 3/4' (Hand Cut) 1/5lb\", 'Pepper Red Fresno Sliced 1/4\" 1/5lb', \"Pepper Red Julienne 1/4' 1/5lb\", 'Pepper Red Rings 1/8\" 1/5lb', \"Pepper Red Stew Cut 1' 1/5lb\", \"Pepper Yellow Diced 1' 1/5lb\", \"Pepper Yellow Diced 1/2' 1/5lb\", \"Pepper Yellow Diced 1/4' 1/5lb\", 'Pepper Yellow Diced 3/4\" (Hand Cut) 1/5lb', \"Pepper Yellow Julienne 1/4' 1/5lb\", 'Pineapple Balls 3/4\" 1/5lb', \"Pineapple Diced 1' 1/5lb\", 'Pineapple Diced 1\" (Hand Cut) 1/5 lb', 'Pineapple Diced 1\" 4/5lb', \"Pineapple Diced 1/2' 1/5lb\", \"Pineapple Diced 1/4' 1/5lb\", \"Pineapple Diced 3/4' (Hand Cut) 4/5lb\", \"Pineapple Diced 3/4' 1/5lb\", 'Pineapple Diced 3/4\" 4/5lb', 'Pineapple Peeled & Cored 2ct', 'Pineapple Quartermoon 1/4\" (1/5 lb)', 'Potato Garnet Whole Peeled 20#', 'Potato Kennebec Fries 3/8\" (Skin On) 1/15 lb', 'Potato Kennebec Sliced 1/16\" 1/20lb', 'Potato Red B Halved Skin On (1/20lb)', 'Potato Red B Quartered Skin On (1/20lb)', 'Potato Red B Wedges 6 Cut 1/20#', 'Potato Red C Quartered Skin On (1/20lb)', \"Potato Red Diced 1/2' (Skin-On) 1/5lb\", \"Potato Russet Dice 1/2' (1/20lb)\", \"Potato Russet Dice 1/2' (1/5lb)\", \"Potato Russet Dice 1/4' (1/20lb)\", \"Potato Russet Peeled & Dice 1' (1/5lb)\", \"Potato Russet Peeled & Dice 3/4' (1/5lb)\", 'Potato Russet Peeled & Quartered 1/20#', 'Potato Russet Shredded  (1/20lb)', 'Potato Russet Peeled & Sliced 1/8\"  (1/20lb)', \"Potato Russet Sliced 1/4'  (1/20lb)\", 'Potato Russet Whole Peeled 90 ct1/20lb', 'Potato Sweet Peeled and Diced 1\" 1/20lb', \"Potato Sweet Peeled and Diced 1/2' 1/5lb\", 'Potato Sweet Whole Peeled 1/20lb', 'Potato Yukon C Peeled & Halved 1/20#', 'Potato Yukon A Whole Peeled 1/20#', 'Potato Yukon A Whole Peeled 1/20# (Hand Peeled)', 'Potato Yukon B Peeled & Quartered 1/20#', 'Potato Yukon B Whole Peeled 1/20#', 'Potato Yukon B Quartered W/ Skin 1/20#', 'Potato Yukon C Peeled & Halved 1/20#', 'Potato Yukon C Quartered W/ Skin 1/20#', 'Potato Yukon Diced 1/2\" Skin On 1/5#', 'Potato Yukon Peeled & Diced 1/2\" 1/20#', \"Potato Yukon Diced 3/4' Skin On 1/5#\", 'Potato Yukon  Peeled & Sliced 1/4\" 1/20#', 'Pumpkin Sugar Pie Peeled & Diced 1\" 1/5#', \"Pumpkin Sugar Pie Diced 1/2' 1/5#\", \"Pumpkin Sugar Pie Peeled & Diced 3/4' 1/5#\", 'Radish Cleaned 1/5lb', 'Radish Shredded 5lb', \"Radish Sliced 1/8' 1/5lb\", 'Rutabaga Whole Peeled 1/5lb', 'Shallot Sliced 1/4\" 1/5lb', 'Squash Butternut Batonette 2\" x 1/2\"  1/5#', \"Squash Butternut Diced 3/4' 1/5#\", \"Squash Butternut Diced 1' 1/5#\", \"Squash Butternut Diced 1/2' 1/5#\", \"Squash Butternut Diced 1/4' 1/5#\", \"Squash Butternut Diced 2' 1/5#\", 'Butternut Peeled, Cleaned &  Halved 1/5#', 'Squash Kabocha Peeled & Diced 3/4\" 1/5lb (Hand Cut)', 'Squash Yellow Diced 1\" (Hand Cut) 1/5 lb', \"Squash Yellow Diced 1/2' 1/5 lb\", \"Squash Yellow Diced 3/4' (Hand Cut) 1/5lb\", 'Squash Yellow Julienne 1/5 lb', 'Squash Zucchini Batons 1/4\" x 2.5\" 5#', 'Squash Zucchini Diced 3/4\" 1/5lb', 'Squash Zucchini Diced 1\" 1/5lb', \"Squash Zucchini Diced 1/2' 1/5lb\", \"Squash Zucchini Julienne 3' x 1/4' 1/5lb\", \"Squash Zucchini Sliced 1/2' (Coin) 1/5lb\", 'Squash Zucchini Plank (Sliced Lengthwise 1/2\") 1/5#', \"Squash Zucchini Stick 4' X 1/4' 1/5lb\", \"Tomato Diced 1/2' 1/5lb\", 'Tomato Diced 3/4\" (Hand Cut) 1/5lb', 'Roma Tomato De-seeded & Diced 1/2\" 1/5lb', \"Roma Tomato Diced 1/2' 1/5lb\", \"Roma Tomato Diced 1/4' 1/5lb\", 'Tomato Roma Sliced 1/4\" 1/5lb', 'Tomato Sliced 1/2\" 1/5lb', 'Tomato Sliced 1/5lb', 'Tomato (4x5) Sliced 1/5lb', 'Turnip Whole Peeled 1/5#', 'Turnips Baby Peeled 1/5#', \"Watermelon Diced 1' 1/5lb\", 'Watermelon Diced 1\" 4/5lb', \"Watermelon Diced 3/4' 1/5lb\", \"Watermelon Diced 3/4' (Hand Cut) 4/5lb\", \"Watermelon Diced 3/4' 4/5lb\", \"Yam Peeled & Diced 1/2' 1/5lb\", \"Yams Peeled & Diced 3/4' 1/5#\", 'Yams Whole Peeled 1/20#', 'Yucca Root Peeled & Shredded 1/5lb', 'Beet Gold Peeled & Diced 1\" 1/5#', 'Beet Red Peeled & Diced 1\" 1/5#', 'Beet Red Peeled & Diced 1/2\" 1/5#', 'Broccoli Florets 1/3#', 'Brussels Sprouts Halved 1/5#', 'Cabbage Green Shredded 1/4\" 1/5#', 'Cabbage Red Shredded 1/4\" 1/5#', 'Cantaloupe Chunk 1\" 1/5#', 'Carrot Diced 1/4\" 1/5#', 'Carrot Shredded 1/5#', 'Carrot Sliced 1/4\" 1/5#', 'Carrot Sticks 1/5#', 'Cauliflower Florets 4/3#', 'Celery Diced 1/4\" 1/5#', 'Celery Sliced 1/4\" 1/5#', 'Celery Sticks 1/5#', 'Cucumber English Sliced 1/4\" 1/5#', 'Grapefruit Sections 4/5#', 'Honeydew Chunk 1\" 1/5#', 'Jicama Sticks 1/5#', 'Mango Peeled & Diced 1\" 1/5#', 'Onion Red Diced 1/4\" 1/5#', 'Onion Red Sliced 1/4\" 1/5#', 'Onion Red Whole Peeled 1/20#', 'Onion Yellow Diced 1/4\" 1/5#', 'Onion Yellow Sliced 1/4\" 1/5#', 'Onion Yellow Whole Peeled 1/30#', 'Orange Sections 4/5#', 'Organic Carrot Shredded 1/5#', 'Pepper Bell Green Diced 1/4\" 1/5#', 'Pepper Bell Green Julienne 1/4\" 1/5#', 'Pepper Jalapeno Diced 1/8\" 1/5#', 'Pepper Pasilla Diced 3/8\" 1/5#', 'Pepper Bell Red Diced 1/4\" 1/5#', 'Pepper Bell Red Julienne 1/4\" 1/5#', 'Pineapple Chunk 1\" 1/5#', 'Lettuce Romaine Chopped 4/3#', 'Kale Chopped 2/5#', 'Shallot Whole Peeled 1/5#', 'Squash Butternut Peeled & Diced 1\" 1/5#', 'Squash Butternut Peeled & Diced 1/4\" 1/5#', 'Squash Yellow Coin Sliced 1/4\" 1/5#', 'Squash Yellow Diced 1/4\" 1/5#', 'Squash Zucchini Coin Sliced 1/4\" 1/5#', 'Squash Zucchini Diced 1/4\" 1/5#', 'Tomato Diced 1/4\" 1/5#', 'Tomato Sliced 1/4\" 1/5#', 'Watermelon Chunk 1\" 1/5#', 'Beet Red Peeled & Diced 1\" 4/5#', 'Celery Diced 1/8\" 4/5#', 'Apple Fuji Diced 1/2\" (Skin-On) 1/5#', 'Apple Fuji Peeled & Wedge 6 Cut (Hand Cut) 1/5#', \"Granny Smith Apple Diced 1/2' (Skin-On) 1/5#\", 'Granny Smith Apple 8 Cut Wedges Skin On 1/5#', 'Apple Sweet Matchstick 1/5#', 'Baby Bok Choy Cleaned & Quartered 1/5lb', \"Bean Green Cleaned 2' 1/5lb\", 'Bean Green Cut/Trimmed 2/5lb', 'Bean Green Diced 1/4\" 1/5lb', 'Bean Green Cleaned (Ends Off) 1/5lb', 'Beet Baby Gold Whole Peeled w/ Top 5#', 'Beet Baby Red Whole Peeled w/ Top 5#', 'Beet Chiogga Diced 3/4\" 1/5lb', \"Beets Gold Diced 1' 1/5#\", 'Beet Gold Diced 1/2\" (1/5 lb)', \"Beet Gold Diced 3/4'' (1/5 lb)\", 'Beet Gold Whole Peeled 5#', 'Beet Red Diced 1\" 1/5lb', \"Beet Red Diced 3/4'' (1/5 lb)\", 'Beets Red Peeled 1/5#', \"Beets Red Peeled & Diced 1/2' 1/5#\", 'Beet Red Stick 3-4\" x 3/8\" (1/5 lb)', 'Broccoli Florets 4/3 lb', 'Brussels Sprout Cleaned & Halved 1/5#', 'Brussels Sprout Cleaned & Halved 4/5#', \"Brussels Sprout Shredded 1/4' 1/5#\", \"Cabbage Diced Plain 1/4'  1/5lb\", \"Cabbage Diced Plain 1/4'  4/5lb\", \"Cabbage Green Shredded 1/4' 1/5 lb\", \"Cabbage Green Shredded 1/4' 4/5 lb\", \"Cabbage Green Chopped 1' 1/6lb\", \"Cabbage Green Shredded 1/16' (Angel Hair) 1/5lb\", \"Cabbage Green Shredded 1/8' (Angel Hair) 4/5lb\", \"Cabbage Green Shredded 1/8' (Angel Hair) 4/5lb\", 'Cabbage Napa Shredded 1/5lb', 'Cabbage Napa Shredded 4/5lb', 'Cabbage Red Angel Hair 1/5lb', 'Cabbage Red Angel Hair 4/5lb', 'Cabbage Red Shredded 1/5lb', 'Cabbage Red Shredded  4/5lb', 'Cantaloupe Chunks 4/5#', 'Cantaloupe Chunks 1/5#', 'Cantaloupe Diced 1/2\" 1/5#', \"Carrot Bias Cut 1/4' 1/5lb\", \"Carrot Bias Tempura Cut 1/4' 4/5lb\", 'Carrot Coin Sliced 1/4\" 1/5 lb', 'Carrot Coin Sliced 1/4\" 4/5lb', \"Carrot  Diced 1/2' 1/5 lb\", \"Carrot  Diced 1/2' 1/6 lb\", \"Carrot  Diced 1/2' 4/5 lb\", \"Carrot Diced 1/4' 1/5 lb\", 'Carrot Diced 1/4\" 1/20 lb', \"Carrot Diced 1/4' 4/5 lb\", 'Carrot Diced 3/4\" 1/5 lb', \"Carrot  Diced 3/8' 1/5 lb\", 'Carrot Diced 3/8\" 4/5 lb', \"Carrot Julienne 1/8' 1/5lb\", 'Carrot Matchsticks 4/5 lb', 'Carrot Shredded (Angel Hair) 1/5lb', \"Carrot Sticks 4' 1/5lb\", 'Carrot Sticks 4\" 4/5lb', 'Carrot Whole Peeled 2/10#', 'Cauliflower Colored Florets 1/5lb', 'Cauliflower Bud (2/3 lb)', 'Cauliflower Florets 1/3#', 'Cauliflower Florets 4/3#', 'Cauliflower Florets 4/5#', 'Cauliflower Rice 1/8\" 1/5#', 'Celery Crescent 1/5lb', \"Celery Diced 1' 1/5lb\", \"Celery Diced 1/2' 1/5lb\", \"Celery Diced 1/2' 1/6lb\", 'Celery Diced 1/2\" 4/5lb', \"Celery Diced 1/4' 1/5lb\", \"Celery Diced 1/4' 4/5lb\", \"Celery Diced 1/8' Brunoise 1/5lb\", \"Celery Diced 3/4' 1/5lb\", \"Celery Diced 3/8' 1/5lb\", \"Celery Diced 3/8' 4/5lb\", 'Celery Root Whole Peeled 1/5lb', \"Celery Sliced 1/4' 1/5lb\", \"Celery Sticks 4' (Denny) 1/5lb\", \"Celery Sticks 4' 1/5lb\", \"Celery Sticks 4' 4/5lb\", 'Celery Sticks 4/5lb', 'Chard Green Chopped 1\" 1/10lb', 'Chard Rainbow Chopped 1\" 2/5lb', 'Cilantro Chopped 1/1 lb', 'Collard Green Chopped (No Ribs) 4/3 lb', 'Corn Cleaned & Shucked 48ct', 'Corn Kernels Cleaned 1/5lb', \"Cucumber Diced 1/2'  Skin On (1/5lb)\", 'Cucumber Diced 1/4\"  Skin On (1/5lb)', \"Pickling Cucumber Sliced 1/2' 1/5lb\", 'Pickling Cucumber Sliced 1/2\" 4/5lb', \"Cucumber Peeled / Sliced 1/4' 1/5lb\", \"Cucumber Peeled / Sliced 1/4' 4/5lb\", \"Cucumber Sliced 1/4' 1/5lb\", \"Cucumber Sliced 1/4' Skin-On 2/5lb\", \"Cucumber Sliced 3/8' Skin On 4/5lb\", 'Daikon Matchstick 1/5lb', 'Daikon Matchstick 4/5lb', 'Daikon Shredded 1/5lb', 'Eggplant Diced 1\" 1/5lb', 'Eggplant Diced 1/2\" 1/5lb', 'Eggplant Sliced 3/8\" (Skin On) 4/5lb', 'Fennel Julienne 1/4\" (1/5 lb)', 'Ginger Whole Peel 1/5#', 'Grape Destemmed & Cleaned 1/5#', 'Grapefruit Segment 1/20lb', 'Grapefruit Segment 1/5lb', 'Grapefruit Segment 2/5lb', 'Grapefruit Wedges 1/3lb', 'Honeydew Chunks 4/5#', 'Honeydew Chunks 1/2\" 1/5#', 'Honeydew Chunks 1/2\" 4/5#', 'Honeydew Chunks 1/5#', 'Jicama Matchstick 1/5lb', 'Jicama Shredded 1/5lb', \"Jicama Sticks 4' 1/5lb\", \"Jicama Sticks 4' 4/5lb\", \"Jicama Sticks 4' 1/5lb\", \"Kale Chopped 1' 1/10 lb\", 'Kale Chopped 1\" 1/5lb', 'Kale Cleaned & Destemmed 1/5#', 'Lacinato Kale Deribbed & Chopped 1\" 1/5 lb', 'Lacinato Kale Chopped 1\" 2/5 lb', 'Kale Deribbed & Shredded 1/5 lb', 'Kale Deribbed & Shredded 4/2.5 lb', 'Kohlrabi Sticks 1/5#', 'Kohlrabi Sticks 4/5#', 'Leeks Diced (Whites Only) 1/5lb', 'Leeks Diced 1/4\" 1/5lb', 'Leeks Julienne 1/5lb', 'Leeks Sliced 1/4\" (White Only) 4/5lb', 'Butter Lettuce Chopped 6/2 lb', 'Lettuce Iceberg Shredded 1/8\" (4/5lb)', \"Lettuce Iceberg Shredded 1/8' (4/5lb)\", \"Romaine Heart Shredded 1/2' 4/3lb (Harvested: Salinas- /24)\", \"Romaine Shredded 1/4'' (4/3lb) (Harvested: Salinas- /24)\", 'Lime Wedge 6 Cut 1/5lb', 'Lime Wedge 6 Cut 4/5lb', \"Mango Peeled & Diced 1' 1/5 lb\", \"Mango Diced 1/4' 1/5 lb\", 'Mango Spears 1/5 lb', 'Nopales Whole Peeled 1/5lb', 'Onion Green Chopped (1/1 lb)', \"Green Onion Chopped 1/4' 1/5lb\", 'Green Onion Diced 1/4\" 1/5lb', \"Red Onion Sliced 1/4' (Denny) 1/5#\", 'Red Onion Diced 1\" 4/5lb', \"Red Onion Diced 1/2' 1/5lb\", \"Red Onion Diced 3/8' 1/5lb\", \"Red Onion Diced 1/4' 4/5lb\", \"Red Onion Diced 1/4' 1/5lb\", \"Red Onion Julienne 1/4' 1/5#\", \"Red Onion Julienne 1/8' 4/5#\", \"Red Onion Julienne 3/8' 1/5#\", \"Red Onion Julienne 1/4' 4/5#\", \"Red Onion Sliced 1/16' 1/5#\", \"Red Onion Sliced 1/4' 1/5#\", 'Red Onion Sliced 1/4\" 1/5#', \"Red Onion Sliced 1/8' 1/5#\", \"Red Onion Sliced 1/8' 4/5#\", 'Red Onion Sliced 3/16\" 1/5#', 'Red Onion Sliced 3/16\" 4/5#', 'Red Onion Sliver (1/5lb)', 'Red Onion Whole Peeled 1/5lb', 'Red Onion Whole Peeled 4/5lb', \"White Onion Diced 1/4' 1/5#\", \"White Onion Diced 1/4' 4/5#\", 'White Onion Julienne 1/4\" 1/5#', \"White Onion Sliced 1/4' 1/5#\", \"Yellow Onion Diced 1/4' (Denny) 1/5#\", \"Yellow Onion Sliced 1/4' (Denny) 1/5#\", \"Yellow Onion Diced 1' 1/5lb\", \"Yellow Onion Diced 1/2' 1/5lb\", \"Yellow Onion Diced 1/2' 1/6lb\", \"Yellow Onion Diced 1/2' 4/5lb\", \"Yellow Onion Diced 1/4' 1/5#\", \"Yellow Onion Diced 1/4' 4/5#\", \"Yellow Onion Diced 1/8' 1/5#\", \"Yellow Onion Diced 3/4' (Machine Cut) 1/5lb\", \"Yellow Onion Diced 3/8' 1/5lb\", \"Yellow Onion Diced 3/8' 4/5lb\", \"Yellow Onion Diced 3/8' 1/5lb\", 'Yellow Onion Julienne 1/2\" 1/5#', \"Yellow Onion Julienne 1/4' 1/5#\", 'Yellow Onion Julienne 1/4\" 4/5#', \"Yellow Onion Sliced 1/4' 1/5#\", 'Yellow Onion Sliced 1/4\" 4/5#', \"Yellow Onion Sliced 1/8' 1/5#\", \"Yellow Onion Sliced 1/8' 4/5#\", 'Yellow Onion Whole Peeled (1/5lb)', 'Yellow Onion Whole Peeled (1/30lb)', 'Orange Segment 1/5#', 'Orange Wedges 8 Cut  4/5#', 'Orange Wedges 8 Cut (Skin On) 1/5#', 'Papaya Green Matchstick 4/5lb', 'Papaya Green Shredded 1/5lb', 'Papaya Spears 1/5lb', 'Parsley Chopped 1/5lb', 'Parsnip Coin Sliced 1/4\" 1/5lb', \"Parsnip Peeled & Diced 1' 1/5lb\", \"Parsnip Diced 1/2' 1/5lb\", 'Parsnip Peeled & Diced 3/4\" 1/5lb', 'Pear Peeled Cored & Halved 1/5lb', 'Snap Peas Cleaned 1/5lb', 'Snow Peas Cleaned 1/5lb', \"Pepper Green Diced 1' 1/5#\", 'Green Bell Pepper Diced 1/2\" (1/5lb)', 'Green Bell Pepper Diced 1/2\" (4/5 lb)', 'Green Bell Pepper Diced 1/4\" (1/5 lb)', 'Green Bell Pepper Diced 3/4\" (1/5 lb)', \"Pepper Green Diced 3/8' 1/5#\", 'Pepper Green Diced 3/8\" 4/5#', 'Pepper Green Julienne 3/4\" X 2\" 1/5lb (HC)', \"Pepper Green Julienne 1/4' 1/5lb\", \"Pepper Green Julienne 3/8' 4/5lb\", 'Pepper Green Julienne 3/8\" 1/5lb', 'Jalapeno Pepper Diced 3/8\" 4/5lb', 'Jalapeno Pepper Diced 1/2#', 'Jalapeno Pepper Diced 1/4\" 4/5lb', 'Pepper Jalapeno Diced 3/8\" 1/5lb', \"Pepper Jalapeno Sliced 1/4' 1/5lb\", \"Pepper Jalapeno Sliced 1/4' 4/5lb\", \"Pepper Pasilla Diced 1/4' 1/5lb\", 'Pepper Pasilla Julienne 4/5lb', 'Pepper Red Diced 1/2\" 1/5#', \"Pepper Red Diced 1/4' 1/5#\", \"Pepper Red Diced 1' 1/5#\", \"Pepper Red Diced 3/4' 1/5#\", \"Pepper Red Diced 3/4' 1/5#\", \"Pepper Red Diced 3/8' 1/5#\", 'Pepper Red Julienne 3/4\" X 2\" 1/5lb (HC)', 'Pepper Red Bell Julienne 1/4\" (4/5lb)', \"Pepper Red Julienne 1/4' 1/5lb\", \"Pepper Red Bell Julienne 3/8'' (1/5lb)\", \"Serrano Pepper Diced 1/4' 1/5#\", 'Pepper Yellow (Gold) Diced 1/2\" 1/5#', 'Pepper Yellow (Gold) Diced 1/4\" 1/5#', \"Pepper Yellow (Gold) Diced 3/8' 1/5#\", 'Pepper Yellow (Gold) Julienne 1/5lb', 'Pineapple Crownless (case)', 'Pineapple Chunks 1/5#', 'Pineapple Chunks 4/5#', 'Pineapple Chunks 1/20#', 'Pineapple Diced 1/2\" 1/5#', 'Pineapple Diced 1/2\" 4/5#', \"Pineapple Diced 1/4' 1/5#\", 'Pineapple Spear 1/5#', 'Potato Red B - 6 Wedge 20# Bucket', 'Potato Red B Quartered (Skin On) 1/20#', \"Potato Red Dice 1' (1/20lb)\", \"Potato Red Diced 1/2' Skin-On (1/20lb)\", \"Potato Red Diced 3/4' Skin-On 1/20lb\", \"Potato Red Diced 3/4' Skin-On 1/5lb\", \"Potato Russet Dice 1/2' (1/5lb)\", \"Potato Russet Dice 1/2' (1/20lb)\", \"Potato Russet Dice 1/4' (1/20lb)\", \"Potato Russet Dice 1' (1/20lb)\", 'Potato Russet Peeled & Quartered (1/20lb)', 'Potato Russet Whole Peeled 1/20#', 'Potato Russet W/P 60Ct 1/20#', 'Potato Russet W/P 80Ct 1/20#', \"Sweet Potato Dice 1' 1/20#\", 'Potato Sweet Peeled & Diced 1/2\" (1/5lb)', \"Potato Sweet Peeled & Diced 3/4' (1/5lb)\", 'Sweet Potato Peeled 1/20#', 'Sweet Potato Peeled & Qtrd 1/20#', \"Potato White Diced 1' w/ Skin 1/20#\", \"Potato Yukon Diced 1' w/ Skin 1/20#\", 'Potato Yukon Diced 1/2\" (Skin On) 1/5#', 'Potato Yukon Diced 3/4\" w/ Skin 1/20#', \"Potato Yukon Gold Diced 1/2' 1/20#\", 'Potato Yukon Gold Whole Peeled 1/20#', \"Potato Yukon Peeled Diced 3/4' 1/20#\", \"Potato Yukon Sliced 1/4' Skin on 1/20#\", 'Potato Yukon Sliced 1/8\" (Skin-On)1/20#', 'Potato Yukon Peeled & Wedged 8 Cut 1/20#', 'Radish Cleaned lb', 'Radish Cleaned 1/5#', 'Radish Cleaned 2lb', 'Radish Diced 1/4\" 1/5lb', 'Radish Sliced 1/5#', 'Radish Watermelon Sliced 1/8\" (Skin-On) 1/5#', \"Rutabaga Diced 1' 1/5lb\", \"Rutabaga Diced 1/2' 1/5lb\", \"Squash Acorn Diced 1' 1/5#\", 'Squash Acorn Diced 1\" (Skin-On) 4/5#', \"Squash Butternut Dice 1' 1/5#\", \"Squash Butternut Dice 1' 4/5#\", \"Squash Butternut Dice 1' 4/5#\", \"Squash Butternut Diced 1/2' 1/5#\", \"Squash Butternut Diced 1/2' 4/5#\", \"Squash Butternut Diced 1/4' 1/5#\", \"Squash Butternut Diced 3/4' 4/5#\", \"Squash Butternut Diced 3/4' 1/5#\", 'Squash Butternut Shredded 1/5#', \"Kabocha Squash Skin On Diced 1' (Hand Cut) 1/5#\", \"Kabocha Squash Skin On Diced 1' (Hand Cut) 4/5#\", 'Squash Yellow Bias Half Moon Sliced 1/4\" 1/5#', \"Squash Yellow Diced 1'' 4/5#\", 'Squash Yellow Diced 1/2\" 1/5#', 'Squash Yellow Half Moon Sliced 1/2\" 4/5#', 'Squash Yellow Half Moon Sliced 1/5#', \"Squash Yellow Half Moon Bias Sliced 1/4' 4/5#\", 'Squash Yellow Half Moon Sliced 1/2\" 1/5#', 'Squash Yellow Quartermoon 3/4\" 1/5lb (HC)', \"Squash Yellow Sliced 1/4'' 1/5#\", 'Squash Zucchini Quartermoon 3/4\" 1/5lb (HC)', \"Squash Zucchini Diced 1' 1/5#\", 'Squash Zucchini Diced 1\" 4/5#', \"Squash Zucchini Diced 1/2' 1/5#\", \"Squash Zucchini Diced 1/2' 1/2#\", \"Squash Zucchini Diced 1/4' 1/5#\", \"Squash Zucchini Halfmoon Bias Cut 1/4' 1/5#\", 'Squash Zucchini Half Moon Sliced 1/2\" 4/5#', 'Squash Zucchini Half Moon Sliced 1/4\" 4/5#', 'Squash Zucchini Half Moon Sliced 1/2\" 1/5#', 'Squash Zucchini Half Moon Sliced 1/5#', 'Squash Zucchini Sliced 1/5#', 'Squash Zucchini Sliced 4/5#', \"Squash Zucchini Sticks 3'' 1/5#\", \"Squash Zucchini Half Moon Bias Sliced 1/4' 4/5#\", \"Tomato Roma Diced 1/4' 1/5 lb\", \"Tomato Roma Diced 1/4' (4/5 lb Tray)\", \"Tomato Roma Diced 3/8' 1/5 lb\", \"Tomato Roma Diced 3/8' 1/5 lb\", \"Tomato Roma Diced 3/8' 4/5 lb\", \"Tomato Roma Diced 3/8' 4/5 lb\", \"Roma Tomato Sliced 1/4' 1/5lb\", \"Tomato Roma Diced 1/4' 1/5 lb\", \"Tomato Sliced 1/4' 1/5lb\", \"Tomato Sliced 1/4' 4/5lb\", \"Tomato Sliced 3/8' 1/5lb\", \"Tomato Sliced 3/8' 4/5lb\", 'Turnips Baby Peel w/Tops 1/5#', 'Turnips Diced 1/2\" 1/5lb', \"Turnips Diced 1' 1/5lb\", 'Turnips Diced 3/4\" 1/5lb', 'Watermelon Chunks 4/5#', 'Watermelon Chunks 1/5#', 'Watermelon Radish Sliced 1/3lb', \"Yam Peeled & Diced 3/4' 1/5lb\", 'Yam Peeled & Diced 1\" 1/20 lb', 'Yam Peeled & Diced 1\" 1/5lb', 'Yam Peeled & Diced 1/2\" 4/5lb', \"Yam Peeled & Diced 3/4' 4/5lb\", 'Yam Stick 1/5#', 'Yam Stick 4/5#', 'Yam Whole Peeled 1/20 lb', 'Cantaloupe Chunks 1/20lb', 'Lettuce Romaine Chopped 1/5lb (Harvested: Salinas- /24)', \"Yam Sticks 4' 1/5lb\", 'Tomato Diced 1/4\" 1/5lb', \"Tomato Sliced 1/4' 1/5lb\", 'Squash Zucchini Sticks 4\" 1/5lb', 'Honeydew Chunks 1/20lb', 'Cucumber Sliced Coin 3/8\" 4/5lb', 'Strawberry Destemmed 1/5lb', 'Watermelon Chunks 1/20lb', 'Cilantro Chopped 1/2.5lb', 'Bean Green Halved 1/5lb', 'Bean Green Halved 4/5lb', 'Squash Zucchini Sticks 4\" x 3/8\" 1/4lb', 'Lettuce Romaine Chopped 4/5lb (Harvested: Salinas- /24)', 'Onion Green Cleaned 1/5lb', 'Pepper Green Diced 4/5lb', 'Broccoli Florets 4/5lb', 'Broccoli Florets 1/5lb', 'Cabbage Green Shredded 4/5lb', 'Cabbage Green Shredded 1/5lb', \"Carrot Sticks 4' 1/5lb\", \"Carrot Coins Sliced 1/4' 1/5lb\", 'Carrot Shredded 1/5lb', 'Cauliflower Bud 4/5lb', \"Celery Sticks 4' 4/5lb\", \"Celery Sticks 4' 1/5lb\", \"Celery Diced 1/4' 4/5lb\", \"Celery Diced 1/4' 1/5lb\", 'Cucumber Sliced 3/8\" (Skin On) 2/5lb', 'Cucumber Sliced 3/8\" (Skin On) 1/5lb', 'Jicama Sticks 4\" 4/5lb', 'Lettuce Iceberg Shredded 4/5lb', 'Lettuce Iceberg Shredded 1/5lb', 'Lettuce Romaine Chopped 1/2lb (Harvested: Salinas- /24)', 'Lettuce Romaine Chopped 6/2lb (Harvested: Salinas- /24)', 'Onion Yellow Diced 3/8\" 4/5lb', 'Onion Yellow Diced 1/4\" 1/5lb', 'Onion Yellow Sliced 1/4\" 4/5lb', 'Onion Yellow Sliced 1/4\" 1/5lb', 'Spinach Cleaned 4/2.5lb', 'Squash Zucchini Coins 4/5lb', 'Squash Zucchini Coins 1/5lb', \"Tomato Diced 1/4' 2/5lb\", 'Pineapple Chunk 1\" 4/2.5lb', 'Cantaloupe Chunk 1\" 4/2.5lb', 'Honeydew Chunk 1\" 4/2.5lb', 'Watermelon Chunk 1\" 4/2.5lb', 'Cabbage Red Shredded 1/4\" 4/5lb', 'Onion Red Sliced 1/4\" 1/5lb', 'Broccoli Florets 1/3lb', 'Pepper Red Bell Diced 1/4\" 1/5lb', 'Cabbage Red Shredded 1/4\" 1/5lb', 'Pepper Green Bell Julienne 1/4\" 1/5lb', 'Pepper Red Bell Julienne 1/4\" 1/5lb', 'Pepper Green Bell Diced 1/4\" 1/5lb', 'Pepper Green Bell Julienne 1/4\" 2/5lb', 'Pepper Red Bell Julienne 1/4\" 2/5lb', 'Carrot Diced 1/4\" 1/5lb', 'Cauliflower Florets 1/5lb', \"Celery Bias Cut 3/4' 1/5lb\", 'Pepper Jalapeno Diced 1/4\" 1/5lb', 'Lettuce Romaine Shredded 1/5lb (Harvested: Salinas- /24)', 'Onion Yellow Diced 3/8\" 1/5lb', 'Onion Green Diced 1/4\" 1/5lb', 'Onion Red Diced 1/4\" 1/5lb', 'Squash Yellow Coins 1/5lb', 'Radish Sliced 1/4\" 1/5lb', 'Carrot Stick 4\" 4/5lb', 'Pepper Jalapeno Diced 1/4\" 4/5lb', 'Lettuce Romaine Shredded 4/5#', 'Onion Yellow Diced 1/4\" 4/5lb', 'Onion Red Sliced 1/4\" 4/5lb', 'Pepper Red Bell Diced 1/4\" 2/5lb', 'Radish Sliced 1/4\" 4/5lb', 'Squash Butternut Peeled & Diced 1\" 4/5lb', 'Tomato Sliced 1/4\" 2/5lb', 'Lettuce Iceberg Chopped 4/5lb', 'Rutabaga Diced 1/2\"1/5lb', 'Turnip Sticks 4\" 1/5lb', 'Pineapple Chunk 1\" 24/4oz', 'Mango Chunk 4/2.5lb', 'Cucumber Diced 1/4\" 1/5lb', 'Squash Zucchini Sticks 4\" 4/5lb', 'Yam Sticks 4\" 4/5lb', 'Pea Sugar Snap 1lb', \"Potato Russet Peeled Diced 1/4' 1/5lb\", 'Lettuce Romaine Shredded 6/2lb (Harvested: Salinas- /24)', 'Pepper Jalapeno Sliced 1/4\" 1/5lb', 'Carrot Diagnial Cut 1/5lb', 'Onion Yellow Whole Peeled 1/5lb', 'Kale Chopped 1/5lb', 'Lettuce Romaine Shredded 1/2lb (Harvested: Salinas- /24)', 'Jicama Chunks 4/5lb', 'Daikon Peeled & Sliced 1/4\" 1/5lb', 'Kale Shredded 4/5lb', 'Kale Shredded 1/5lb', 'Potato Sweet Peeled & Diced 1/2\" 1/5lb', 'Beet Red Matchstick 1/5lb', 'Broccoli Florets 4/3lb', 'Squash Butternut Diced 1/4\" 1/5lb', 'Cilantro Chopped 1lb (Bag)', 'Cauliflower Florets 1/3lb (Bag)', 'Honeydew Chunks 2/5lb', 'Cauliflower Florets 2/3lb', 'Jicama Sticks 4\" 1/5lb', 'Pineapple Chunks 1/20lb', 'Cantaloupe Chunk 1/5lb', 'Honeydew Chunk 1/5lb', 'Watermelon Chunk 1/5lb', 'Onion Green Chopped 1/4\" 1/1lb', 'Lemon Wedges 1/5lb', 'Orange Section 1/5lb', 'Kiwi Quartered (Skin-On)1/5lb', 'Grape Red Cleaned 1/5lb', 'Jicama Matchstick 2/5lb', 'Orange Wedge 50/4 oz', 'Pineapple Chunks 1/5lb', 'Cilantro Cleaned 1/5lb', 'Red Beet Halfmoon Sliced 1/4\" 1/5lb', 'Broccoli Florets 4/3lb', 'Carrot Diced 1/2\" 1/20lb', 'Carrot Diced 1/2\" 1/5lb', 'Carrot Diced 1/4\" 1/5lb', 'Carrot Diced 3/4\" 1/20lb', 'Carrot Diced 3/4\" 1/5lb', 'Carrot Diced 3/8\" 1/20lb', 'Carrot Diced 3/8\" 1/5lb', 'Carrot Double Diced 1/8\" 1/5lb', 'Carrot Matchstick 1/5lb', 'Carrot Plugs 1/10lb', 'Carrot Coin Sliced 1/4\" 1/5lb', 'Carrot Coin Sliced 1/8\" 4/5lb', 'Cauliflower Florets 4/3lb', 'Celery Diced 1/2\" 1/20lb', 'Celery Diced 1/2\" 1/5lb', 'Celery Diced 1/4\" 1/5lb', 'Celery Diced 3/4\" 1/5lb', 'Celery Diced 3/8\" 1/20lb', 'Celery Diced 3/8\" 1/5lb', 'Celery Stalk Cleaned 1/10lb', 'Chard Green/Swiss Cleaned 1/10lb', 'Cilantro Cleaned 1/5lb', 'Cucumber Diced 1/4\" 1/5lb', 'Cucumber Halfmoon Sliced 1/4\" 1/5lb', 'Cucumber Pickling Sliced 1/8\" 4/5lb', 'Eggplant Sliced 1/2\" Lengthwise 1/5lb', 'Fennel Diced 3/8\" 1/5lb', 'Ginger (Repack) 1/5lb', 'Jicama Diced 3/4\" 1/5lb', 'Onion Green Chopped 1/4\" 1/5lb', 'Onion Red Diced 1/2\" 1/5lb', 'Onion Red Diced 1/4\" 1/5lb', 'Onion Red Julienne 4/5lb', 'Onion Yellow Diced 1/2\" 1/20lb', 'Onion Yellow Diced 1/2\" 1/5lb', 'Onion Yellow Diced 1/4\" 1/5lb', 'Onion Yellow Diced 3/4\" 1/20lb', 'Onion Yellow Diced 3/8\" 1/20lb', 'Onion Yellow Diced 3/8\" 1/5lb', 'Onion Yellow Julienne 1/2\" 1/5lb', 'Onion Yellow Whole Peeled 1/20lb', 'Parsley Chopped 1/5lb', 'Pepper Green Bell Diced 1/4\" 1/5lb', 'Pepper Green Bell Julienne 1/5lb', 'Pepper Pasilla Diced 3/8\" 1/5lb', 'Pepper Red Bell Diced 1/4\" 1/5lb', 'Pepper Red Bell Julienne 1/5lb', 'Pepper Yellow Bell Julienne 1/5lb', 'Red Potato Diced 1\" (Skin-On) 1/20lb', 'Red Potato Diced 3/4\" 1/20lb', 'Red Potato Diced 3/4\" 1/5lb', 'Potato Red Quartered 1/20lb', 'Potato Red #2 Sliced 1/4\" (Skin-On) 1/20lb', 'Potato Yukon Gold Diced 3/4\" (Skin-On) 1/20lb', 'Potato Yukon Gold Diced 3/4\" (Skin-On) 1/5lb', 'Radish Sliced 1/4\" 1/5lb', 'Spinach 1/4lb', 'Squash Butternut Diced 3/4\" 1/5lb', 'Squash Yellow Julienne 3\" X 1/4\" 1/5lb', 'Squash Zucchini Diced 1/2\" 1/5lb', 'Squash Zucchini Diced 1/4\" 1/5lb', 'Squash Zucchini Julienne 3\" X 1/4\" 1/5lb', 'Tomato Cherry Cleaned 1/5lb', 'Tomato Diced 1/2\" 1/5lb', 'Turnip Halfmoon Sliced 1/4\" 1/5lb', 'Yam Peeled & Diced 3/4\" 1/5lb', 'Yam Peeled & Diced 3/4\" 1/20lb', 'Yam Peeled & Diced 1\" 1/20lb', 'Yam Peeled & Diced 1\" 1/5lb', 'Cabbage Red Shredded 1/8\" 20/8oz', 'Grape Red 50/3.00 oz', 'Honeydew Chunks (Clamshell) 24/5oz', 'Watermelon Chunks (Clamshell) 24/5oz', 'Cantaloupe Chunks (Clamshell) 24/5oz', 'Pineapple Chunks (Clamshell) 24/5oz', 'Broccoli Florets 50/1.11oz', 'Cucumber Coin 100/2.16oz', 'Mango Chunk 100/2 oz', 'Jicama Sticks 100/2.4oz', 'Pineapple Chunks 100/2.70oz', 'Orange Wedge 100/4.7 oz', 'Cauliflower Florets 100/1.75 oz', 'Broccoli Florets 100/1.1 oz', 'Cantaloupe Chunks 100/2.65oz', 'Honeydew Chunks 100/3.00 oz', 'Pepper Bell Red Slice/Stick 100/1.76oz', 'Tomato Grape 100/2.60oz', 'Squash Zucchini Coins 100/2.34 oz', 'Watermelon Chunks 100/3.2oz', 'Strawberry (2 oz) (100CT)', 'Orange Blood Wedge 100/4.4 oz', 'Yam Sticks 100/2.00 oz', 'Kiwi Wedges 100/2 oz', 'Kiwi Red Wedges 100/2 oz', 'Pea Snow 50/2 oz', 'Celery Sticks 50/3 oz', 'Celery Stick 100/1.25 oz', 'Cucumber Coins 100/1.25 oz', 'Broccoli Florets 50/1.1 oz', 'Jicama Stick 3\" 12/10oz', 'Jicama Sticks 100/1.25 oz', 'Celery Stick 100/2.50 oz', 'Jicama Sticks 100/2.50 oz', 'Carrot Sticks 4\" 8/10oz', 'Mango Chunks (Clamshell) 12/8oz', 'Celery Sticks 12/10 oz', 'Cucumber Coins 100/2.50 oz', 'Grape Cello 100/3oz (School Year:Q2)', 'Squash Zucchini Sticks 50/3.0 oz', 'Celery Sticks 50/3.0 oz', 'Cantaloupe Chunks 100/4.00oz', 'Broccoli Florets 50/3.00oz', 'Jicama Sticks 50/3.0 oz', 'Yam Sticks 50/3.00oz', 'Squash Zucchini Coins 50/2.00 oz', 'Squash Zucchini Sticks 50/2.0 oz', 'Celery Stick IW 50/2oz', 'Cucumber Coin 3/8\" 50/3 oz', 'Celery Sticks 50/3.12 oz', 'Celery Sticks 50/2.65 oz', 'Carrot Celery Combo 50/2.0 oz', 'Celery Stick 150/1.6 oz', 'Grape Red 150/2.25 oz', 'Pineapple Spears 50/2.7 oz', 'Orange Wedge 50/4.7 oz', 'Pineapple Chunks 48/2oz', 'Honeydew Chunks 48/2oz', 'Mango Chunks 48/2oz', 'Watermelon Chunks 48/2.0 oz', 'Cantaloupe Chunks 48/2oz', 'Orange Wedges 50/3 oz ..(Product of USA)', 'Broccoli Florets 50/2 oz', 'Jicama Sticks 50/2oz', 'Sugar Snap Pea 50/2.00 oz', 'Squash Yellow Stick 50/2.00 oz', 'Cucumber Coin 50/2 oz', 'Tomato Grape 50/2.0oz', 'Broccoli Florets 50/2 oz', 'Jicama Sticks 50/2oz', 'Pea Snap 50/2 oz', 'Pineapple Spear 50/2.70oz', 'Grape Red 150/2.25 oz', 'Orange Wedges 50/3 oz', 'Cantaloupe Chunks 48/2oz', 'Honeydew Chunks 48/2oz', 'Mango Chunks 48/2oz', 'Pineapple Chunks 48/2oz', 'Squash Zucchini Sticks 50/2.0 oz', 'Yam Sticks (2 oz) (50CT)', 'Cucumber Coin 50/2 oz', 'Yam Sticks (2 oz) (50CT)', 'Beet Red Quartermoon Sliced 1/4\" 50/2.00 oz', 'Turnip Quartermoon Sliced 1/4\" 50/2.00 oz', 'Rutabaga Quartermoon Sliced 1/4\" 50/2.00 oz', 'Watermelon Chunks 24/4.0 oz', 'Broccoli Florets 50/2oz', 'Cucumber Coin 50/4oz', 'Tomato Cherry 50/2.00oz', 'Celery Stick IW 50/2.3 oz', 'Cucumber Coin 50/2.58 oz', 'Cucumber Coin 3/8\" 50/3.87 oz', 'Tomato Grape 50/2.7oz', 'Cantaloupe Chunks 48/3.00 oz', 'Honeydew Chunks 48/3.00 oz', 'Mango Chunk 48/3 oz', 'Watermelon Chunks 48/3oz', 'Orange Wedge 50/7.05 oz', 'Daikon Chips 48/2oz', 'Watermelon Spears 24/2.7 oz', 'Carrot Sticks 50/3.0 oz', 'Pea Snow 50/2 oz', 'Cantaloupe Chunks 50/2.7oz', 'Grape Cello IW 100/2.75oz (School Year:Q1)', 'Broccoli Florets 50/1.11oz', 'Squash Yellow Coin 50/2.56 oz', 'Jicama Sticks 50/2.4 oz', 'Cantaloupe Chunks 50/4.75 oz', 'Broccoli Florets 100/2oz', 'Honeydew Chunks 50/3.00 oz', 'Watermelon Chunks 50/3.2oz', 'Pineapple Chunks IW 50/2.70oz', 'Cucumber Coins 100/1.08 oz', 'Honeydew Chunks 100/3.00 oz', 'Jicama Chunk 100/2.4 oz', 'Kiwi Quartered 100/2 oz', 'Pepper Red Bell Julienne 100/2 oz', 'Pepper Orange Bell Julienne 100/.88 oz', 'Broccoli Florets 100/.55 oz', 'Kiwi Quartered 100/3 oz', 'Squash Zucchini Coins 100/2.34 oz', 'Tomato Grape 100/1.3 oz', 'Tomato Grape 100/1.3oz', 'Watermelon Chunks 100/3.2oz', 'Celery Sticks 2\" (2 oz) (100CT)', 'Watermelon Chunks 100/2.0 oz', 'Yam Sticks (2 oz) (100CT)', 'Cucumber Coin 100/2.6oz', 'Squash Zucchini Coin 100/1.17 oz', 'Tomato Grape 100/2.6oz', 'Grapefruit Wedges 100/2oz', 'Grapefruit Wedges 100/4oz', 'Kiwi Wedged 100/4 oz', 'Orange Blood Wedges 100/2oz', 'Orange Navel Wedges 100/2oz', 'Orange Wedges 100/4.00 oz', 'Orange Valencia Wedges 100/2oz', \"Pear D'Anjou Sliced 100/2 oz\", 'Persimmon Wedge 100/2oz', 'Strawberry 100/4oz', 'Celery Stick 100/3.42 oz', 'Romaine Chopped 100/2.4 oz', 'Bean Green 100/1.65 oz', 'Broccoli Florets 100/3.2 oz', 'Garbanzo Bean 100/3 oz', 'Honeydew Chunks 100/6.00 oz', 'Orange Wedges 100/4.7oz', 'Persimmon Wedge 100/2oz', 'Kiwi Quartered 100/1.5 oz', 'Grapes Red No Stem (1.45 oz) (100CT) (School Year:Q3)', 'Strawberry (2 oz) (100CT)', 'Broccoli Florets 100/1.1 oz', 'Cantaloupe Chunks 100/2.65oz', 'Cauliflower Florets 100/1.75 oz', 'Cauliflower Florets 100/.88 oz', 'Cauliflower Floret 100/2.60 oz', 'Celery Stick 100/2.28oz', 'Cucumber Coin 100/2.16oz', 'Mandarin Sliced 50/2.00 oz', 'Orange Wedge 100/4.7 oz', 'Tomato Grape 100/1.3oz', 'Blueberry 50/2oz', 'Blueberry 100/4oz', 'Cantaloupe Chunks 100/2.00oz', 'Celery Stick 100/4 oz', 'Cucumber Coins 150/2.00 oz', 'Cucumber Coin 100/4oz', 'Grape Red 150/2.00 oz', 'Honeydew Chunks 100/2 oz', 'Honeydew Chunks 100/4 oz', 'Honeydew Grape 100/2 oz', 'Mango Chunks 100/2.00 oz', 'Mango Chunks 100/4.00 oz', 'Orange Wedges 100/4.00 oz', 'Papaya Mexican Chunk 1\" 100/2.0oz', 'Pear Asian Sliced 100/2 oz', 'Yam Sticks 100/4.00 oz', 'Watermelon Chunks 100/4.0 oz', 'Radish Slices 100/4oz', 'Radish Slices 100/2oz', 'Pineapple Chunk 100/4oz', 'Pineapple Chunk 100/2oz', 'Pear Bosc Sliced 100/4 oz', 'Pear Bosc Sliced 100/2 oz', 'Sugar Snap Pea 100/2.00 oz', 'Mandarin Sliced 100/2.00 oz', 'Strawberry Hondeydew 100/2.00 oz', 'Strawberry 100/2oz', 'Pear Barlett Sliced 100/4 oz', 'Raspberry 100/2 oz', 'Celery Sticks 2\" 1/2 Cup (2.28 oz) (100CT)', 'Carrot Coins 100/2.60 oz', 'Carrot Coins 100/3.65 oz', 'Strawberry 50/2oz', 'Orange Wedges 50/4.00 oz', 'Pepper Red Julienne 50/2 oz', 'Kiwi Quartered 50/2 oz', 'Watermelon Chunks 50/2.0 oz', 'Celery Sticks 2\" (2 oz) (50CT)', 'Celery Sticks 2\" (2 oz) (50CT)', 'Cantaloupe Chunks 50/2.00oz', 'Orange Blood Wedges 50/2oz', 'Persimmon Wedge 50/2oz', 'Grape Red 50/2.00 oz', 'Celery Stick 50/4 oz', 'Mango Spears 100/2.90 oz', 'Grape Red 100/4.00 oz', 'Cauliflower Floret 50/2oz', 'Cantaloupe Chunks 50/4.00oz', 'Dragon Fruit Wedges 100/2.00oz', 'Grape Red 100/2.00 oz', 'Grape Red 50/4.00 oz', 'Pear Bosc Sliced 50/2 oz', \"Pear D'Anjou Sliced 50/2 oz\", 'Raspberry 50/2 oz', 'Pepper Red Julienne 50/4 oz', 'Pea Snap 50/4 oz', 'Squash Zucchini Coins 100/2.00 oz', 'Radish Quartered 50/2.35oz', 'Blueberry 100/2oz', 'Cantaloupe Chunks 100/1.33oz', 'Celery Stick 100/1.14 oz', 'Jicama Sticks 100/2.4 oz', 'Orange Wedge 100/2.35 oz', 'Pepper Red Julienne 100/1.75 oz', 'Pepper Sweet Whole 100/1.75 oz', 'Pineapple Spears 100/2.7oz', 'Pea Snow 100/2.80 oz', 'Snap Peas 100/1.4 oz', 'Strawberry Hondeydew 50/2.00 oz', 'Orange Valencia Wedges 50/2oz', 'Grapefruit Wedges 50/2oz', 'Squash Zucchini Coins 50/2.56 oz', 'Strawberry 50/4oz', 'Radish Slices 50/2oz', 'Celery Sticks 50/3.5 oz', 'Orange Navel Wedges 50/2oz', 'Honeydew Chunks 50/2 oz', 'Honeydew Chunks (Clamshell) 12/8oz', 'Pineapple Chunks (Clamshell) 12/8oz', 'Cantaloupe Chunks (Clamshell) 12/8oz', 'Watermelon Chunks (Clamshell) 12/8oz', 'Celery Sticks 100/1.14oz', 'Celery Sticks 50/1.25 oz', 'Cucumber Coin 100/1.08oz', 'Cucumber Coin 100/2.16oz', 'Cucumber Coin 50/1.50 oz', 'Jicama Sticks 100/1.20 oz', 'Jicama Sticks 100/2.40 oz', 'Orange Wedge 50/4.7 oz', 'Tomato Grape 50/1.3oz', 'Squash Zucchini Coins 100/2.0 oz', 'Broccoli Florets 100/1.1 oz', 'Cucumber Coin 100/2oz', 'Jicama Sticks 100/2.40 oz', 'Kiwi Wedges 100/2oz', 'Cantaloupe Chunk 100/2.65 oz', 'Honeydew Chunks 100/2.65 oz', 'Orange Wedge 100/3.0 oz', 'Pineapple Chunks 100/2.70oz', 'Celery Stick 100/2.28oz', 'Celery Stick 100/2.28oz', 'Broccoli Florets 100/1.1 oz', 'Squash Zucchini Coin 100/2.34oz', 'Pea Snap 50/2 oz', 'Cantaloupe Chunk 100/2.65 oz', 'Honeydew Chunks 100/3.00 oz', 'Orange Wedge 100/4.70 oz', 'Pineapple Chunks 100/2.70 oz', 'Grape Cello IW 100/2.75oz (School Year:Q4)', 'Jicama Chunk 100/2.4 oz', 'Yam Sticks 100/2.65 oz', 'Pineapple Chunks 50/2.70 oz', 'Mango Chunk 50/3.00 oz', 'Pea Snap 100/2 oz', 'Tomato Grape 100/2.6 oz', 'Carrot Coin 100/2.0oz', 'Blueberry 100/2.50oz', 'Dragon Fruit Chunk 1\" 100/2.50oz', 'Raspberry 100/2.20oz', 'Golden Gooseberry 100/2.00oz', 'Golden Kiwi Wedges 100/3.00oz', 'Broccoli Floret 100/1.10oz', 'Broccoli Floret 50/2.20oz', 'Celery Stick 100/2.28oz', 'Cucumber Coins 100/2.16oz', 'Grape Red 100/2.75 oz', 'Honeydew Chunk 100/3.00oz', 'Jicama Sticks 50/2oz', 'Orange Wedge 100/4.70oz', 'Pea Snap Sugar 50/2.00oz', 'Pineapple Chunks 100/2.70oz', 'Tomato Grape 100/2.6 oz', 'Watermelon Chunk 100/2.00 oz', 'Watermelon Chunk 50/3.00 oz', 'Watermelon Chunk 50/4.00 oz', 'Broccoli Floret 1/2 Cup 100ct', 'Cantaloupe Chunk 100/2.65 oz', 'Cauliflower Florets 50/1.76 oz', 'Celery Bites 1/2 Cup 100ct', 'Grape Red Single 1/2 Cup 100ct', 'Honeydew Chunks 100/3.00 oz', 'Orange Wedges 1/2 Cup 4.7oz 50ct', 'Pineapple Chunks 100/2.70oz', 'Squash Zucchini Coins 100/2.34 oz', 'Cilantro Chopped 1/5#', 'Daikon Shredded 1/8\" 1/5#', 'Potato Yukon Gold Diced 1/2\" (Skin-On) 1/20#', 'Corn Yellow Cleaned & Husked 48ct', 'Celery Bias Cut 1/2\" 1/5#', 'Pepper Red Diced 1\" 1/5lb', 'Onion Yellow Diced 1/4\" 4/5#', 'Onion Red Sliced 1/4\" 1/5lb', \"Onion Yellow Diced 1/4' 1/5#\", 'Onion Yellow Diced 1/8\" 4/5#', \"Tomato Sliced 1/4' 5#\", \"Carrot Diced 1/2' 5#\", 'Squash Yellow Diced 1\" 1/5#', 'Squash Zucchini Diced 1\" 1/5#', 'Onion Yellow Sliced 1/4\" 5#', \"Onion Red Diced 1/8' 2/5#\", 'Pepper Green Diced 5/16\" 1/5lb', 'Tomato Diced 5/16\" 1/5lb', 'Onion Green Diced 5/16\" 1/5lb', 'Cauliflower Florets 4/3lb', 'Bean Green Cleaned & Trimmed 2/5#', 'Jicama Stick 5#', \"Onion Yellow Diced 1/2' 4/5#\", 'Tomato Diced 1/4\" 1/5lb', 'Potato Russet Sliced 1/8\" (Skin On) 1/5lb', 'Onion Yellow Diced 1/2\" 1/5lb', \"Carrot Shredded 1/8' 5#\", 'Brussels Sprouts Halved 4/5#', 'Celery Sticks 4/5#', \"Pepper Red Bell Julienne 1/4' 1/5#\", 'Pepper Green Diced 1\" 1/5#', 'Celery Diced 9/16\" 1/5#', \"Squash Butternut Diced 1/2' 4/5#\", \"Pineapple Chunk 1' 1/5#\", \"Honeydew Chunk 1' 5#\", 'Cauliflower Florets 4/3#', 'Carrot Coin Sliced 1/4\" 1/5#', 'Squash Yellow Sliced Halfmoon 1/2\" 1/5#', 'Kale Shredded 4/2.5#', 'Onion Yellow Diced 1/8\" 1/5lb', 'Butternut Squash Peeled & Diced 1/2\" 1/5lb', 'Onion White Diced 1/4\" 1/5#', 'Celery Stick 4\" 4/5#', 'Potato Russet Peeled & Sliced 1/8\" 1/20 lb', \"Honeydew Chunk 1' 1/5#\", 'Onion White Diced 1/8\" 1/5#', 'Squash Zucchini Coin Sliced 1/4\" 1/5#', 'Pepper Red Diced 3/4\" 1/5lb', 'Onion Red Slab Cut 1/4\" 1/5#', 'Squash Butternut Peeled & Cut 2\" 5#', 'Pepper Yellow Diced 1\" 1/5#', 'Squash Butternut Peeled & Diced 1\" 1/5#', 'Beans Green (case)', 'Carrot Sticks 4/5#', 'Potato Russet 90ct', \"Celery Diced 1/2' 5#\", 'Cabbage Red Shredded 1/8\" 4/5lb', 'Pepper Green Bell Julienne 1/8\" 5#', 'Cantaloupe Chunk 1\" 1/5#', 'Organic Bok Choy Diced 1/4\" lb', 'Cabbage Green Diced 1\" lb', 'Cabbage Green Diced 1/4\" lb', 'Yellow Onion Diced 3/4\" lb.', 'Broccoli Floret 1/3lb', 'Broccoli Floret 4/3lb', 'Cauliflower Floret 1/3lb', 'Cauliflower Floret 4/3lb', 'Cucumber Coin 1/4\" (Skin-On) 1/5lb', 'Jicama Stick 1/5lb', 'Mango Stick 1/5lb', 'Onion Green Chopped 1/4\" 1/5lb', 'Squash Zucchini Coin 1/5lb', 'Carrot Plugs 2\" lb', 'Carrot Plugs 4\" lb', 'Onion Green 4/2#', 'Onion Green 4/4#', 'Onion Yellow Whole Peeled lb', 'Organic Bean Green Cleaned & Trimmed 1/5lb', 'Broccoli Florets 4/3lb', 'Brussels Sprouts Shaved 1/10lb', 'Organic Cabbage Green Shredded 15#', 'Napa Cabbage Shredded 1/4\" (24/4oz)', 'Napa Cabbage Shredded 1/8\" 4/5lb', 'Organic Cabbage Red Shredded 15#', 'Organic Cabbage Savoy Shredded 15#', 'Organic Carrot Coin 1/2\" 2/5#', 'Organic Carrot Coin 1/2\" 4/5#', 'Organic Carrot Diced 1/2\" 1/20lb', 'Organic Cauliflower Florets 1\" 4/3#', 'Organic Cauliflower Rice 1/8\" 4/5#', 'Organic Celery Halfmoon Sliced 1/4\" 1/5lb', 'Organic Celery Sliced 1/4\" 1/5lb', 'Celery Sticks 1/5lb', 'Organic Chard Rainbow Chopped 1/10#', 'Organic Collard Greens Destemmed & Chopped 1\" 1/10lb', 'Organic Kale Destemmed & Chopped 1/10lb', 'Kale Lacinato DeRibbed & Chopped 4/2.5lb', 'Organic Kale Shredded 1/10lb', 'Leek Coin Sliced 1/4\" 1/5lb', 'Organic Leek Coin Sliced 1/4\" (White Only) 1/5lb', 'Mushroom Portobello Sliced 1/4\" 1/5lb', 'Organic Mushroom Portobello Sliced 1/4\" 1/5lb', 'Organic Onion Red Diced 1/2\" 1/20#', 'Organic Onion Red Julienne 1/8\" 1/20#', 'Organic Onion Yellow Diced 1/4\" 1/20#', 'Onion Yellow Diced 1/2\" 1/20#', \"Organic Onion Yellow Diced 1/2' 1/20#\", \"Organic Onion Yellow Julienne 1/4' 1/20#\", 'Organic Pepper Green Diced 1/2\" 1/5#', 'Organic Pepper Jalapeno Diced 1/8\" 1/5lb', 'Organic Pepper Red Diced 1/2\" 1/5#', 'Organic Pepper Red Julienne 1/2\" 1/5#', 'Organic Pepper Red Julienne 1/4\" 1/5#', 'Organic Sweet Potato Peeled & Sliced 1/2\" 1/5#', 'Organic Potato Peeled & Diced 1/2\" 1/5lb', 'Organic Squash Butternut Peeled & Diced 1/2\" 1/20#', 'Squash Butternut Peeled & Diced 3/4\" 1/20#', 'Organic Squash Butternut Peeled & Diced 3/4\" 1/20#', \"Organic Squash Zucchini Halfmoon 1/2' 1/5lb\", 'Organic Tomato Diced 1/4\" 1/5#', 'Apple Granny Smith 8 Cut Wedge (Skin On) 1/5lb', \"Cabbage Red Thinly Slice 1/4'' 1/5lb\", \"Pepper Red Bell Med Dice 1/2'' 1/5lb\", \"Cantaloupe Triangle 2.5''x1.25''x1.25'' 70ea. 1/5lb\", \"Carrot Half Moon Bias Cut 1/4'' 1/5lb\", \"Carrot Med Dice 1/2'' 1/5lb\", \"Carrot Small Dice 1/4'' 1/5lb\", \"Pineapple Chunk 1'' 1/5lb\", 'Leek Julienne (White Only) 1/5lb', \"English Cucumber Skin On Sliced 1/4''  1/5lb\", \"Onion Red Small Dice 1/4'' 1/5lb\", \"Honeydew Chunk 1'' 1/5lb\", \"Onion White Small Dice 1/4'' 1/5lb\", \"Squash Yellow Half Moon Bias 1/4'' 1/5lb\", \"Onion Yellow Small Dice 1/4'' 1/5lb\", 'Radish Red Quartered 1/5lb', \"Tomato 6x7  Slice 1/4'' 1/5lb\", 'Tomato Roma 4 Cut (Quartered) 1/5lb', \"Tomato Roma Dice 1/2'' 1/5lb\", \"Tomato Roma Slice 1/4'' 1/5lb\", \"Squash Zucchini Half Moon Bias Cut 1/4'' 1/5lb\", \"Honeydew Wedge 4''x1'' 45ea. 1/5lb\", \"Honeydew Triangle 2.5''x1.25''x1.25'' 70ea. 1/5lb\", 'Lemon Wedge 8 Cut 26ea. 1/5lb', \"Mango Dice 1/4' 1/5lb\", \"Zucchini Half Moon Sliced 1/4'' 1/5lb\", \"Mushroom Shitake Slice 1/4'' 1/5lb\", 'Potato Fingerling Cut Bias Halved 1/20lb', 'Potato Red B Wedge 4 Cut 1/20lb', \"Potato Russet Med Dice 1/2'' 1/20lb\", \"Potato Sweet Dice Med 1/2'' 1/20lb\", 'Potato Yukon Whole Peeled 1/20lb', \"Pepper Red Bell Julienne 1/4' 1/5lb\", \"Cantaloupe Chunk 1'' 1/5lb\", \"Squash Butternut Dice 3/4'' 1/5lb\", 'Grapefruit Segments (Peeled & Sections)  1/5 lb', \"Lemon Sliced Skin On 1/8' 26ea. 1/5lb\", \"Watermelon Chunk 1'' 1/5lb\", \"Watermelon Slice 2.25' x 5/8' (1/5lb)\", \"Cantaloupe Slice 2.5' x 1' 60ea.  1/5lb\", \"Cantaloupe Diced 1/4'  1/5lb\", \"Papaya Green Diced 3/4'  1/5lb\", 'Strawberry Halves No Stems 1/5lb', \"Pineapple Diced 1/4' 1/5lb\", \"Watermelon Diced 1/2' 1/2lb\", \"English Cucumber Sliced 1/8'' Skin On 1/5lb\", \"Romaine Chopped 1' 4/3lb (Harvested: Salinas- /24)\", \"Orange Cartwheel (Peeled & Sliced) 1/4' 110ea. 1/5lb\", \"Watermelon Slice 2.5' x 3/4' 60ea. 1/5lb\", \"Watermelon Triangle 3''x2''x1/2'' 1/3lb\", \"Apple Red Diced 1/4'  1/2lb\", \"Carrot Flower 1''x1/4'' 1lb\", \"Carrot Julienne 3' x 1/4'  1/5lb\", \"Pepper Red Small Diced 1/4' 1/5lb\", 'Bok Choy QTR 1/5lb', 'Potato Chateau 1oz. 1/5lb', \"Tomato Roma Small Dice 1/4' 1/5lb\", 'Haricot Beans Trimmed/Clean 1/5lb', \"Mushroom Shitake Dice 1/2' 1/5lb\", \"Onion Yellow Julienne 1/4' 1/5lb\", 'Potato Russet Whole Peeled 1/20lb', \"Pepper Green Dice 1/2' 1/5lb\", \"Squash Yellow Half Moon 1/4' 1/5lb\", \"Shallot Sliced 1/4' 1/5lb\", \"Squash Zucchini Med. Dice 1/2' 1/5lb\", \"Carrot Julienne 3' x 1/4' 1/5lb\", \"English Cucumber Small Diced 1/4'' Skin On 1/5lb\", 'Pineapple Spear 1/5lb', \"Celery Root Diced 1/2' 1/5lb\", 'Squash Butternut Flowers 1/1lb', 'Tomato Cherry Halved 1/5lb', \"Parsnip Batonette 2' x 3/8'  1/5lb\", 'Kiwi Wedge 6 Cut (110 ea) 1/5lb', 'Tomato Roma Wedge 6 Cut 1/5lb', \"Cucumber English Diced 1/2' Skin On 1/5lb\", \"Papaya Wedge 2.5' x 3/4' 1/3lb\", 'Potato Sweet (Yam) Whole Peeled 1/20lb', \"Squash Butternut Stew Cut 1' 1/5lb\", \"Onion Red Julienne 1/8' 1/5lb\", \"Cantaloupe Spear 4' 1/5lb\", \"Pineapple Chunk 3/4' 1/5lb\", \"Honeydew Slice 2.5''x3/4'' 1/5lb\", \"Celery Diced 1/2' 1/5lb\", 'Snap Pea Cleaned 1/5lb', \"Potato Yukon Peeled & Sliced 1/4' 1/20lb\", 'Carrot Roll Cuts 1/5lb', \"Pepper Yellow Diced 1/4' 1/5lb\", \"English Cucumber Bias Cut 1/4' Skin On 1/5lb\", 'Ginger Whole Peeled 1/2lb', \"Onion Red Sliced 1/4' 1/5lb\", \"Carrot Batonette 2' x 1/4' 1/2lb\", \"Fennel Diced 1/2' 1/5lb\", \"Squash Chayote Peeled & Quartered Sliced 1/4' 1/5lb\", 'Onion Green Chopped 1/5lb', \"Pepper Yellow Diced 3/4' 1/5lb\", 'Potato Red B Wedge 6 Cut 1/5lb', \"Kai Lan Bias Cut 3' 1/5lb\", 'Chard Green Chopped 1/5lb', 'Radish Sliced 1/5lb', \"English Cucumber Batonnet 2' x 1/4' (Skin On) 1/5lb\", \"Squash Yellow Bias Cut 1/4' 1/5lb\", 'Lime Wedge 8 Cut 1/5lb', \"Potato Russet Sliced 1/8' 1/5lb\", \"Potato Red Diced 1/2' Skin On 1/5 lb\", \"Pineapple Triangle 2' x 3' x 3' 1/5lb\", \"Honeydew Triangle 2' x 3' x 3' 1/5lb\", \"Honeydew Slice 2.25' x 5/8' 1/5lb\", 'Turnip Baby Peeled w/ Tops 1/2 lb', 'Snow Pea Cleaned 1/5 lb', \"Cantaloupe Triangle 2' x 3' x 3' 1/5 lb\", \"Pineapple Spears 4' x 1/2' (1/5 lb Tray)\", 'Broccoli Florets 1/3lb', 'Potato Fingerling Cut Bias Halved 1/5 lb', \"Cabbage Green Chopped 1.5' x 1.5' 1/5 lb\", \"Bok Choy Baby Bias Cut 1' 1/5 lb\", \"Watermelon Triangle 2.5' x 1.25' x 1.25' 1/5lb\", 'Apple Gala Wedge 8 Cut 1/5 lb', \"Potato Yukon Peeled & Diced 1/2' 1/5lb\", 'Beet Baby Gold Peeled 1/5 lb', 'Tomato Roma Halved 1/5 lb', 'Mushroom Button QTR 1/5 lb', 'Potato Red A Whole Peeled 1/5 lb', \"Carrot Diced 1/8' 1/5 lb\", \"Squash Zucchini Coin Cut 1/4' 1/5 lb\", \"Pepper Green Diced 1' (1/5 lb)\", 'Snap Pea Cleaned (1/5 lb)', \"Asparagus Green Peeled Cut 3' (1/5 lb)\", \"Potato Yukon Peeled & Sliced 1/4' (1/5lb)\", 'Orange Segment (Peeled & Sections) (1/5 lb)', \"Onion White Diced 1/2' (1/5 lb)\", \"Onion White Sliced 1/4' (1/5 lb)\", 'Pepper Red Diamond Cut (3 Gram) (1/2lb)', 'Pepper Red Triangle Cut (7 Gram) (1/2lb)', 'Pepper Yellow Triangle Cut (7 Gram) (1/2lb)', \"Onion Red Diced 1/2' (1/5lb)\", 'Celery Root Whole Peeled (1/5lb)', \"Potato Russet Diced 1/4' (1/20lb)\", 'Potato Yukon A Wedge 6 Cut (1/5lb)', \"Eggplant Diced 1/2' 1/5lb\", \"Pineapple Diced 1/2'' 1/5lb\", 'Yam Whole Peeled 1/5lb', \"Potato Yukon Peeled & Sliced 1/8' (1/5lb)\", 'Beet Gold Baby Peeled w/ Tops & Cored 1/5lb', \"Pepper Red Diced 3/4' 5 lb\", \"Onion Red Julienne 1/4' (1/5 lb)\", 'Pepper Red Triangle Cut (3g) (1/2lb)', \"BROCCOLINI CUT 3' (Tops Only) 1/5#\", \"SQUASH ZUCCHINI RIBBON CUT 1/8' X 3/4' (MANDOLINE) 1/5LB (NO SEEDS)\", 'Mango Green Matchsticks (1/5 lb Tray)', 'Potato Yukon B Wedges 4 Cut (1/5 lb)', \"Lettuce Iceberg Chopped 1' 4/5lb\", \"Onion Yellow Diced 1/2' 1/5lb\", \"Pepper Green Julienne 1/4' 1/5lb\", 'Carrot Diamond Cut (3 Gram) 1/2lb', \"Pepper Yellow Julienne 2' X 1/4' 1/5lb\", \"Pepper Red Julienne 2' X 1/4' 1/5lb\", \"Squash Butternut Diced 1/2' 1/5lb\", \"Mushroom Button Sliced 1/4' 1/5lb\", \"Celery Diced 1/4' 1/5lb\", 'Bean Haricot Trimmed Stem End Only 1/5lb', \"Squash Butternut Batonnet 2' X 1/4' 1/5 lb\", \"Mango Sliced 2.5' X 3/4' 5 LB Tray\", 'Celery Root Sliced 1/8\" Slab 1/5lb', \"Onion Green Bias Cut 1/4' 1/5lb\", 'Papaya Green Julienne 1/2lb', \"Fennel Julienne 1/8' (1/5lb)\", \"Potato Russet Batonette 2.5'X1/2' (1/5lb)\", 'Radish Red Matchsticks (1/5lb)', \"Carrot Bias Cut 1/4' (1/5lb)\", 'Kale Green Deribbed & Cleaned (1/5lb)', 'Tomato Wedge 6x7 6 Cut (1/5lb)', 'Beet Gold Baby Peeled W/Top & Quartered 1/5lb', 'Beet Red Baby Peeled W/Top & Quartered 1/5lb', \"Jicama Batonette 2.5' X 1/4' 1/5lb\", \"Potato Yam Peeled & Diced 1/2' (1/5lb)\", \"Pepper Fresno Red Sliced 1/8' (1/5lb)\", \"Onion Green Batons 2' (1/5lb)\", \"Beet Red Peeled & Diced 1/2' (1/5lb)\", \"Watermelon Ball 1' 1/2lb\", \"Apple Red Peeled & Diced 1/4' (1/5lb)\", 'Pepper Green Triangle Cut (3g) (1/2lb)', \"Carrot Halfmoon 1/4' 1/5lb\", \"Squash Kabocha Peeled & Diced 1/2' 1/5lb\", 'Pepper Yellow Triangle (3 Gram) 1/2lb', 'Squash Zucchini Roll Cut 1/5lb', \"Mango Chunks 1' (1/5lb)\", 'Carrot Bias Cut 3/4\" 1/5lb', 'Beet Baby Red Peeled & Halved (1/5lb)', 'Turnip Baby Peeled & Halved 1/5lb', 'Parsnip Peeled & Roll Cut (Oblique) 1/5lb', 'Tomato 6X6 4 Cut Wedged 1/5lb', 'Onion Green Sliced 1/2\" (1/5lb)', 'Onion Green Sliced 1/8\" (1/5lb)', 'Onion Green Julienne (1/5lb)', 'Potato Fingerling Bias Cut 1\" (Skin On) 1/20lb', 'Pepper Green Diced 1/8\" (1/5lb)', 'Potato Yukon Plank 3\" x 1\" (1/5lb)', 'Papaya Green Diced 1/8\" (1/5lb)', 'Honeydew Diced 1/8\" (1/5lb)', 'Lotus Root Whole Peeled (1/5lb)', 'Tomato Diced 3/8\" 1/5lb', 'Apple Green Peeled & Diced 3/8\" 1/5lb', 'Eggplant Japanese Diced 3/8\" 1/5lb', 'Leek Diced 3/4\" 1/5lb', 'Squash Yellow Diced 3/8\" 1/5lb', 'Dragonfruit Diced 3/4\" 1/5lb', 'Cauliflower Florets Mini 4/3lb', 'Apple Gala Wedge 8 Cut (Skin On) 1/5lb', 'Tomato Deseeded & Diced 1/2\" 1/5lb', 'Carrot Rainbow Bias Cut 1/4\" 1/5lb', 'Papaya Mexican Diced 1/4\" 1/5lb', 'Shallot Diced 1/8\" 1/5lb', 'Mango Dice 3/4\" 1/5lb', 'Potato Purple Sliced 1/8\" (Skin On) 1/20lb', 'Turnip Baby Peeled & Quartered (1/5lb)', 'Jicama Matchsticks (1/5lb)', 'Potato Red Peeled & Diced 1\" (1/5lb)', 'Apple Fuji Matchsticks (1/5lb)', 'Yam Matchsticks (1/5lb)', 'Potato Yukon Peeled French Fries 3\" x 1/2\" (1/5lb)', 'Eggplant Japanese Sliced 1\" 1/5lb', 'Watermelon Diced 1/2\" 1/5lb', 'Lemon Wedge 16 cut 1/5lb', 'Rutabaga Peeled & Sliced 1/4\" 1/5lb', 'Watermelon Radish Halfmoon 1/4\" 1/5lb', 'Nagaimo Flower 54ea 1/1lb', 'Pineapple Chunk 1\" 1/20lb', 'Pineapple Chunk 1\" 4/5lb', 'Honeydew Chunk 1\" 4/5lb', 'Chard Red Destemmed & Chopped 1\" 1/5lb', 'Jicama Flower 15GM 1/1lb', 'Carrot Baby Peeled & Halved (1/5lb)', 'Onion Red Pearl (1/5lb)', 'Apple Fuji Wedge 8 Cut (Skin On) (1/5lb)', \"Apple G/S Peeled & Diced 1/4' 1/5lb\", 'Beet Baby Striped Peeled (1/5lb)', 'Beet Gold Baby Peeled (1/5lb)', \"Beet Gold Peeled & Diced 1/2' (1/5lb)\", 'Beet Gold Peeled (1/5lb)', 'Beet Red Baby Peeled (1/5lb)', \"Beet Red Diced 1' 1/5lb\", \"Beet Red Diced 1/2' 1/5lb\", 'Beet Red Peeled Large (1/5lb)', 'Brussels Sprouts Halved (1/5lb)', \"Brussels Sprouts Shaved 1/8' (1/5lb)\", \"Cabbage Green Diced 1/4' (1/5 lb)\", \"Cabbage Green Shredded 1/8' (1/5lb)\", 'Cabbage Green Wedges 6 cut 1/5lb', \"Cabbage Green & Red Shredded 1/8' (50/50) (1/5lb)\", \"Cabbage Napa Shredded 1/4' 1/5lb\", \"Cabbage Napa Shredded 1/8' 1/5lb\", \"Cabbage Red Shredded 3/16' 1/5lb\", 'Cactus Leaves Nopales Cleaned 1/5lb', \"Cantaloupe Chunks 1' 1/20lb\", 'Cantaloupe Chunks 1/5lb', 'Cantaloupe Chunks (1/5lb Tray)', 'Carrot Bias Cut 1/5lb', \"Carrot Bias Cut 3/8' 1/5lb\", 'Carrot Bias Cut Half Moon 1/5lb', \"Carrot Diced 1' 1/5lb\", 'Carrot Julienne 1/8\" 1/5lb', 'Carrot Matchstick 1/5lb', \"Carrot Matchstick 1/8' 1/5lb\", \"Carrot Matchstick 4' x 1/8' 1/5lb\", 'Carrot Whole Peeled 1/10lb', \"Celery Diced 1' 1/5lb\", \"Celery Diced 1/2' 1/5lb\", 'Celery Diced 3/4\" 1/5lb', \"Celery Stalk 8' 1/5lb\", 'Celery Stick 4\" x 3/8\" 1/5lb', \"Chard Green Diced 1' (1/5lb)\", 'Cilantro Chopped 1/5lb', \"Collard Green Chopped 2' (2/5lb)\", 'Corn Kernals (1/5 lb)', \"English Cucumber Sliced 1/8'' w/ Skin 1/5lb\", \"English Cucumber Matchstick 1/8' 1/5lb\", 'Daikon Shredded 1/5lb', \"Eggplant Grill Cut (Lengthwise) 1/4' (1/5lb)\", \"Fennel Diced 1/4'' PC (1/5 lb)\", 'Ginger Whole Peeled 1/1lb', \"Honeydew Chunks 1' 1/20lb\", 'Honeydew Chunks 1/5lb', 'Honeydew Chunks (1/5lb Tray)', 'Kale De-Ribbed 1/10lb', 'Kale Shredded 1/4\" 1/10lb', \"Leek Diced 1/4'' TPC (1/5 lb)\", \"Lime Wheels Sliced 1/8'' (Skin On) (1/5 lb)\", 'Mango Diced 1/2\" 1/5lb', \"Mango Diced 1/4' 1/5lb\", 'Mushroom Shitake Large Cap Quartered (1/5 lb)', \"Mushroom Shitake Sliced 1/8'' (1/5 lb)\", \"Red Onion Diced 1' (1/5lb)\", \"Red Onion Diced 1/4' (1/5lb)\", \"Red Onion Diced 1/4' (5# Tray)\", \"Red Onion Diced 1/2' (1/5lb)\", \"Red Onion Julienne 1/4' 1/5lb\", \"Red Onion Slab 1/4' (1/5lb)\", \"Red Onion Slab Cut 1/8' (4/5lb)\", \"Red Onion Sliced 1/4' 1/5lb\", 'Red Onion Whole Peeled (1/30lb)', \"Yellow Onion Diced 1' (1/5lb)\", \"Yellow Onion Julienne 3/8' 1/5lb\", \"Onion Yellow Slab Cut 1/4' (1/5lb)\", 'Yellow Onion Whole Peeled (1/5lb)', 'Orange Segment 1/5lb', \"Orange Sliced Wheel Skin On 1/4' 1/5lb\", \"Orange Wheels 1/8' 1/5lb\", \"Papaya Green Shredded 1/8'' (1/5lb)\", \"Papaya Mexican Chunks 1' 4/5lb\", \"Parsnip Diced 1' 1/5lb\", \"Parsnip Diced 1/2' 1/5lb\", 'Pear Bartlett Wedged 8 Cut (Skin-On) 1/5lb', 'Peas Sugar Snap Cleaned 1/5lb', \"Pepper Green Julienne 1/4'' (1/5lb)\", \"Pepper Green Julienne 1/4' 4/5lb\", \"Pepper Yellow Diced 1/4' 1/5lb\", \"Pepper Yellow (Gold) Julienne 1/4' 1/5lb\", \"Pineapple Chunk 1' 1/5lb\", \"Pineapple Chunk 3/4' 1/20lb\", \"Pineapple Diced 1/2' (1/5lb)\", \"Pineapple Diced 1/4' 1/5lb\", 'Potato Peeled & Quartered 1/20lb', \"Potato Red 'B' Quartered 1/20lb\", \"Potato Red Diced 1/2'  Wtr (1/20lb)\", \"Potato Red Diced 1/2'  Skin-On (1/20lb)\", \"Potato Red Diced 3/4' Skin-On  1/20lb\", 'Potato Red Wedges 1/20lb', 'Potato Russet Whole Peeled 1/20lb', \"Potato Sliced 1/4' Skinless 1/5lb\", 'Potato Sweet Whole Peeled 1/20lb', \"Potato Yukon Diced 1' w/ Skin 1/20#\", \"Potato Yukon Diced 3/4' Skin On 1/20#\", 'Radish Cleaned 1/5lb', 'Radish Daikon Shredded 1/5lb', 'Radish Shredded 1/5lb', 'Radish Sliced 1/5lb', \"Rutabaga Diced 1'' (1/5 lb)\", 'Squash Acorn Diced 1\" (Skin-On) (4/5 lb)', \"Squash Butternut Diced 1/2' 1/5 lb\", \"Squash Butternut Diced 1/2' 1/5 lb\", \"Squash Butternut Diced 1/4' 1/5 lb\", 'Squash Butternut Peeled Halves 1/5 lb.', \"Squash Yellow Crescent 1/4' 1/5 lb\", \"Squash Yellow Bias Cut 1/2' 1/5 lb\", \"Squash Zucchini Diced 1/2' 1/5 lb\", 'Squash Zucchini Halfmoon Sliced 3/8\" 1/5lb', 'Squash Zucchini Coin 3/8\" 1/5 lb', \"Squash Zucchini Diced 1/4' 1/5 lb\", \"Turnip Diced 1/2' (1/5lb)\", 'Watermelon Chunk (Tray Pack) 4/5lb', 'Celery Sticks 4\" 10/2lb', 'Onion Yellow Diced 1/4\" 4/5lb', \"Apple Granny Smith Peeled & Diced 1/4' 1/5lb\", 'Apple Granny Smith Peeled & Sliced 1/2\" 1/5lb', 'Apple Red Wedged 8 Cut 5/1lb', 'Green Beans (Case)', 'Baby Bok Choy Quartered (1/5lb)', 'Bok Choy Chopped (1/5lb)', 'Bok Choy Quartered (1/5lb)', 'Broccoli Floret 4/3 lb', 'Brussels Sprout Cleaned & Halved 1/5 lb', \"Brussels Sprout Shredded 1/4' (1/5 lb)\", 'Cabbage Green Diced 1/8\" 4/5 lb', \"Cabbage Napa Shredded 1/4' 1/5lb\", 'Cabbage Red Shredded 4/5lb', \"Cantaloupe Chunk 1' (1/5lb)\", \"Cantaloupe Chunk 1/2' 4/5lb\", \"Carrot Batonette 2'X1/4' 1/5lb\", 'Carrot Bias Cut 1/8\" (4/5lb)', \"Carrot Coin Cut 1/4'' (4/5lb)\", \"Carrot Coin Cut 3/16'' (1/5lb)\", \"Carrot Coin Cut 3/16'' (4/5lb)\", \"Carrot Diagonal Cut 1/4' (1/5lb)\", \"Carrot Diced 1/2'' (1/5lb)\", \"Carrot Diced 1/4'' (1/5lb)\", 'Carrot Shredded 1/8\" (4/5lb)', 'Carrot Shredded 1/5lb', 'Carrot Stew Cut (4/5lb)', 'Carrot Stick  (1/5lb)', \"Carrot Stick 4'' (4/5lb)\", 'Cauliflower Floret (4/3 lb)', 'Celery Crescent Cut (1/5lb)', \"Celery Diagonal Cut 1/4' 1/5lb\", \"Celery Diced 1/4' (1/5lb)\", \"Celery Diced 1/8' (1/5lb)\", \"Celery Diced 3/8' (4/5lb)\", \"Celery Stalk 12'' (1/10lb)\", 'Celery Stick 2\" (4/5lb) (Hand Cut)', \"Celery Stick 4'' (4/5lb)\", \"Celery Stick 4' (4/5 lb)\", 'Cilantro Chopped 1/1lb', 'Cilantro Chopped 1/5lb', 'Corn White Cleaned & Husked (1/12ct)', \"Cucumber Diced 1/4' 1/5lb\", 'Cucumber Peeled & Sliced 1/5lb', 'Cucumber Pickling (Case)', \"Cucumber Sliced 1/4' (Skin On) 4/5lb\", 'Daikon Sticks 4\" 1/5lb', \"Garlic Diced 1/8' (1/4 lb)\", 'Ginger Whole Peeled 1/5lb', 'Grapefruit Section 1/8 lb', 'Grapes Red De-Stemmed 1/5#', \"Honeydew Chunk 1' (1/5lb)\", 'Honeydew Diced 1/2\" 4/5lb', 'Jicama Stick 1/5lb', 'Kiwi Peeled & Sliced 1/5lb', 'Leek Slice 1/5lb', 'Romaine Shredded 4/3lb (Harvested: Salinas- /24)', \"Mango Peeled & Diced 1/2' 1/5lb\", 'Mango Slice 1/5lb', 'Nopales Cleaned and Destemmed 1/10 lb', 'Onion Green Diced 1/2lb', \"Onion Green Diced 1/4' 1/5lb\", \"Onion Red Diced 1/2' 1/5lb\", \"Onion Red Diced 1/4' 1/5lb\", 'Onion Red Diced 1/8\" 1/5lb', \"Onion Red Diced 3/8' 1/5lb\", 'Onion Red Diced 3/8\" 4/5lb', \"Onion Red Julienne 1/4' 1/5lb\", \"Onion Red Shredded 1/8' (1/5lb)\", 'Onion Red Sliced 1/16\" (1/5lb)', \"Onion Red Sliced 1/8' (1/5lb)\", \"Onion Red Slice Slab 1/8' (4/5lb)\", \"Onion Red Sliced 1/4' (2/5lb)\", \"Onion White Diced 1/4' 1/5lb\", 'Onion White Julienne 1/5lb', \"Onion Yellow Julienne 1/4' 2/5lb\", \"Onion Yellow Julienne 1/4' 1/5lb\", \"Onion Yellow Diced 1/2' 1/5lb\", \"Onion Yellow Diced 1/4' 1/5lb\", \"Onion Yellow Diced 1/8' 2/5lb\", 'Onion Yellow Diced 1/8\" 1/5lb', \"Onion Yellow Diced 3/8' 2/5lb\", \"Onion Yellow Slab 1/4' w/ CNTR 4/5lb\", 'Onion Yellow Sliced 1/16\" 1/5lb', \"Onion Yellow Sliced 1/4' 1/5lb\", \"Onion Yellow Sliced 1/8' 1/5lb\", \"Onion Yellow Slivered 1/8' 1/5lb\", \"Onion Yellow Stew Cut 1' 1/5lb\", 'Onion Yellow Stew Cut 1\" 4/5lb', 'Onion Yellow Whole Peeled 1/30 lb', 'Onion Yellow Whole Peeled 1/30lb', 'Orange Section 1/8 lb', 'Parsley Chopped 1/1 lb', 'Parsley Chopped 5/1 lb', 'Parsley Italian Chopped 4/1 lb', \"Pepper Green Diced 1/2' 1/5lb\", \"Pepper Green Diced 1/4' 1/5lb\", 'Pepper Green Julienne 1/5lb', 'Pepper Green Pizza Cut 1/4\" 4/5lb', \"Pepper Jalapeno Sliced 1/4' 1/5lb\", \"Pepper Red Diced 1/2' 1/5lb\", \"Pepper Red Diced 1/4' 1/5lb\", 'Pepper Red Julienne 1/5lb', \"Pepper Red Stew Cut 1' (1/5lb)\", \"Pepper Yellow (Gold) Julienne 1/4' 1/5lb\", \"Pineapple Chunk 1' 1/5 lb\", 'Pineapple Chunk 1/2\" 1/5 lb', 'Pineapple Chunk 2\"X2\" 1/5 lb', \"Pineapple Chunk 3/4' 1/5 lb\", 'Pineapple Ring Sliced 1/4\" 1/5 lb', 'Pineapple Ring Sliced 3/8\" 1/5 lb', 'Pineapple Spear 4\" 1/5 lb', 'Potato Baking Foil Wrap 80ct', 'Potato Baking Foil Wrap 90ct', \"Potato Diced 1/2' 1/20lb\", 'Potato Russet Peeled & Sliced 1/8\" 1/20 lb', 'Potato Red Whole Peeled (In Water) 1/20 lb', 'Potato Sweet Quartered 4/5lb', 'Potato Whole Peeled in Water 1/20 lb', \"Potato Yam Sweet Diced 1' 1/5lb\", 'Potato Yukon Whole Peeled 1/20 lb', 'Radish Cleaned 1/5 lb', 'Radish Red Sliced 1/5 lb', 'Squash Butternut Diced 1\" 4/3lb', \"Squash Butternut Diced 1' 4/5lb\", 'Squash Butternut Diced 1\" 1/5lb', \"Squash Butternut Diced 1/2' 2/5lb\", 'Squash Butternut Diced 3/4\" 12/2lb', 'Squash Butternut Diced 3/4\" (4/5lb)', 'Squash Yellow Diced 1/2\" 1/5lb', \"Squash Yellow Half Moon 1/2' 1/5lb\", 'Squash Zucchini Sliced/Coins 1/2\" 1/5lb', \"Squash Zucchini Half Moon 1/2' 1/5lb\", 'Squash Zucchini Sliced/Coins 1/5lb', \"Squash Zucchini Diced 1/2' (1/5lb)\", \"Squash Zucchini Sticks 4' (1/5lb)\", \"Tomato Diced 1/2' (1/5lb)\", \"Tomato Diced 1/2' (2/5lb)\", \"Tomato Diced 3/8' (1/5lb)\", 'Tomato Roma Sliced 3/16\" (1/5lb)', 'Tomato Slice (1/5lb)', 'Tomato Slice (2/5lb)', \"Tomato Sliced 3/16' (1/5lb)\", 'Tomato Wedged 8 Cut (1/5lb)', 'Watermelon Chunk 1/5lb', 'Watermelon Chunk 4/5lb', 'Watermelon Spear 1/5lb', 'Yam Peeled & Diced 1\" 1/5lb', 'Yam Peeled & Diced 1\" 4/5lb', 'Yam Stick  (1/5lb)', \"Beet Gold Diced 1/4' 1/5lb\", 'Brussel Sprouts Cleaned & Halved (1/5lb)', 'Cabbage Green chopped 2\" (4/5lb)', \"Cabbage Green Shredded 1/4'' w/Color Layered (4/5lb)\", \"Cabbage Green Shredded 1/8'' (4/5lb)\", \"Cantaloupe Chunk 1/2' 4/5lb\", \"Carrot Coin Cut 1/4'' (4/5lb)\", \"Carrot Diced 1/2'' (1/5lb)\", 'Carrot Julienne 1/5lb', \"Celery Diced 1/2' (1/5lb)\", 'Celery Diced 1/4\" (1/5lb)', 'Celery Stalk (1/5 lb)', \"Celery Stick 4' (4/5 lb)\", 'Collard Green Chopped 1/5lb', 'Collard Green Chopped 6/2lb', 'White Corn Shucked 1/48ct', \"Cucumber Sliced 1/2' (1/5 lb)\", 'Radish Daikon Julienne 3/16\" 4/5lb', \"Garlic Diced 1/8' (1/4 lb)\", \"Honeydew Chunk 1' (1/5lb)\", 'Jicama Stick 4\" (1/5 lb)', 'Mustard Green Washed & Cleaned (1\" Stem) 6/2lb', 'Onion Green Diced 1/2lb', \"Onion Green Diced 1/4' 1/5lb\", \"Onion Red Diced 1/4' 1/5lb\", 'Onion Red Diced 1/4\" 2/5lb', 'Onion Red Julienne 1/4\" 1/5lb', \"Onion Red Slice Slab 1/8' (4/5lb)\", 'Onion Red Slivered 1/8\" (2/5lb)', 'Onion Red Whole Peeled 1/5lb', \"Onion White Diced 1/4' 1/5lb\", \"Onion Yellow Julienne 1/4' 2/5lb\", 'Onion Yellow Julienne 1/4\" 4/5lb', 'Onion Yellow Diced 1/2\" 4/5lb', \"Onion Yellow Diced 1/4' 1/5lb\", 'Onion Yellow Diced 1/4\" 4/5lb', 'Onion Yellow Diced 3/8\" 1/5#', 'Onion Yellow Diced 3/8\" 4/5lb', \"Onion Yellow Sliced Slab 1/4' 1/5lb\", 'Onion Yellow Sliced 1/8\" 4/5lb', 'Onion Yellow Slivered 3/16\" 4/5 lb', 'Onion Yellow Whole Peeled 1/30lb', 'Onion Yellow Whole Peeled 1/5lb', \"Pepper Green Diced 1/2' 1/5lb\", 'Pepper Green Julienne (1/5 lb)', 'Pepper Green Pizza Cut 1/4\" 4/5lb', 'Pepper Jalapeno Diced 1/4\" 1/5lb', 'Pepper Jalapeno Sliced 3/8\" 1/5lb', \"Pepper Red Diced 1/2' (1/5 lb)\", 'Pepper Red Julienne (1/5 lb)', \"Pepper Red Stew Cut 1' 1/5lb\", 'Pepper Serrano Diced 1/8\" 1/5lb', \"Pepper Yellow (Gold) Julienne 1/4' 1/5lb\", 'Pineapple Chunk 1\" 1/5 lb', 'Pineapple Peeled Cored & Halved 2ct', 'Pineapple Spears 1/5lb', 'Potato Sweet Peeled & Diced 1/2\" 4/5lb', 'Potato Sweet Peeled & Diced 3/4\" (1/5lb)', 'Potato Whole Peeled in Water (1/20lb)', 'Potato Yukon Whole Peeled (1/20lb)', 'Pumpkin Peeled & Diced 3/4\" (1/5lb)', 'Radish Sliced (1/5lb)', 'Squash Butternut Diced 3/4\" (4/5lb)', \"Squash Butternut Diced 1' (1/5lb)\", \"Squash Butternut Diced 2' (2/5lb)\", 'Squash Butternut Diced 1/2\" (4/3lb)', \"Squash Butternut Diced 1/4' (4/3lb)\", \"Squash Butternut Diced 1' (4/3lb)\", \"Squash Zucchini Dice 1/2' (1/5lb)\", 'Tomato Diced 1/4\" (2/5lb)', \"Tomato Diced 3/8' (1/5lb)\", \"Tomato Roma Sliced 1/4' (2/5lb)\", \"Tomato Slice 1/4' (1/5lb)\", 'Watermelon Chunk 1/5lb', \"Yam Peeled & Diced 1' (1/5lb)\", 'Yam Peeled & Diced 1\" (4/5lb)', 'Apple Granny Smith Peeled & Diced 1/2\" 1/5lb', 'Bok Choy Chopped 1\" 4/5lb', \"Cantaloupe Chunk 1/2' 4/5lb\", \"Cantaloupe Sliced 1/2' 2/5lb\", \"Carrot Coin Cut 1/2'' (4/5lb)\", \"Carrot Diced 1/2'' (1/5lb)\", 'Carrot Halfmoon Sliced 1/4\" 4/5lb', 'Carrot Whole Peeled 1/10lb', 'Celery Diced 3/4\" (4/5lb)', 'Celery Stalk (1/5 lb)', 'Cucumber Sliced 1/2\" (1/5 lb)', 'Cucumber Stick 4\" (1/5 lb)', 'Daikon Matchstick 1/5lb', 'Ginger Peeled & Sliced 1/2\" 1/5lb', 'Grapes Red De-Stemmed 1/5#', 'Honeydew Diced 1/2\" 4/5lb', 'Honeydew Sliced 1/2\" 2/5lb', 'Jicama Diced 1\" 1/5lb', 'Jicama Shredded 1/8\" 1/5lb', 'Jicama Sticks 4\" 1/5lb', 'Leek Diced 1/4\" 1/5lb', 'Mango Peeled & Diced 1/4\" 1/5lb', 'Onion Green Diced 1/4\" 1/5lb', 'Onion Green Diced 1/4\" 3/1 lb', 'Onion Green Stick 3\" 1/5lb', 'Onion Red Diced 1/4\" 4/5lb', 'Onion Red Diced 3/8\" 1/5lb', \"Onion Red Sliced Slab 1/8' (1/5lb)\", 'Onion Red Slice Slab 3/16\" (4/5lb)', \"Onion Red Sliced 1/8' (1/5lb)\", 'Onion Red Sliced 1/8\" 2/5 lb', 'Onion Red Slivered 3/16\" 4/5 lb', 'Onion Yellow Julienne 3/16\" 4/5lb', \"Onion Yellow Sliced 1/8' 2/2.5#\", 'Onion Yellow Diced 3/8\" 1/5#', 'Onion Yellow Diced 1/2\" 4/5 lb', 'Onion Yellow Diced 1/4\" 4/5 lb', 'Onion Yellow Diced 3/8\" 4/5 lb', 'Onion Yellow Sliced 1/4\" 4/5lb', 'Onion Yellow Sliced 3/16\" 2/5 lb', 'Onion Yellow Sliced 3/8\" 1/5 lb', 'Onion Yellow Slivered 3/16\" 4/5 lb', 'Onion Yellow Whole Peeled 1/30 lb', 'Pepper Green Julienne 1/4\" (4/5 lb)', \"Pepper Green Diced 1/4' 1/5lb\", 'Pepper Green Diced 3/8\" 1/5lb', 'Pepper Green Sliced 1/4\" 1/5lb', 'Pepper Jalapeno Sliced 1/4\" 1/5lb', \"Pepper Red Diced 1/4' 1/5lb\", 'Pepper Red Julienne Sliced 1/4\" (1/5 lb)', 'Pepper Yellow Diced 1/2\" 1/5lb', 'Potato Baking Foil Wrap 90ct', 'Potato Peeled & Diced 1/2\" 1/20 lb', 'Potato Peeled & Diced 1/4\" 1/20 lb', 'Potato Russet Peeled & Sliced 1/4\" 1/20 lb', 'Potato Red Diced 1/2\" (Skin On) 1/20lb', 'Potato Red Wedged 1/20lb', 'Potato Russet Whole Peeled 1/20 lb', 'Potato Sweet Peeled & Diced 1/2\" 1/5lb', 'Potato Yukon Whole Peeled 1/20lb', 'Squash Butternut Diced 1/2\" 1/5lb', 'Squash Butternut Diced 3/4\" (4/5lb)', 'Squash Butternut Diced 1\" (4/5lb)', \"Squash Butternut Diced 1' (4/3lb)\", 'Squash Kabocha Peeled & Diced 1\" 1/5lb', 'Squash Yell Halfmoon Sliced 1/4\" 4/5lb', 'Tomato Diced 1/4\" 2/5lb', 'Tomato Diced 3/8\" (1/5lb)', \"Tomato Roma Diced 3/8' 2/5 lb\", 'Tomato Roma Sliced 1/4\" (1/5lb)', 'Tomato Slice (1/5lb)', 'Watermelon Chunk 1/5lb', 'Yam Peeled & Diced 1/2\" (1/5lb)', 'Carrot Puree (1/30lb)', 'Yellow Onion Puree (1/30lb)', 'Orange (Repack) 1/5lb', 'Celery Sticks 4\" 4/5lb (Stack Pack)', 'Pepper Green Bell Diced 3/4\" 1/5lb', 'Pepper Red Bell Diced 3/4\" 1/5lb', 'Onion Red Diced 3/8\" 1/5lb', 'Cucumber Diced 1/4\" 1/5lb (Skin-On)', 'Pepper Green Bell Diced 3/8\" 1/5lb', 'Onion Red Diced 1\" 1/5lb', 'Parsnip (Repack) 1/5lb', 'Pepper Yellow Bell Diced 3/8\" 1/5lb', 'Bean Green Cut 2\" 1/5lb', 'Pepper Green Bell Diced 1/4\" 1/5lb', 'Radish Red Sliced 1/5lb', 'Cucumber Sliced 1/8\" (Skin On) 1/5lb', 'Celery Diced 1/2\" 1/5lb', 'Onion Yellow Diced 1\" 4/5lb', 'Cabbage Green Diced 1/4\" 4/5lb', 'Onion Green Diced 1/4\" 1/5lb', 'Carrot Sticks 4\" 1/5lb', 'Potato Red B Diced 1\" 1/20lb (Skin-On)', 'Potato Russet Diced 1/2\" 1/20lb', 'Squash Yellow Halfmoon Sliced 1/4\" 1/5lb', 'Potato Red Peeled & Diced 1/2\" 1/20lb', \"Tim's Blend 1/5lb\", 'Romaine Chopped 4/3lb (Harvested: Salinas- /24)', 'Celery Bias Cut 1/4\" 1/5lb', 'Onion Red Julienne 1/4\" 1/5lb', 'Mushroom Sliced 1/4\" 1/5lb', 'Squash Yellow Diced 1\" 1/5lb', 'Brussels Sprouts Shaved 1/5lb', 'Carrot Julienne 2\" X 1/4\" 1/5lb', 'Parsnip (Repack) 1/10lb', 'Onion Yellow Julienne 1/4\" 4/5lb', 'Kiwi Peeled & Sliced 1/4\" 1/5lb', 'Parsnip Diced 1\" 2/5lb', 'Pepper Jalapeno Sliced 1/4\" 1/5lb', 'Bean Green Cleaned & Trimmed 1/5lb', 'Potato Red Diced 1/2\" (Skin On) 1/20lb', 'Squash Zucchini Diced 1\" 1/5lb', 'Onion Yellow Diced 1/4\" 1/5lb', 'Watermelon 1ct (Repack)', 'Pineapple Spear 2/5lb', 'Squash Yellow Coin Sliced 1/4\" 4/5lb', 'Parsley Chopped 1/1lb', 'Onion Green Diced 1/4\" 5/1lb', 'Potato Red C Quartered 1/20lb (Skin-On)', 'Onion Yellow Julienne 1/4\" 1/5lb', 'Pepper Red Bell Diced 1/4\" 1/5lb', 'Leeks Sliced 1/4\" 1/5lb', 'Cabbage Red Shredded 3/1lb', 'Bok Choy Chopped 1.5\" 2/5lb', 'Beet Red Matchstick 1/5lb', 'Potato Yukon Gold 1/5lb (Repack)', 'Onion Red Julienne 1/4\" 1/5lb', 'Onion White Diced 1/4\" 1/5lb', 'Onion Green Diced 1/2\" 1/2lb', 'Cabbage Green Diced 1/2\" 1/5lb', 'Onion Red Sliced 1/4\" 1/5lb', 'Squash Zucchini Coin Sliced 1/4\" 1/5lb', 'Squash Yellow Coin Sliced 1/4\" 1/5lb', 'Tomato Diced 3/8\" 1/5lb', 'Onion Green Diced 1/2\" 1/2lb', 'Lime Sliced 1/4\" 1/5lb', 'Potato Yukon Whole Peeled 1/20lb', 'Potato Wash Only 80ct 1/50lb', 'Papaya (Repack) 1/10lb', 'Pepper Green Bell Rings 1/5lb', 'Onion White 1/10lb (Repack)', 'Jicama Sticks 1/5lb', 'Pineapple Chunk 1\" 1/5lb', 'Orange Cartwheels 3/8\" 1/5lb', 'Pea Snow Cleaned 1/5lb', 'Celery Julienne 1/4\" 1/5lb', 'Carrot Stew Cut 1\" 4/5lb', 'Pineapple Chunk 1\" 2/5lb', 'Squash Butternut Diced 1/2\" 2/5lb', 'Honeydew Chunk 1\" 2/5lb', 'Cabbage Green Chopped 1\" 4/5lb', 'Onion Yellow Slab Sliced 1/4\" 2/5lb', 'Apple Granny Smith Peeled & Diced 1/4\" 1/5lb', 'Potato Red B Sliced 1/4\" (1/5 lb) (Skin-On)', 'Squash Butternut Diced 1\" 1/5lb', 'Sweet Potato Peeled & Diced 3/4\" 1/20lb', 'Cabbage Green Wedge 1/10lb', 'Onion Red Sliced 1/8\" 4/5lb', 'Potato Yukon Peeled & Diced 1/2\" 1/20lb', 'Beet Red 6ct (Repack)', 'Squash Butternut Diced 1/4\" 4/3lb', 'Brussels Sprout 1/6lb (Repack)', 'Beet Red Whole Peeled 2/5lb', 'Pineapple Rings 2/5lb', 'Potato Yukon A Diced 3/8\" (Skin On) 1/20lb', 'Sweet Potato Peeled & Diced 3/8\" 1/20lb', 'Celery Stick 3\" 2/5lb', 'Carrot Shredded 1/5lb', 'Cabbage Red Shredded 1/4\" 1/5lb', 'Onion Yellow Diced 1/4\" 4/5lb', 'Grape Red Seedless Cleaned & Destemmed 1/5lb', 'Granny Smith Apple 1/5lb (Repack)', 'Potato Russet Whole Peeled 1/20lb', 'Squash Zucchini Sliced 4/5lb', 'Watermelon Chunk 1\" 1/5lb', 'Potato Russet Foil Wrapped 50#', 'Onion Red Diced 1/4\" 4/5lb', 'Pepper Red Bell Julienne 1/5lb', 'Pepper Yellow Bell Julienne 1/5lb', 'Parsnip Diced 1\" 1/5lb', 'Squash Butternut Diced 3/4\" 2/5lb', 'Yam Whole Peeled 1/20lb', 'Cantaloupe Chunk 1\" 2/5lb', 'Pepper Red Bell Diced 1/2\" 1/5lb', 'Tomato Plum (Repack) 1/5lb', 'Carrot Diced 1/4\" 4/5lb', 'Mango Peeled & Diced 1/2\" 1/5lb', 'Cabbage Green Shredded 1/8\" 4/5lb', 'Cauliflower Floret Mini Cut 1/5lb', 'Yam Diced 1/2\" 1/5lb', 'Tomato Plum Sliced 1/4\" 1/5lb', 'Lemon Sliced 1/4\" 1/5lb (Skin-On)', 'Orange Halfmoon Sliced 1/4\" 1/5lb (Skin-On)', 'Onion Yellow Diced 1/2\" 2/5lb', 'Parsley Chopped 1/5lb', 'Carrot Stick 2/5lb', 'Cucumber Peeled & Sliced 1/4\" 1/5lb', 'Celery Crescent Cut 1/4\" 1/5lb', 'Potato Yukon Peeled & Halved 1/20lb', 'Tomato Sliced 1/4\" 1/5lb', 'Ginger Whole Peeled 1/5lb', 'Potato Diced 1\" 1/20lb', 'Radish Red Cleaned & Trimmed 4/5lb', 'Pepper Green Bell Julienne 3/8\" 2/3lb', 'Pepper Red Bell Diced 1/4\" 2/5lb', 'Pepper Green Bell Diced 1/2\" 1/5lb', 'Carrot Diced 1/2\" 1/5lb', 'Pepper Red Bell Diced 1/4\" 1/5lb', 'Corn Yellow Cleaned & Husked 48ct', 'Onion Yellow Diced 1\" 1/5lb', 'Tomato Sliced 1/4\" 2/5lb', 'Celery Diced 3/8\" 1/5lb', 'Pepper Red Bell Diced 3/8\" 1/5lb', 'Tomato Diced 1/5lb', 'Bok Choy 1/30lb', 'Radish Daikon 1/10lb (Repack)', 'Squash Zucchini Sliced 1/5lb', 'Squash Yellow Sliced 1/5lb', 'Pepper Green Bell Diced 1\" 1/5lb', 'Pepper Green Bell Diced 4/5lb', 'Honeydew Chunk 1\" 1/5lb', 'Turnip 1/5lb (Repack)', 'Rutabaga 1/5lb (Repack)', 'Carrot Whole Peeled 4/5lb', 'Cabbage Green Shredded 1/4\" 1/5lb', 'Squash Zucchini Diced 1/2\" 1/5lb', 'Onion Yellow Whole Peeled 1/30lb', 'Carrot Bias Cut 4/5lb', 'Onion Red Diced 1/2\" 4/5lb', 'Tomato Diced 1/4\" 1/5lb', 'Onion Yellow Diced 3/8\" 4/5lb', 'Lemon Wedged 140ct 2/5lb', 'Turnip Diced 1/5lb', 'Broccoli Florets Mini 1\" 1/5lb', 'Cucumber Pickling Halfmoon Sliced 1/8\" 1/5lb', 'Potato Red Peeled & Diced 1/2\" 1/20lb', 'Potato Russet Peeled & Sliced 1/8\" 1/20lb', 'Brussels Sprouts Halved 1/5lb', 'Mango Spears 1/5lb', 'Onion Yellow Ring 3/4\" 4/5lb', 'Carrot Shredded 1/16\" 5/2lb', 'Beet Red Diced 1\" 4/5lb', 'Carrot Halfmoon Bias 1/4\" 1/5lb', 'Pepper Yellow Bell Diced 1\" 1/5lb', 'Parsnip Diced 1/2\" 1/20lb', 'Corn White Cleaned & Husked 48ct', 'Carrot Coin Cut 1/5lb', 'Cabbage Red 1/10lb (Repack)', 'Onion Red Sliced 1/4\" 1/5lb', 'Onion Yellow Stew Cut 1\" 1/5lb', 'Cucumber Sliced 1/4\" 1/5lb (Skin-On)', 'Cauliflower 3ct (Repack)', 'Jicama Sticks 4/5lb', 'Cantaloupe Chunk 1\" 1/5lb', 'Squash Zucchini Julienne 1/5lb', 'Cabbage Napa 3ct (Repack)', 'Jicama Diced 1/4\" 1/5lb', 'Jicama Julienne 1/5lb', 'Pepper Red Bell Sliced 3/8\" 1/5lb', 'Carrot Whole Peeled 1/5lb', 'Honeydew Chunk 1\" 4/5lb', 'Tomato Wedged 1/5lb', 'Onion Red Diced 1/4\" 2/5lb', 'Onion White Diced 1/8\" 2/5lb', 'Yam Diced 1/2\" 1/10lb', 'Beet Red Diced 1\" 1/10lb', 'Cabbage Red Shredded 4/5lb', 'Celery Diced 1/4\" 1/5lb', 'Carrot Sticks 4\" X 3/8\" 1/5lb', 'Parsley Italian \"Flat Leaf\" Cleaned & Trimmed 1/1lb', 'Mushroom Quartered 1/10lb', 'Cabbage Green Chopped 1/5lb', 'Carrot Matchsticks 1/5lb', 'Potato Russet Peeled & Diced 1\" 1/20lb', 'Potato Diced 1/4\" 1/20lb', 'Papaya Green Shredded 1/5lb', 'Yam Peeled & Diced 1\" 4/5lb', 'Onion Red Sliced 1/16\" 1/5lb', 'Pepper Red Bell Julienne 1/4\" 1/5lb', 'Onion Yellow Sliced 1/8\" 4/5lb', 'Carrot Matchsticks 4/5lb', 'Celery Sticks 1/5lb', 'Cilantro Bunches 6ct (Repack)', 'Pepper Green Bell Sliced 1/4\" 1/5lb', 'Onion Red Whole Peeled 1/20lb', 'Onion Red Sliced 1/4\" 4/5lb', 'Onion Red Diced 1/5lb', 'Squash Zucchini Sliced Halfmoon 1/5lb', 'Onion Green Chopped 1/4\" 1/1.5lb', 'Tomato Diced 1/4\" 2/5lb', 'Yam Peeled & Diced 1\" 1/5lb', 'Watermelon Chunk 1\" 4/5lb', 'Pepper Red Bell Julienne 3/8\" 2/3lb', 'Onion Red Diced 1/2\" 2/5lb', 'Pepper Red Bell Julienne 1/4\" 2/5lb', 'Cabbage Napa Diced 1/4\" 1/5lb', 'Squash Zucchini Sticks 3\" (1/5lb)', 'Mango Diced 3/4\" 1/5lb', 'Onion White Sliced 1/4\" 1/5lb', 'Daikon Shredded 1/8\" 1/5lb', 'Fennel 6ct (Repack)', 'Carrot Sticks 4\" 1/14lb', 'Tomato Roma Diced 1/4\" 2/5lb', 'Beet Red Peeled & Diced 1/2\" 1/5lb (Tray)', 'Daikon Matchsticks 1/8\" 2/5lb', 'Pepper Yellow Bell Diced 1/4\" 2/5lb', 'Onion Yellow Diced 3/8\" 1/5lb', 'Cucumber Sliced 2/5lb (Skin-On)', 'Carrot Stick 2/5lb', 'Ginger 1/10lb (Repack)', 'Bean Green 1/5lb (Repack)', 'Carrot Shredded 1/1lb', 'Cucumber Diced 1/2\" 1/5lb (Skin-On)', 'Potato Russet Whole Peeled 1/20lb', 'Carrot Stew Cut 1/5lb', 'Squash Yellow Julienne 1/5lb', 'Carrot Bias Cut 1/4\" 1/5lb', 'Pepper Green Bell Julienne 1/4\" 1/5lb', 'Squash Yellow Diced 1/2\" 1/5lb', 'Pineapple Chunk 1\" 4/5lb', 'Pepper Jalapeno Diced 1/4\" 1/5lb', 'Pepper Yellow Bell Julienne 2/5lb', 'Cilantro Chopped 1/1lb', 'Lemon Sliced 4/5lb', 'Onion Red Diced 1/2\" 1/5lb', 'Pepper Yellow Bell Diced 1/4\" 1/5lb', 'Italian Parsley Washed & Destemed 1lb', 'Onion Red Sliced 1/8\" 1/5lb', 'Pepper Green Bell Sliced 1/4\" 1/5lb', 'Onion Yellow Slice 1/8\" 1/5lb', 'Orange Wedged 1/5lb', 'Celery Diced 1/2\" 1/5lb', 'Onion Yellow Diced 1\" 4/5lb', 'Orange Cartwheels 3/8\" 1/5lb', 'Parsley Chopped 1/5lb', 'Pepper Green Bell Diced 3/4\" 1/5lb', 'Cabbage Green 1/10lb (Repack)', 'Broccoli Florets 1/3 lb', 'Broccoli Florets 4/3lb', 'Cabbage Green', \"Cabbage Green Shredded 1/4' 1/5lb\", \"Cabbage Green Shredded 1/8' 1/5lb\", 'Carrot, Fresh', 'Carrot Matchstick 1/5lb', 'Carrot Whole Peeled lb', 'Celery', 'Corn White (48 ea.)', 'Cucumber', 'Garlic', 'Garlic Minced (lb)', 'Iceberg Lettuce', 'Kale', 'Romaine Lettuce', 'Green Onion (case)', 'Red Onion', 'Red Onion Whole Peeled lb', 'Yellow Onion Whole Peeled (1lb)', 'Green Bell Pepper', 'Red Bell Pepper', 'Yellow Bell Pepper', 'Potato', 'Potato Red B Quartered Skin On 1/20lb', 'Potato Yukon Gold', 'Squash,  Butternut', 'Kabocha Squash', 'Tomato 6x6', 'Tomato 5x6 2 Layer Box Vne Rnd', 'Roma Tomato', 'Yucca Root', 'Organic Squash Butternut Peeled & Diced 1/2\" 1/5lb', 'Organic Squash Butternut Peeled & Diced 1/2\" 4/5lb', 'Organic Squash Butternut Peeled & Diced 3/4\" 1/20lb', 'Bean French Cleaned 1/5lb', 'Bean Green Cleaned 1/5lb', 'Brussels Sprouts Halved 1/5lb', 'Cabbage Green Shredded 1/8\" 1/5lb', 'Cabbage Napa Shredded 1/5lb', 'Cabbage Red Shredded 1/5lb', \"Cantaloupe Chunk 3/4' 1/5lb\", \"Carrot Bias Cut 1/4' 1/5lb\", \"Carrot Coins 1/4' 1/5lb\", 'Carrot Diced 1/2\" 1/5lb', \"Carrot Diced 1/4' 1/5lb\", 'Carrot Matchsticks 1/5lb', \"Carrot Sticks 4' (Stack Pack) 1/5lb\", 'Celery Diced 1/2\" 1/5lb', \"Celery Diced 1/4' 1/5lb\", \"Celery Sticks 4' 1/5lb (Stack Pack)\", 'Celery Sticks 4\" 4/5lb **Special**', \"Cucumber Sliced 1/4' (Skin-On) 1/5lb\", 'Fennel Shaved 1/8\" 1/5lb', \"Honeydew Chunk 3/4' 1/5lb\", \"Jicama Sticks 4' 1/5lb\", \"Kale Green Chopped 1' 1/5lb\", 'Lemon Wedge 1/5lb', 'Organic Lettuce Romaine Chopped  4/3lb  (Harvested: Salinas - /24)', 'Lime Wedged 1/5lb', 'Onion Red Diced 1/4\" 1/5lb', \"Onion Red Slab 1/8' 1/5lb\", 'Onion Red Sliced 1/4\" 1/5lb', 'Onion White Diced 1/4\" 1/5lb', 'Onion White Sliced 1/4\" 1/5lb', 'Onion Yellow Sliced 1/4\" 1/5lb', \"Onion Yellow Diced 1/2' 1/5lb\", \"Onion Yellow Diced 1/4' 1/5lb\", \"Pepper Green Diced 1/4' 1/5lb\", \"Pepper Green Sliced 1/8' 1/5lb\", \"Pepper Red Diced 1' 1/5lb\", \"Pepper Red Diced 1/2' 1/5lb\", \"Pepper Red Diced 1/4' 1/5lb\", \"Pepper Red Julienne 1/4' 1/5lb\", \"Pepper Red Sliced 1/8' 1/5lb\", \"Pineapple Diced 1' 1/5lb\", 'Pineapple Diced 1/2\" 1/5lb', 'Pineapple Diced 3/4\" 1/5lb', 'Potato Red A Quartered 1/20lb', 'Potato Red Diced 1/2\" 1/5lb', \"Potato Russet Peeled & Diced 1/2' 1/20lb\", \"Potato Russet Peeled & Diced 1/2' 1/5lb\", 'Potato Russet Peeled & Diced 3/4\" 1/20lb', 'Potato Russet Peeled & Quartered 60ct 1/20lb', \"Potato Russet W/P Diced 1/4' 1/20lb\", 'Potato Sweet Peeled & Diced 1\" 1/20lb', 'Potato Yukon Diced 1\" 1/20lb', 'Potato Yukon Diced 1\" 1/5lb', 'Potato Yukon Peeled & Diced 1/2\" 1/20lb', 'Potato Yukon Diced 1/2\" (Skin On) 1/5lb', 'Potato Yukon Peeled & Quartered 1/20lb', \"Radish Sliced 1/8' 1/5lb\", 'Squash Butternut Diced 1\" 1/5lb', \"Squash Butternut Diced 1/2' 1/5lb\", 'Squash Butternut Diced 2\" 1/5lb', \"Squash Butternut Diced 3/4' 1/5lb\", \"Squash Zucchini Sliced 1/2' 1/5lb\", 'Tomato Roma Diced 1/4\" 1/5lb', \"Tomato Sliced 1/4' 1/5lb\", \"Watermelon Diced 3/4' 1/5lb\", 'Yam Sticks 1/5lb', 'Organic Baby Carrot Peeled 4/5lb', 'Organic Celery Stick 2\" 1/5lb', 'Organic Lettuce Romaine Chopped 4/3lb', 'Basil 1/1lb', 'Broccoli Floret 1/3lb', 'Cabbage Green (1/40lb)', 'Cabbage Green lb', 'Carrot Whole 1/25lb', 'Carrot Whole 1/50lb', 'Cauliflower Florets 1/3lb', 'Celery Diced 1/4\" 4/5lb', 'Celery Sliced 1/4\" 1/5lb', 'Celery Sliced 1/4\" 4/5lb', 'Cilantro Chopped 1/8\" 1/5lb', 'Cucumber (Case)', 'Garlic Whole Peeled 6/5lb', 'Jicama Diced 1/2\" 1/5lb', 'Jicama Diced 1/4\" 1/5lb', 'Onion Red Whole Peeled 1/20lb', 'Onion Yellow Whole Peeled 1/5lb', 'Onion Yellow Whole Peeled 1/30lb', 'Onion Yellow Whole Peeled lb', 'Parsley Chopped 1/5lb', 'Italian Parsley Chopped 1/4\" 1/5lb', 'Potato Red #2 (1/50lb)', 'Squash Zucchini (Case)', 'Bok Choy Baby 1/30lb', 'Bok Choy Baby Chopped 1\" 1/5lb', 'Thai Basil 1/1lb', 'Bok Choy Chopped 1\" 1/5lb', 'Broccoli Florets Mini 1\" 1/3lb', 'Carrot Halfmoon Sliced 1/4\" 1/5lb', 'Carrot Halfmoon Sliced 1/8\" 1/5lb', 'Cauliflower Florets 1/3lb', 'Garlic Minced 1/8\" 1/4lb', 'Garlic Whole Peeled 6/5#', 'Ginger Minced 1/8\" (Skin On) 1/5lb', 'Ginger Peeled & Sliced 1/4\" 1/5lb', 'Onion Green Bias Cut 1\" 1/5lb', 'Onion Green Sliced 1/8\" 1/5lb..', 'Onion Yellow Diced 1/2\" 1/5lb..', 'Onion Yellow Diced 1/4\" 1/5lb..', 'Onion Yellow Diced (Brunoise) 1/8\" 1/5lb..', 'Onion Yellow Diced 3/4\" 1/5lb', 'Pepper Green Stew Cut 1\" (Hand Cut) 1/5lb', 'Pepper Green Diced 3/4\" 1/5lb', 'Pepper Red Stew Cut 1\" (Hand Cut) 1/5lb', 'Pepper Red Diced 3/4\" 1/5lb', 'Pepper Red Fresno Coin Sliced 1/8\" 1/5lb', 'Pepper Yellow Stew Cut 1\" (Hand Cut) 1/5lb', 'Pepper Yellow Triangle Cut 1\" 1/5lb', 'Shallot Diced 1/2\" 1/5lb', 'Squash Yellow Halfmoon Sliced 1/4\" 1/5lb', 'Tomato Roma Diced 1/2\" 1/5lb', 'Tomato Roma Wedged 6 Cut 1/5lb', 'Yu Choi Chopped 1\"-1.5\" 1/5lb', 'Salsa Red Fire Roasted  Fresh (1gal)', 'Salsa Green Fresh (1gal)', 'Salsa Green Fresh (1gal)', 'Broccoli Slaw Mix 1/3lb', 'Broccoli Slaw 4/5lb', 'Broccoli Slaw Mixed 4/3lb', 'Broccoli Slaw  4/5lb', 'Broccoli Slaw w/Carrot 4/3lb', 'Broccoli Slaw 4/3lb', 'Broccoli Slaw 6/1lb', 'Broccoli Slaw 1/5 lb', 'Broccoli Slaw Mix 4/3lb', 'Broccoli Slaw 4/5 lb', 'Broccoli Slaw  4/5lb', 'Broccoli Slaw w/Color 1/3lb', 'Broccoli Slaw 1/5lb', 'Broccoli Slaw 4/5lb', 'Broccoli Slaw 3lb', 'Broccoli Stem Slaw Mix 1/5lb', 'Pepper Mini Tri Color Washed 1/20#', 'Lettuce Spring Mix 1/3lb', 'Pepper Mini Tri Color Washed 1/20#', 'Poke Max Mac Salad 1/10lb', 'Namasu Cucumber Salad 1/20lb']\n"
          ]
        }
      ],
      "source": [
        "ef = pd.read_excel('/content/drive/My Drive/Product.xlsx', sheet_name='Sheet1')\n",
        "\n",
        "ef.dropna(subset=['Description'], inplace=True)\n",
        "name_cases = ef['Description'].astype(str).to_numpy()\n",
        "name_list = []\n",
        "\n",
        "for i in name_cases:\n",
        "  name_list.append(str(i))\n",
        "\n",
        "print(name_list)\n"
      ]
    },
    {
      "cell_type": "code",
      "execution_count": null,
      "metadata": {
        "id": "4R7jI_HJ2pCc"
      },
      "outputs": [],
      "source": [
        "# @title\n",
        "import re\n",
        "#------------------------------------------------Type of Produce------------------------------------------------------------------\n",
        "\n",
        "#fruit = {'Apple Braeburn': '001', 'Apple Del Gold': '002', 'Apple Fuji': '003', 'Apple Gala': '004', 'Apple Golden': '005', 'Apple Granny Smith': '006', 'Apple Granny': '007', 'Apple Pink Lady': '008', 'Apple Red': '009', 'Apple\\xa0Fuji': '010', 'Apple': '011', 'Banana Green': '012', 'Banana': '013', 'Cantaloupe': '014', 'Casaba': '015', 'Cranberry': '016', 'Grapefruit': '017', 'Grapes Green': '018', 'Grapes Red': '019', 'Honeydew': '020', 'Kiwi': '021', 'Lemon': '022', 'Lime': '023', 'Mango Green': '024', 'Mango': '025', 'Nectarine': '026', 'Orange Blood': '027', 'Orange Kara Kara': '028', 'Orange': '029', 'Papaya Green': '030', 'Papaya Hawaiian': '031', 'Papaya Mexican': '032', 'Papaya Yellow/Hawaiian': '033', 'Papaya': '034', 'Peach': '035', 'Pear Asian': '036', 'Pear Bartlett': '037', 'Pear Bosc': '038', 'Pear Green': '039', 'Pear': '040', 'Pineapple Golden Ripe': '041', 'Pineapple Hawaiian': '042', 'Pineapple': '043', 'Raspberry': '044', 'Strawberry': '045', 'Watermelon Seedless': '046', 'Watermelon ': '047'}\n",
        "\n",
        "#vegetable = {'Asparagus Green': '059', 'Asparagus White': '060', 'Asparagus': '061', 'Baby French Bean': '062', 'Bean Fava': '063', 'Bean French': '064', 'Bean Green': '065', 'Bean Haricot': '066', 'Bean Haricot Baby': '067', 'Bean Long Chinese': '068', 'Bean Long Green': '069', 'Bean Yellow Wax': '070', 'Beet Chioggia': '071', 'Beet Gold': '072', 'Beet Gold Baby': '073', 'Beet Red Baby': '074', 'Beet Red ': '075', 'Beet Striped Baby': '076', 'Bok Choy Baby': '077', 'Bok Choy': '078', 'Broccoli Crowns': '079', 'Broccoli Florets': '080', 'Broccoli Slaw': '081', 'Broccolini': '082', 'Broccoli': '083', 'Brussel Sprout': '084', 'Cabbage Green': '085', 'Cabbage Napa': '086', 'Cabbage Red': '087', 'Cabbage Savoy': '088', 'Cabbage': '089', 'Carrot Baby': '090', 'Carrot Plugs': '091', 'Carrot Rainbow': '092', 'Carrot Yellow Baby': '093', 'Carrot': '094', 'Cauliflower Bud': '095', 'Cauliflower Florets': '096', 'Cauliflower': '097', 'Celery Root': '098', 'Celery': '099', 'Chard Green': '100', 'Chard Rainbow': '101', 'Chard Red': '102', 'Chives': '103', 'Choy Sum': '104', 'Cilantro': '105', 'Collard Green': '106', 'Corn White': '107', 'Corn Yellow': '108', 'Corn': '109', 'Cucumber English': '110', 'Cucumber Pickling': '111', 'Cucumber': '112', 'Dill ': '113', 'Eggplant Chinese': '114', 'Eggplant Japanese': '115', 'Eggplant': '116', 'Fennel': '117', 'Garlic': '118', 'Ginger Root': '119', 'Ginger': '120', 'Horseradish': '121', 'Jicama Root': '122', 'Jicama': '123', 'Kai Lan': '124', 'Kale Baby': '125', 'Kale Green': '126', 'Kale Lacinato': '127', 'Kohlrabi': '128', 'Leek': '129', 'Lettuce Boston': '130', 'Lettuce Butter': '131', 'Lettuce Escarole': '132', 'Lettuce Frisee Blonde ': '133', 'Lettuce Frisee ': '134', 'Lettuce Green Leaf': '135', 'Lettuce Iceberg Premium': '136', 'Lettuce Iceberg': '137', 'Lettuce Mache Hydroponic ': '138', 'Lettuce Radicchio': '139', 'Lettuce Red Belgium Endive': '140', 'Lettuce Red Leaf Fillets ': '141', 'Lettuce Romaine Baby': '142', 'Lettuce Romaine Fillets': '143', 'Lettuce Romaine Heart': '144', 'Lettuce Romaine': '145', 'Lettuce': '146', 'Lotus Root': '147', 'Mushroom Crimini': '148', 'Mushroom Enoki': '149', 'Mushroom Medium': '150', 'Mushroom Oyster': '151', 'Mushroom Portobello': '152', 'Mushroom Shiitake Flower': '153', 'Mushroom Shiitake #2': '154', 'Mushroom Shiitake': '155', 'Mushroom White': '156', 'Mushroom': '157', 'Nopales Cactus Leaves': '158', 'Nopales': '159', 'Okra': '160', 'Onion Cippolini Red': '161', 'Onion Cippolini': '162', 'Onion Colossal Yellow': '163', 'Onion Green': '164', 'Onion Red Jumbo': '165', 'Onion Red Pearl': '166', 'Onion Red': '167', 'Onion Sweet': '168', 'Onion White Pearl': '169', 'Onion White': '170', 'Onion Yellow Sweet': '171', 'Onion Yellow': '172', 'Parsley Curley': '173', 'Parsley Italian': '174', 'Parsley': '175', 'Parsnip': '176', 'Pea Snap': '177', 'Pea Snow': '178', 'Pepper Anaheim': '179', 'Pepper Fresno Red ': '180', 'Pepper Green Bell': '181', 'Pepper Jalapeno': '182', 'Pepper Mini Tri Color': '183', 'Pepper Orange Bell': '184', 'Pepper Pasilla': '185', 'Pepper Poblano': '186', 'Pepper Red Bell': '187', 'Pepper Red Jalapeno': '188', 'Pepper Serrano': '189', 'Pepper Shishito': '190', 'Pepper Yellow Bell': '191', 'Potato Fingerling': '192', 'Potato Kennebec': '193', 'Potato Purple A': '194', 'Potato Purple B': '195', 'Potato Purple': '196', 'Potato Red #2': '197', 'Potato Red A': '198', 'Potato Red B': '199', 'Potato Red C': '200', 'Potato Red': '201', 'Potato Russet #2': '202', 'Potato Russet Baker #1': '203', 'Potato Russet': '204', 'Potato Sweet': '205', 'Potato White': '206', 'Potato Yukon #2': '207', 'Potato Yukon A': '208', 'Potato Yukon B': '209', 'Potato Yukon C': '210', 'Potato Yukon': '211', 'Pumpkin': '212', 'Radish Daikon': '213', 'Radish Red': '214', 'Radish Watermelon': '215', 'Rutabaga': '216', 'Shallot': '217', 'Shelled Edamame': '218', 'Spinach': '219', 'Sprout Sunflower': '220', 'Squash Acorn': '221', 'Squash Banana': '222', 'Squash Butternut Flower': '223', 'Squash Butternut': '224', 'Squash Chayote': '225', 'Squash Delicata': '226', 'Squash Kabocha': '227', 'Squash Koginut': '228', 'Squash Loofah': '229', 'Squash Sunburst Baby': '230', 'Squash Yellow Fancy ': '231', 'Squash Yellow Summer (Baby)': '232', 'Squash Yellow': '233', 'Squash Zucchini Fancy': '234', 'Squash Zucchini': '235', 'Tamarind': '236', 'Taro Root': '237', 'Tomatillo': '238', 'Tomato Cherry': '239', 'Tomato Grape': '240', 'Tomato Green ': '241', 'Tomato Heirloom Green': '242', 'Tomato Heirloom Red': '243', 'Tomato Heirloom Yellow': '244', 'Tomato Roma': '245', 'Tomato Round': '246', 'Tomato Yellow Grape': '247', 'Tomato': '248', 'Turmeric': '249', 'Turnip Baby': '250', 'Turnip': '251', 'Yams Jumbo': '252', 'Yam': '253', 'Yu Choy ': '254', 'Yucca Root': '255'}\n",
        "\n",
        "#herb = {'Herb Epazote': '048', 'Herb Lemongrass': '049', 'Herb Marjoram': '050', 'Herb Mint ': '051', 'Herb Oregano': '052', 'Herb Parsley Curly': '053', 'Herb Rosemary': '054', 'Herb Sage': '055', 'Herb Tarragon': '056', 'Herb Thyme': '057', 'Hibicus Flower Dry': '058'}\n",
        "\n",
        "#--------------------------------------------------Type of Cuts------------------------------------------------------------------\n",
        "cut1 = {\"bite size\":\"01\",\t\"bunch\":\"02\",\t\"Chunk\":\"03\",\t\"coin slice\":\"04\",\t\"coleslaw\":\"05\",\t\"diced\":\"06\",\t\"halved\":\"07\",\t\"julienne\":\"08\",\t\"matchstick\":\"09\",\t\"minced\":\"10\",\"peeled & diced\":\"12\",\t\"peeled & halved\":\"13\",\t\"peeled & julienne\":\"14\",\t\"peeled & matchstick\":\"15\",\t\"peeled & sections\":\"16\",\t\"peeled & sliced\":\"17\",\t\"peeled & wedge\":\"18\",\t\"quartered\":\"19\",\t\"rings\":\"20\",\t\"shredded\":\"21\",\t\"slice\":\"22\",\t\"spear\":\"23\",\t\"tip\":\"24\", \"Wedge\":\"25\",\t\"Whole\":\"26\",\t\"zest\":\"27\",\"peeled\":\"11\"\n",
        "}\n",
        "cut2 = {\"10 cut\":\"01\",\t\"14 pc verde\":\"02\",\t\"16 cut\":\"03\",\t\"4 cut\":\"04\",\t\"5 Cut\":\"05\",\t\"6 cut\":\"06\",\t\"8 cut\":\"07\",\t\"angel hair\":\"08\",\t\"balk\":\"09\",\t\"batonette\":\"10\",\t\"batonnet\":\"10\",\t\"batons\":\"11\",\t\"bias\":\"12\",\t\"brunoise\":\"13\",\t\"button half cut\":\"14\",\t\"Cartwheel\":\"15\",\t\"center cut\":\"16\",\t\"chateau\":\"17\",\t\"coin cut\":\"18\",\t\"crescent\":\"19\",\t\"crimini\":\"20\",\t\"crinkled\":\"21\",\t\"crowless\":\"22\",\t\"cups\":\"23\",\t\"cut half\":\"24\",\t\"cut head\":\"25\",\t\"cut in half\":\"24\",\t\"cut qtr\":\"27\",\t\"diagonal cut\":\"28\",\t\"diamond cut\":\"29\",\t\"filets\":\"30\",\t\"fillets\":\"30\",\t\"fingerling\":\"31\",\t\"flower\":\"32\",\t\"french fries\":\"33\",\t\"french fry\":\"34\",\t\"half moon cut\":\"35\",\t\"halfmoon cut\":\"35\",\t\"halves\":\"36\",\t\"husked\":\"37\",\t\"hydroponic\":\"38\",\t\"jumbo\":\"39\",\t\"kernals\":\"40\",\t\"kernels\":\"40\", \"mandoline\":\"42\",\t\"medium\":\"43\",\t\"mini cut\":\"44\",\t\"noodle\":\"45\",\t\"parisienne\":\"46\",\t\"pickling\":\"47\",\t\"quartermoon\":\"48\",\t\"ribbon\":\"49\",\t\"ring\":\"50\",\t\"roll cut\":\"51\",\t\"rough cut\":\"52\",\t\"Round\":\"53\",\t\"segment\":\"54\",\t\"shaved\":\"55\",\t\"shucked\":\"56\",\t\"silvered\":\"57\",\t\"Squares\":\"58\",\t\"stalk\":\"59\",\t\"Steak Fries\":\"60\",\t\"stew cut\":\"61\",\t\"stick\":\"62\",\t\"stringless\":\"63\",\t\"triangles\":\"64\",\t\"uniform\":\"65\",\t\"wheels\":\"66\",\t\"cut\":\"67\",\n",
        "}\n",
        "#if theres another one just add as 41, cuz missing 41\n",
        "\n",
        "cut3 = {\"butt off\":\"01\",\t\"cleaned\":\"02\",\t\"cored\":\"03\",\t\"crowless\":\"04\",\t\"de seeded\":\"05\",\t\"deseeded\":\"05\",\t\"de-ribbed\":\"06\",\t\"deribbed\":\"06\",\t\"destemmed\":\"07\",\t\"ends off\":\"08\",\t\"fancy\":\"09\",\t\"gas\":\"10\",\t\"gas flush\":\"11\",\t\"hand peeled\":\"12\",\t\"hydroponic\":\"13\",\t\"lengthwise\":\"14\",\t\"medium cap\":\"15\",\t\"no leaf\":\"16\",\t\"no rib\":\"17\",\t\"no seeds\":\"18\",\t\"no stem\":\"19\",\t\"not peeled\":\"20\",\t\"peel\":\"21\",\t\"plank\":\"22\",\t\"premium\":\"23\",\t\"section\":\"24\",\t\"seeded log\":\"24\",\t\"skin on\":\"25\",\t\"skin-on\":\"25\",\t\"sliced necks\":\"26\",\t\"sliced slab\":\"27\",\t\"trimmed\":\"28\",\t\"w/leaves\":\"29\",\t\"w/skin\":\"30\",\t\"w/top\":\"31\",\n",
        "}\n",
        "#cuts = {\"Peeled & Diced\": \"001\", \"Cleaned & Destemmed\":\"002\", \"Shredded\": \"003\", \"Julienne\":\"004\", \"Whole Cleaned & Seedless\":\"005\", \"Cut Half lengthwise\": \"006\", \"Wedge 6 Cut\": \"007\", \"Matchstick\": \"008\"}\n",
        "#---------------------------------------------------------------------------------------------------------------------------------\n",
        "\n",
        "container = {\"Bag1\":\"01\"}\n",
        "\n",
        "''' if find_in_list(modified_case, dict_list) != \"Not FOUND\":\n",
        "    new_cut_code = dict_list[find_in_list(modified_case, dict_list)]\n",
        "    new_key = find_key_by_value(dict_list, new_cut_code)\n",
        "\n",
        "  if len(current_key) < len(new_key):\n",
        "    cut_code = new_cut_code '''\n"
      ]
    },
    {
      "cell_type": "markdown",
      "source": [
        "# Simplifying Product Names"
      ],
      "metadata": {
        "id": "oxU6h2KQA8tQ"
      }
    },
    {
      "cell_type": "code",
      "source": [
        "total = []\n",
        "for x in name_list:\n",
        "  new_word = x.lower()\n",
        "  match = re.search(r'\\d+', new_word)\n",
        "  if match:\n",
        "    # Get the index where the number starts\n",
        "    index = match.start()\n",
        "    new_word = new_word[:index]\n",
        "  for i in cuts:\n",
        "    pattern = r'\\b' + re.escape(i) + r'(?:d|ed|s|es)?\\b'\n",
        "    match = re.search(pattern, new_word, re.IGNORECASE)\n",
        "    if match:\n",
        "      start_index = match.start()\n",
        "      # Find the position of the match in the original string\n",
        "      match_start = len(new_word[:start_index])\n",
        "      if new_word[start_index-1] == ' ':\n",
        "        new_word = new_word[:start_index].rstrip()\n",
        "  print(new_word)\n",
        "  total.append(new_word)"
      ],
      "metadata": {
        "id": "4ELOud49SKs6"
      },
      "execution_count": null,
      "outputs": []
    },
    {
      "cell_type": "code",
      "source": [
        "result = [re.split(r'\\s*\\(.*$', item)[0].strip() for item in total]\n",
        "print(result)\n"
      ],
      "metadata": {
        "id": "8lwWjAsVH0CK"
      },
      "execution_count": null,
      "outputs": []
    },
    {
      "cell_type": "code",
      "source": [
        "total1 = []\n",
        "for x in total:\n",
        "  #remove all spaces\n",
        "  x_nospace = x.replace('(', '')\n",
        "  x_nospace = x_nospace.replace(')', '')\n",
        "  total1.append(x_nospace)"
      ],
      "metadata": {
        "id": "NQc_TCiOu1Av"
      },
      "execution_count": null,
      "outputs": []
    },
    {
      "cell_type": "code",
      "source": [
        "total2 = []\n",
        "for x in total1:\n",
        "  total2.append(x.rstrip())"
      ],
      "metadata": {
        "id": "sZNni140AXXC"
      },
      "execution_count": null,
      "outputs": []
    },
    {
      "cell_type": "code",
      "source": [
        "print(total2)"
      ],
      "metadata": {
        "id": "yctAl9MpCXNX"
      },
      "execution_count": null,
      "outputs": []
    },
    {
      "cell_type": "code",
      "source": [
        "#write back in\n",
        "ef['rm'] = total2\n",
        "#save modified file to dataframe\n",
        "ef.to_excel(\"Product.xlsx\", index = False)\n",
        "\n",
        "df_new = pd.DataFrame({'rm':total2})\n",
        "wb = load_workbook('/content/drive/My Drive/Product.xlsx')\n",
        "\n",
        "ws = wb['Sheet1']\n",
        "\n",
        "for index, row in df_new.iterrows():\n",
        "  cell = 'D%d' % (index+2)\n",
        "  ws[cell] = row[0]\n",
        "\n",
        "# df.iloc[[2],[6]] = 'Edited Description'\n",
        "wb.save('/content/drive/My Drive/Product.xlsx')"
      ],
      "metadata": {
        "id": "M2dVt1G3stII"
      },
      "execution_count": null,
      "outputs": []
    },
    {
      "cell_type": "markdown",
      "source": [
        "This pulls out the mixes that all match to a simplified mix name"
      ],
      "metadata": {
        "id": "mgHTTC71BGtP"
      }
    },
    {
      "cell_type": "code",
      "source": [
        "simplified = ef['simplified'].astype(str).to_numpy()\n",
        "simplified_list = []\n",
        "\n",
        "for i in simplified:\n",
        "  simplified_list.append(str(i))\n"
      ],
      "metadata": {
        "id": "puJ_oVnY74M0"
      },
      "execution_count": null,
      "outputs": []
    },
    {
      "cell_type": "code",
      "source": [
        "counter = 1\n",
        "wanted_row = []\n",
        "for i in simplified_list:\n",
        "  counter+=1\n",
        "  if i in mixes:\n",
        "    wanted_row.append(counter)\n"
      ],
      "metadata": {
        "id": "9QSWipR58MEX"
      },
      "execution_count": null,
      "outputs": []
    },
    {
      "cell_type": "code",
      "source": [
        "print(wanted_row)"
      ],
      "metadata": {
        "id": "2d1i9txl-quj"
      },
      "execution_count": null,
      "outputs": []
    },
    {
      "cell_type": "code",
      "source": [
        "# Install the required libraries\n",
        "!pip install gspread oauth2client"
      ],
      "metadata": {
        "id": "n1f5dmZaHSp2"
      },
      "execution_count": null,
      "outputs": []
    },
    {
      "cell_type": "code",
      "source": [
        "from google.colab import files\n",
        "import gspread\n",
        "from oauth2client.service_account import ServiceAccountCredentials\n",
        "\n",
        "# Upload the credentials.json file\n",
        "uploaded = files.upload()\n",
        "\n",
        "# Define the scope of the application\n",
        "scope = [\"https://spreadsheets.google.com/feeds\", \"https://www.googleapis.com/auth/drive\"]\n",
        "\n",
        "# Authenticate using the uploaded credentials.json file\n",
        "credentials = ServiceAccountCredentials.from_json_keyfile_name('credentials.json', scope)\n",
        "client = gspread.authorize(credentials)\n",
        "\n",
        "# Open the source spreadsheet and select Sheet1\n",
        "source_spreadsheet = client.open(\"Product.xlxs\")\n",
        "source_sheet = source_spreadsheet.worksheet(\"Sheet1\")\n",
        "\n",
        "# Open the target spreadsheet and select Sheet2\n",
        "target_spreadsheet = client.open(\"Product.xlxs\")\n",
        "target_sheet = target_spreadsheet.worksheet(\"Sheet2\")\n",
        "\n",
        "# Array of row numbers you want to pull from Sheet1\n",
        "\n",
        "# Fetch rows from the source sheet\n",
        "rows_data = [source_sheet.row_values(row_num) for row_num in wanted_row]\n",
        "\n",
        "# Clear the target sheet\n",
        "target_sheet.clear()\n",
        "\n",
        "# Write the rows to Sheet2\n",
        "for row in rows_data:\n",
        "    target_sheet.append_row(row)\n",
        "\n",
        "print(\"Rows have been successfully pulled from Sheet1 and written to Sheet2.\")"
      ],
      "metadata": {
        "id": "nKq_BD8bJhov"
      },
      "execution_count": null,
      "outputs": []
    },
    {
      "cell_type": "code",
      "source": [
        "from google.colab import files\n",
        "import gspread\n",
        "from oauth2client.service_account import ServiceAccountCredentials\n",
        "\n",
        "# Upload the credentials.json file\n",
        "uploaded = files.upload()\n",
        "\n",
        "# Define the scope of the application\n",
        "scope = [\"https://spreadsheets.google.com/feeds\", \"https://www.googleapis.com/auth/drive\"]\n",
        "\n",
        "# Authenticate using the uploaded credentials.json file\n",
        "credentials = ServiceAccountCredentials.from_json_keyfile_name('credentials.json', scope)\n",
        "client = gspread.authorize(credentials)\n",
        "\n",
        "# Open the source spreadsheet and select Sheet1\n",
        "source_spreadsheet = client.open(\"Product.xlxs\")\n",
        "source_sheet = source_spreadsheet.worksheet(\"Sheet1\")\n",
        "\n",
        "# Open the target spreadsheet and select Sheet2\n",
        "target_spreadsheet = client.open(\"Product.xlxs\")\n",
        "target_sheet = target_spreadsheet.worksheet(\"Sheet2\")\n",
        "\n",
        "# Array of row numbers you want to pull from Sheet1\n",
        "\n",
        "# Fetch rows from the source sheet\n",
        "rows_data = [source_sheet.row_values(row_num) for row_num in wanted_row]\n",
        "\n",
        "# Clear the target sheet\n",
        "target_sheet.clear()\n",
        "\n",
        "# Write the rows to Sheet2\n",
        "for row in rows_data:\n",
        "    target_sheet.append_row(row)\n",
        "\n",
        "print(\"Rows have been successfully pulled from Sheet1 and written to Sheet2.\")"
      ],
      "metadata": {
        "id": "5MwbvptgJ_3D"
      },
      "execution_count": null,
      "outputs": []
    },
    {
      "cell_type": "markdown",
      "source": [
        "FUZZYWUZZY FUNCTIONS RAWR"
      ],
      "metadata": {
        "id": "3ICrpLsQA0hU"
      }
    },
    {
      "cell_type": "code",
      "execution_count": null,
      "metadata": {
        "id": "pPF_9T5S4oG-"
      },
      "outputs": [],
      "source": [
        "from fuzzywuzzy import fuzz\n",
        "from fuzzywuzzy import process\n",
        "\n",
        "def get_score(case, x_dict):\n",
        "  score = {}\n",
        "  for i in x_dict:\n",
        "    score[str(i)] = fuzz.partial_ratio(case, i)\n",
        "  #keys are the words, values are the scores\n",
        "  #create a list of the words\n",
        "  dict_list = list(x_dict.keys())\n",
        "  maximum = 0\n",
        "  old_word = ''\n",
        "  for i in dict_list:\n",
        "    if score[i] > maximum:\n",
        "      maximum = score[i]\n",
        "      old_word = i\n",
        "    if score[i] == maximum:\n",
        "      current = i\n",
        "      old = find_key_by_value(score, maximum)\n",
        "      if len(current) > len(old_word):\n",
        "        maximum = score[i]\n",
        "        old_word = i\n",
        "      else:\n",
        "        maximum = maximum\n",
        "  item_index = \"000\"\n",
        "  for i in x_dict:\n",
        "    if i == old_word:\n",
        "      item_index = x_dict[i]\n",
        "  return item_index\n",
        "\n",
        "#dictio = {\"green pepper\":\"001\", \"red pepper\":\"010\", \"red pepperg\":\"020\", \"peppers\":\"0010\", \"red peppers\":\"002\", \"pepper\":\"003\", \"yellow pepper\":\"004\", \"red bell pepper\":\"005\", \"jhfshejals\":\"006\", \"dfhisekf\":\"007\", \"dsfhihise\":\"008\"}\n",
        "#get_score(\"this is #kdf red peppers cut\", dictio)\n",
        "#get_score(\"Watermelon Wedge 8 Cut (Skin On)\", cuts)\n"
      ]
    },
    {
      "cell_type": "code",
      "execution_count": null,
      "metadata": {
        "id": "H-1kspJq-wWY"
      },
      "outputs": [],
      "source": [
        "\n",
        "#----------------------------------------------------Functions-----------------------------------------------------------------\n",
        "\n",
        "def find_in_list(text, list):\n",
        "  #find word in list\n",
        "  for x in list:\n",
        "    x_lower = x.lower()\n",
        "    pattern = r'\\b' + re.escape(x_lower) + r'(?:d|ed|s|es)?\\b'\n",
        "    if bool(re.search(pattern, text.lower(), re.IGNORECASE)):\n",
        "      return x\n",
        "  return \"Not FOUND\"\n",
        "\n",
        "#NOT USED ANYMORE\n",
        "#find word(search) in given phrase(text)\n",
        "#return true if found\n",
        "def find_words(text, search):\n",
        "    \"\"\"Find exact words\"\"\"\n",
        "    text = text.lower()\n",
        "    search = search.lower()\n",
        "\n",
        "    dText   = text.split()\n",
        "    dSearch = search.split()\n",
        "\n",
        "    found_word = 0\n",
        "\n",
        "    for text_word in dText:\n",
        "        for search_word in dSearch:\n",
        "            if search_word == text_word:\n",
        "                found_word += 1\n",
        "\n",
        "    return found_word == len(dSearch)\n",
        "\n",
        "#determine if product is organic or not\n",
        "#return true if is organic\n",
        "def find_organic(text):\n",
        "  return find_words(text, 'organic')\n",
        "\n",
        "#NOT USED ANYMORE\n",
        "#determine index of item\n",
        "#returns type of produce index\n",
        "def find_produce(text):\n",
        "  # fruit_list = list(fruit.keys())\n",
        "  # vegetable_list = list(vegetable.keys())\n",
        "  # herb_list = list(herb.keys())\n",
        "  if find_in_list(text, fruit_list) != \"Not FOUND\":\n",
        "    return find_in_list(text, fruit_list)\n",
        "    #return fruit[find_in_list(text, fruit_list)]\n",
        "  # if find_in_list(text, herb_list) != \"Not FOUND\":\n",
        "  #   return find_in_list(text, herb_list)\n",
        "  #   #return herb[find_in_list(text, herb_list)]\n",
        "  # if find_in_list(text, vegetable_list) != \"Not FOUND\":\n",
        "  #   return find_in_list(text, vegetable_list)\n",
        "  #   print(vegetable[find_in_list(text, vegetable_list)])\n",
        "  #   #return vegetable[find_in_list(text, vegetable_list)]\n",
        "  return \"000\"\n",
        "\n",
        "def find_produce_fuzz(text):\n",
        "  return get_score(text, rm)\n",
        "\n",
        "#NOT USED ANYMORE\n",
        "#categorize produce by fruit, vegetable, or herb\n",
        "#returns number with index at 0 changed to the appropriate type of produce category value\n",
        "def categorize_produce(index, number):\n",
        "  if int(index) <= 374 and int(index) >= 1:\n",
        "    number[0] = 2\n",
        "  elif int(index) <= 439:\n",
        "    number[0] = 1\n",
        "  elif int(index) <= 450:\n",
        "    number[0] = 5\n",
        "  return number\n",
        "\n",
        "#also used for determining code for pack size ¯\\_(ツ)_/¯\n",
        "#finds cut method, if it has one\n",
        "#returns the value it is associated with\n",
        "def cut_method(case, cut_list):\n",
        "  cut_num = 0\n",
        "  cut1_list = list(cut_list.keys())\n",
        "  for x in cut1_list:\n",
        "    x_lower = x.lower()\n",
        "    #x_lower = x.replace(\" \", \"\")\n",
        "    pattern = r'\\b' + re.escape(x_lower) + r'(?:d|ed|s|es)?\\b'\n",
        "    if bool(re.search(pattern, case.lower(), re.IGNORECASE)):\n",
        "      cut_num = cut_list[x]\n",
        "      return cut_num\n",
        "  return \"000\"\n",
        "\n",
        "def find_value_by_key(case, dictionary):\n",
        "  cut_num = 0\n",
        "  item_list = list(dictionary.keys())\n",
        "  for x in item_list:\n",
        "    x_lower = x.lower()\n",
        "    pattern = r'\\b\\d*\\s*' + re.escape(x_lower) + r'(?:d|ed|s|es)?\\b'\n",
        "    if bool(re.search(pattern, case.lower(), re.IGNORECASE)):\n",
        "      cut_num = dictionary[x]\n",
        "      return cut_num\n",
        "  return \"000\"\n",
        "\n",
        "#for determining code for cut_size\n",
        "def new_cut_size_funct(case, dict_list):\n",
        "  cut_code = \"000\"\n",
        "  modified_case = get_cut_size(case)\n",
        "  modified_case = modified_case.replace(\" \", \"\")\n",
        "  for i in dict_list:\n",
        "    if modified_case == i:\n",
        "      cut_code = dict_list[i]\n",
        "  current_key = find_key_by_value(dict_list, cut_code)\n",
        "\n",
        "  if current_key == \"Not Found\":\n",
        "    current_key = \"\"\n",
        "  #use fuzzy wuzzy method on it\n",
        "  new_cut_code = get_score(modified_case, dict_list)\n",
        "  new_key = find_key_by_value(dict_list, new_cut_code)\n",
        "  #compare results and save the longer one\n",
        "  actual_size = len(modified_case)\n",
        "  if len(current_key) == actual_size:\n",
        "    return cut_code\n",
        "  elif len(new_key) == actual_size:\n",
        "    return new_cut_code\n",
        "\n",
        "  find_code = find_in_list(case, dict_list)\n",
        "  if len(find_code) == actual_size:\n",
        "    return find_value_by_key(find_code, dict_list)\n",
        "\n",
        "  return cut_code\n",
        "\n",
        "\n",
        "def find_key_by_value(dictionary, target_value):\n",
        "    for key, value in dictionary.items():\n",
        "        if value == target_value:\n",
        "            return key\n",
        "    return \"Not Found\"  # Return None if the value is not found\n",
        "\n",
        "def replace_special(word, list_given, num):\n",
        "  word = word.lower().replace(\" \", \"\")\n",
        "  find = find_key_by_value(list_given, num)\n",
        "  find = find.lower().replace(\" \", \"\")\n",
        "  word = word.replace(find, \"\")\n",
        "  return word"
      ]
    },
    {
      "cell_type": "markdown",
      "metadata": {
        "id": "PcHdL7s6E-_E"
      },
      "source": [
        "Using fuzzywuzzy to calculate the score based on word similarity"
      ]
    },
    {
      "cell_type": "code",
      "source": [
        "def get_cut_size_special_case(word, substr):\n",
        "  new_word = ''\n",
        "  index = word.index(substr)\n",
        "  if index >= 1:\n",
        "    add = len(substr)\n",
        "    new_word = word[index-2] + word[index:index+add]\n",
        "  if not new_word[0].isnumeric():\n",
        "        return \"Not FOUND\"\n",
        "  return new_word\n",
        "\n",
        "#Mango Triangle 2\" X 1\" X 1/2\" (10Gm)\n",
        "def get_cut_size(word):\n",
        "  word = word.lower()\n",
        "  word = word.replace(\"''\", '_').replace(\"'\", '_').replace('\"\"', '_').replace('\"', \"_\").replace(\"/\", \"a\")\n",
        "  if word.find('_') != -1:\n",
        "    initial_index = word.index('_')\n",
        "    final_index = word.rindex('_')\n",
        "    if initial_index != final_index:\n",
        "      word_cut = word[0:initial_index]\n",
        "      begin_index = word_cut.rindex(\" \")\n",
        "      new_word = word[begin_index+1:final_index+1]\n",
        "      return new_word\n",
        "    elif initial_index == final_index:\n",
        "      word_cut = word[0:initial_index]\n",
        "      begin_index = word_cut.rindex(\" \")\n",
        "      new_word = word[begin_index+1:initial_index+1]\n",
        "      return new_word\n",
        "  elif word.find(\"oz\") != -1:\n",
        "    return get_cut_size_special_case(word, \"oz\")\n",
        "  elif word.find(\"gram\") != -1:\n",
        "    print(\"got here\")\n",
        "    return get_cut_size_special_case(word, \"gram\")\n",
        "  elif word.find(\"cut\") != -1:\n",
        "    return get_cut_size_special_case(word, \"cut\")\n",
        "  return \"Not FOUND\"\n",
        "print(get_cut_size('8 gram'))\n",
        "print(new_cut_size_funct('Kale Deribbed & Shredded 3\"x3\"x1/2\"', new_cut_dict))\n",
        "print(new_cut_size_funct('Pepper Yellow Bell Triangle cut (7 gram)', new_cut_dict))\n",
        "print(new_cut_dict)\n"
      ],
      "metadata": {
        "id": "u7XrVK3SfGP_"
      },
      "execution_count": null,
      "outputs": []
    },
    {
      "cell_type": "code",
      "source": [
        "# @title\n",
        "import pandas as pd\n",
        "import re\n",
        "corpus_item = {\"Onion Red Slab Sliced 1/8\\\"\", \"Squash Zucchini Ribbon Cut (No Seeds) 1/8\\\" X 3/4\\\"\", \"Watermelon Wedge 8 Cut (Skin On)\", \"Kale Deribbed & Shredded 1/4\\\"\"}\n",
        "corpus_item = [x.lower() for x in corpus_item]\n",
        "\n",
        "# removing the trailing numbers\n",
        "unit1 = ['lb','#','oz','gm']\n",
        "\n",
        "new_corpus = []\n",
        "\n",
        "# removing the trailing numbers\n",
        "unit1 = ['lb','#','oz','gm']\n",
        "\n",
        "new_corpus = []\n",
        "\n",
        "for sentence in corpus_item:\n",
        "  if any(i != sentence[-2:len(sentence)] for i in unit1) and sentence[-1] in '1234567890':\n",
        "    for c in range(len(sentence)-1, -1, -1):\n",
        "      if sentence[c-1] not in '1234567890':\n",
        "        sentence = sentence[0:c]\n",
        "        new_corpus.append(sentence)\n",
        "        break\n",
        "  else:\n",
        "    new_corpus.append(sentence)\n",
        "    continue\n",
        "\n",
        "#removing all whitespaces,\n",
        "#removing all '.' at the end,\n",
        "#remove all text before and include double-qoute or single-qoute\n",
        "\n",
        "unit2 = ['lb','oz','gm','gal', '#', 'ct']\n",
        "\n",
        "for i in range(len(new_corpus)):\n",
        "  new_corpus[i] = new_corpus[i].replace(' ','')\n",
        "  new_corpus[i] = new_corpus[i].rstrip('.')\n",
        "\n",
        "  if '\"' in new_corpus[i]:\n",
        "    indexDQ = new_corpus[i].rfind('\"')\n",
        "    new_corpus[i] = new_corpus[i].replace(new_corpus[i][0:indexDQ+1],'')\n",
        "\n",
        "  elif \"'\" in new_corpus[i]:\n",
        "    indexSQ = new_corpus[i].rfind(\"'\")\n",
        "    new_corpus[i] = new_corpus[i].replace(new_corpus[i][0:indexSQ+1],'')\n",
        "\n",
        "  else:\n",
        "    continue\n",
        "\n",
        "#add seperator before units in unit2\n",
        "unit2 = ['lb','oz','gm','gal', '#', 'ct']\n",
        "\n",
        "for i in range(len(new_corpus)):\n",
        "  cur_unit = ''\n",
        "  if any(unit in new_corpus[i][-4:] for unit in unit2):\n",
        "    for unit in unit2:\n",
        "      if unit in new_corpus[i][-4:]:\n",
        "        cur_unit = unit\n",
        "    str_idx, end_idx = new_corpus[i].find(cur_unit), new_corpus[i].rfind(cur_unit)\n",
        "    new_corpus[i] = new_corpus[i][0:str_idx] + '-' + new_corpus[i][end_idx:]\n",
        "\n",
        "print(new_corpus)"
      ],
      "metadata": {
        "id": "yb158d7SI1Ow",
        "cellView": "form"
      },
      "execution_count": null,
      "outputs": []
    },
    {
      "cell_type": "markdown",
      "source": [
        "# Spreadsheet Version\n",
        "This will run through all of the cases listed on the spreadsheet read above(Tests) and produce all of the results in the cell adjacent to the name."
      ],
      "metadata": {
        "id": "HDbhejLruuPw"
      }
    },
    {
      "cell_type": "code",
      "execution_count": null,
      "metadata": {
        "id": "0spdI2BQl4so"
      },
      "outputs": [],
      "source": [
        "#----------------------------------------------------Convert Text to Code---------------------------------------------------------------\n",
        "#tests = input(\"Enter the number of tests: \")\n",
        "#i = 0\n",
        "name_to_code = []\n",
        "#while i < int(tests):\n",
        "for case in name_list:\n",
        "  #case = input(\"Enter the case value: \")\n",
        "  #initialize item code\n",
        "  if len(case) < 5:\n",
        "    number = \"Not valid value\"\n",
        "    name_to_code.append(str(item_code))\n",
        "  else:\n",
        "    cut_size_num = new_cut_size_funct(case, new_cut_dict)\n",
        "    number = [0,0,0,0,0,0,0,0,0,0,0,0,0,0,0,0,0,0,0]\n",
        "    #assign second digit based on whether or not it is organic\n",
        "    if(find_organic(case)):\n",
        "      number[1] = 2\n",
        "    else:\n",
        "      number[1] = 1\n",
        "\n",
        "    type_of_produce_index = find_produce_fuzz(case)\n",
        "    case = case.replace(find_key_by_value(rm, type_of_produce_index), \"\")\n",
        "\n",
        "    #assign frist digit based on the product type(ie. fruit or veggie)\n",
        "\n",
        "    number = categorize_produce(type_of_produce_index, number)\n",
        "\n",
        "    #assign digits 2-5 based on the produce\n",
        "    digits = [int(x) for x in str(type_of_produce_index)]\n",
        "    number[2] = digits[0]\n",
        "    number[3] = digits[1]\n",
        "    number[4] = digits[2]\n",
        "\n",
        "    #assign machine/hand cut to 6\n",
        "\n",
        "    #assign digits 7-9 based on the cut method\n",
        "    cut_method_num = str(get_score(case, cuts))\n",
        "    case = case.replace(find_key_by_value(cuts, cut_method_num), \"\")\n",
        "    number[6] = int(cut_method_num[0])\n",
        "    number[7] = int(cut_method_num[1])\n",
        "    number[8] = int(cut_method_num[2])\n",
        "    #for ones with cut and another cut method in it, its wrong\n",
        "\n",
        "    pack_size_num = cut_method(case, pack_size_dict)\n",
        "    #case = case.replace(find_key_by_value(pack_size_dict, pack_size_num), \"\")\n",
        "    case = replace_special(case, pack_size_dict, pack_size_num)\n",
        "    number[12] = int(pack_size_num[0])\n",
        "    number[13] = int(pack_size_num[1])\n",
        "    number[14] = int(pack_size_num[2])\n",
        "\n",
        "    #assign digits 10-12 for cut size\n",
        "    number[9] = int(cut_size_num[0])\n",
        "    number[10] = int(cut_size_num[1])\n",
        "    number[11] = int(cut_size_num[2])\n",
        "    #concatenate result\n",
        "    item_code = 0\n",
        "    for x in number:\n",
        "      item_code = str(item_code) + str(x)\n",
        "      item_code = int(item_code)\n",
        "\n",
        "    #print result\n",
        "    name_to_code.append(str(item_code))\n",
        "  #+=1"
      ]
    },
    {
      "cell_type": "markdown",
      "source": [
        "Prints to Spreadsheet\n",
        "\n",
        "Writes the data into the spreadsheet, if the spreadsheet name was changed, make sure to change the name here too (ie. original spreadsheet was titled Tests.xlsx, new one being used is MyTests, change /content/drive/My Drive/Tests.xlsx to /content/drive/My Drive/MyTests.xlsx)\n",
        "\n",
        "Note: there are two places where you would have to change the name, lines 150 and 159"
      ],
      "metadata": {
        "id": "-gGE2sNqeSc-"
      }
    },
    {
      "cell_type": "code",
      "source": [
        "#write back in\n",
        "ef['New'] = name_to_code\n",
        "#save modified file to dataframe\n",
        "ef.to_excel(\"ProductList07_5_2024.xlsx\", index = False)\n",
        "\n",
        "df_new = pd.DataFrame({'New':name_to_code})\n",
        "wb = load_workbook('/content/drive/My Drive/ProductList07_5_2024.xlsx')\n",
        "\n",
        "ws = wb['ACTIVE LIST']\n",
        "\n",
        "for index, row in df_new.iterrows():\n",
        "  cell = 'C%d' % (index+2)\n",
        "  ws[cell] = row[0]\n",
        "\n",
        "# df.iloc[[2],[6]] = 'Edited Description'\n",
        "wb.save('/content/drive/My Drive/ProductList07_5_2024.xlsx')"
      ],
      "metadata": {
        "id": "mrUF2GbnL7DP"
      },
      "execution_count": null,
      "outputs": []
    },
    {
      "cell_type": "code",
      "source": [
        "df_new = pd.DataFrame({'Code': name_to_code})\n",
        "wb = load_workbook('/content/drive/My Drive/Tests.xlsx')\n",
        "\n",
        "ws = wb['Sheet1']\n",
        "\n",
        "for index, row in df_new.iterrows():\n",
        "    cell = 'B%d'  % (index + 2)\n",
        "    ws[cell] = row[0]\n",
        "\n",
        "\n",
        "wb.save('/content/drive/My Drive/Tests.xlsx')"
      ],
      "metadata": {
        "id": "9jUe_nPEbQwW"
      },
      "execution_count": null,
      "outputs": []
    },
    {
      "cell_type": "markdown",
      "source": [
        "# Input Output Version\n",
        "**Instructions**:\n",
        "\n",
        "Input number of tests you want to complete\n",
        "\n",
        "Enter tests one by one"
      ],
      "metadata": {
        "id": "cup5WzB5gggv"
      }
    },
    {
      "cell_type": "code",
      "source": [
        "#----------------------------------------------------Convert Text to Code---------------------------------------------------------------\n",
        "tests = input(\"Enter the number of tests: \")\n",
        "i = 0\n",
        "name_to_code = []\n",
        "while i < int(tests):\n",
        "  case = input(\"Enter the case value: \")\n",
        "  #initialize item code\n",
        "  number = [0,0,0,0,0,0,0,0,0,0,0,0,0,0,0,0,0,0,0]\n",
        "  #assign second digit based on whether or not it is organic\n",
        "  if(find_organic(case)):\n",
        "    number[1] = 2\n",
        "  else:\n",
        "    number[1] = 1\n",
        "\n",
        "  #get the cut size\n",
        "  cut_size_word = get_cut_size(case)\n",
        "\n",
        "  type_of_produce_index = find_produce_fuzz(case)\n",
        "  case = case.replace(find_key_by_value(rm, type_of_produce_index), \"\")\n",
        "\n",
        "  #assign frist digit based on the product type(ie. fruit or veggie)\n",
        "  #if case.find(\"mix\") or case.find(\"stir\") or case.find(\"salad\") or case.find(\"hamburger\"):\n",
        "  #  number = 3\n",
        " # else:\n",
        "  number = categorize_produce(type_of_produce_index, number)\n",
        "\n",
        "  #assign digits 2-5 based on the produce\n",
        "  digits = [int(x) for x in str(type_of_produce_index)]\n",
        "  number[2] = digits[0]\n",
        "  number[3] = digits[1]\n",
        "  number[4] = digits[2]\n",
        "\n",
        "  #assign machine/hand cut to 6\n",
        "\n",
        "  #assign digits 7-9 based on the cut method\n",
        "  cut_method_num = str(get_score(case, cuts))\n",
        "  case = case.replace(find_key_by_value(cuts, cut_method_num), \"\")\n",
        "  number[6] = int(cut_method_num[0])\n",
        "  number[7] = int(cut_method_num[1])\n",
        "  number[8] = int(cut_method_num[2])\n",
        "  #for ones with cut and another cut method in it, its wrong\n",
        "\n",
        "  pack_size_num = cut_method(case, pack_size_dict)\n",
        "  #case = case.replace(find_key_by_value(pack_size_dict, pack_size_num), \"\")\n",
        "  case = replace_special(case, pack_size_dict, pack_size_num)\n",
        "  number[12] = int(pack_size_num[0])\n",
        "  number[13] = int(pack_size_num[1])\n",
        "  number[14] = int(pack_size_num[2])\n",
        "\n",
        "  print(cut_size_word)\n",
        "  cut_size_num = new_cut_size_funct(cut_size_word, new_cut_dict)\n",
        "  #assign digits 10-12 for cut size\n",
        "  number[9] = int(cut_size_num[0])\n",
        "  number[10] = int(cut_size_num[1])\n",
        "  number[11] = int(cut_size_num[2])\n",
        "\n",
        "  #concatenate result\n",
        "  item_code = 0\n",
        "  for x in number:\n",
        "    item_code = str(item_code) + str(x)\n",
        "    item_code = int(item_code)\n",
        "\n",
        "\n",
        "  #print result\n",
        "  print(\"Item Code for \" + case + \" is: \" + str(item_code))\n",
        "  print()\n",
        "  i+=1"
      ],
      "metadata": {
        "id": "6lolI-tmfQRW"
      },
      "execution_count": null,
      "outputs": []
    },
    {
      "cell_type": "markdown",
      "source": [
        "# Convert Codes to Names\n",
        "\n",
        "\n",
        "\n",
        "*   This reads the codes inputted previously into Colab\n",
        "*   If it doesn't work make sure to wait a little bit to make sure that the spreadsheet and Colab both have received the updates from the previous chunk of code and that the product codes are in the spreadsheet\n",
        "*   Make sure that the product codes are under a row titled \"Codes\"\n",
        "\n"
      ],
      "metadata": {
        "id": "qmtvPFnMytTT"
      }
    },
    {
      "cell_type": "code",
      "source": [
        "ef = pd.read_excel('/content/drive/My Drive/Tests.xlsx',)\n",
        "\n",
        "ef.dropna(subset=['Codes'], inplace=True)\n",
        "code_cases = ef['Codes'].astype(str).to_numpy()\n",
        "\n",
        "code_list = []\n",
        "for i in code_cases:\n",
        "  code_list.append(str(i))"
      ],
      "metadata": {
        "id": "vYEyWvFT1SUR"
      },
      "execution_count": null,
      "outputs": []
    },
    {
      "cell_type": "code",
      "source": [
        "def get_rid_of_not_found(word):\n",
        "  if word == \"Not Found\":\n",
        "    word = \"\"\n",
        "  return word"
      ],
      "metadata": {
        "id": "7xlaQSR_2R87"
      },
      "execution_count": null,
      "outputs": []
    },
    {
      "cell_type": "code",
      "execution_count": null,
      "metadata": {
        "id": "W6KGt_rN2wJy"
      },
      "outputs": [],
      "source": [
        "#--------------------------------------------------------Main--------------------------------------------------------------------\n",
        "#\n",
        "#\n",
        "#----------------------------------------------------Convert Code to Text--------------------------------------------------------\n",
        "code_to_name = []\n",
        "for number in code_list:\n",
        "  category = number[0]\n",
        "  is_organic = number[1]\n",
        "  produce_type = number[2:5]\n",
        "  cut_type_input = number[5]\n",
        "  cut_method_input = number[6:9]\n",
        "  cut_size_input = number[9:12]\n",
        "  pack_size_input = number[12:15]\n",
        "  container_type_input = number[15:17]\n",
        "  packing_material_input = number[17:18]\n",
        "\n",
        "  produce_word = find_key_by_value(rm, produce_type)\n",
        "  cut_word = find_key_by_value(cuts, cut_method_input)\n",
        "  cut_size_word = find_key_by_value(cut_dict, cut_size_input)\n",
        "  pack_word = find_key_by_value(pack_size_dict, pack_size_input)\n",
        "\n",
        "  produce_word = get_rid_of_not_found(produce_word)\n",
        "  cut_word = get_rid_of_not_found(cut_word)\n",
        "  cut_size_word = get_rid_of_not_found(cut_size_word)\n",
        "  pack_word = get_rid_of_not_found(pack_word)\n",
        "\n",
        "  if is_organic == '1':\n",
        "    name = produce_word + \" \" + cut_word + \" \" + cut_size_word + \" \" + pack_word\n",
        "  else:\n",
        "    name = \"Organic \" + produce_word + \" \" + cut_word + \" \" + cut_size_word + \" \" + pack_word\n",
        "  code_to_name.append(name)\n"
      ]
    },
    {
      "cell_type": "markdown",
      "source": [
        "Writes the data into the spreadsheet, if the spreadsheet name was changed, make sure to change the name here too (ie. original spreadsheet was titled Tests.xlsx, new one being used is MyTests, change /content/drive/My Drive/Tests.xlsx to /content/drive/My Drive/MyTests.xlsx)\n",
        "\n",
        "Note: there are two places where you would have to change the name, lines 120 and 129"
      ],
      "metadata": {
        "id": "vYbKF8DSzcXN"
      }
    },
    {
      "cell_type": "code",
      "source": [
        "# @title\n",
        "df_new = pd.DataFrame({'Name': code_to_name})\n",
        "wb = load_workbook('/content/drive/My Drive/Tests.xlsx')\n",
        "\n",
        "ws = wb['Sheet1']\n",
        "\n",
        "for index, row in df_new.iterrows():\n",
        "    cell = 'C%d'  % (index + 2)\n",
        "    ws[cell] = row[0]\n",
        "\n",
        "\n",
        "wb.save('/content/drive/My Drive/Tests.xlsx')"
      ],
      "metadata": {
        "id": "hStqGgAvv45g"
      },
      "execution_count": null,
      "outputs": []
    },
    {
      "cell_type": "code",
      "source": [
        "#--------------------------------------------------------Main--------------------------------------------------------------------\n",
        "#\n",
        "#\n",
        "#----------------------------------------------------Convert Code to Text--------------------------------------------------------\n",
        "tests = input(\"Enter the number of tests: \")\n",
        "i = 0\n",
        "while i < int(tests):\n",
        "  number = input(\"Enter the code value: \")\n",
        "  category = number[0]\n",
        "  is_organic = number[1]\n",
        "  produce_type = number[2:5]\n",
        "  cut_type_input = number[5]\n",
        "  cut_method_input = number[6:9]\n",
        "  cut_size_input = number[9:12]\n",
        "  pack_size_input = number[12:15]\n",
        "  container_type_input = number[15:17]\n",
        "  packing_material_input = number[17:18]\n",
        "\n",
        "  produce_word = find_key_by_value(rm, produce_type)\n",
        "  cut_word = find_key_by_value(cuts, cut_method_input)\n",
        "  cut_size_word = find_key_by_value(cut_dict, cut_size_input)\n",
        "  pack_word = find_key_by_value(pack_size_dict, pack_size_input)\n",
        "\n",
        "  produce_word = get_rid_of_not_found(produce_word)\n",
        "  cut_word = get_rid_of_not_found(cut_word)\n",
        "  cut_size_word = get_rid_of_not_found(cut_size_word)\n",
        "  pack_word = get_rid_of_not_found(pack_word)\n",
        "\n",
        "  if category == '1':\n",
        "    print(\"Category: Fruit\")\n",
        "    if is_organic == '1':\n",
        "      print(\"Organic/Inorganic: Inorganic\")\n",
        "    else:\n",
        "      print(\"Organic/Inorganic: Organic\")\n",
        "\n",
        "  if category == '2':\n",
        "    print(\"Category: Vegetable\")\n",
        "    if is_organic == '1':\n",
        "      print(\"Organic/Inorganic: Inorganic\")\n",
        "    else:\n",
        "      print(\"Organic/Inorganic: Organic\")\n",
        "\n",
        "  if category == '5':\n",
        "    print(\"Category: Herb\")\n",
        "    if is_organic == '1':\n",
        "      print(\"Organic/Inorganic: Inorganic\")\n",
        "    else:\n",
        "      print(\"Organic/Inorganic: Organic\")\n",
        "  print(\"Type of Produce: \" + find_key_by_value(rm, produce_type))\n",
        "  print(\"Cut Method: \" + find_key_by_value(cuts, cut_method_input))\n",
        "  print(\"Cut Size: \" + find_key_by_value(cut_dict, cut_size_input))\n",
        "  pack_size_input = pack_size_input.replace(\" \", \"\")\n",
        "  print(\"Pack Size: \"+ find_key_by_value(pack_size_dict, pack_size_input))\n",
        "  #print(\"Container: \" + find_key_by_value(container_type_input, container_dict))\n",
        "  #print(\"Packing Material: \" + find_key_by_value(packing_material_input, packing_material_dict))\n",
        "  print()\n",
        "\n",
        "  if is_organic == '1':\n",
        "    name = produce_word + \" \" + cut_word + \" \" + cut_size_word + \" \" + pack_word\n",
        "  else:\n",
        "    name = \"Organic \" + produce_word + \" \" + cut_word + \" \" + cut_size_word + \" \" + pack_word\n",
        "  i += 1"
      ],
      "metadata": {
        "id": "vR9YIdAdkNCY"
      },
      "execution_count": null,
      "outputs": []
    },
    {
      "cell_type": "code",
      "execution_count": null,
      "metadata": {
        "cellView": "form",
        "id": "oFvqWP6kM71N"
      },
      "outputs": [],
      "source": [
        "# @title\n",
        "#------------------------------------------------Type of Produce------------------------------------------------------------------\n",
        "\n",
        "fruit = [\"Apple Braeburn\",\t\"Apple Fuji\",\t\"Apple Gala\",\t\"Apple Golden\",\t\"Apple Granny Smith\",\t\"Apple Granny\",\t\"Apple Pink Lady\",\t\"Apple Red\",\t\"Apple Fuji\",\t\"Apples\",\t\"Papaya Green\",\t\"Banana Green\",\t\"Banana\",\t\"Grapefruit\",\t\"Grapes Green\",\t\"Grapes Red\",\t\"Honeydew\",\t\"Kiwi\",\t\"Lemon\",\t\"Lime\",\t\"Mango Green\",\t\"Mango\",\t\"Orange Blood\",\t\"Orange Kara Kara\",\t\"Orange\",\t\"Organic Granny Smith Apple\",\t\"Papaya Hawaiian\",\t\"Papaya Mexican\",\t\"Papaya Yellow/Hawaiian\",\t\"Papaya\",\t\"Peach\",\t\"Pear Asian\",\t\"Pear Bartlett\",\t\"Pear Bosc\",\t\"Pear Green\",\t\"Pear\",\t\"Pineapple Golden Ripe\",\t\"Pineapple\",\t\"Raspberry\",\t\"Strawberry\",\t\"Tamarind \",\t\"Tomatillo\",\t\"Tomato Heirloom Green\",\t\"Tomato Heirloom Red\",\t\"Tomato Heirloom Yellow\",\t\"Tomato Roma\",\t\"Tomato Round\",\t\"Tomato\",\t\"Watermelon Seedless\",\t\"Watermelon\",]\n",
        "fruit_num = [\"001\",\t\"002\",\t\"003\",\t\"004\",\t\"005\",\t\"006\",\t\"007\",\t\"008\",\t\"009\",\t\"010\",\t\"011\",\t\"012\",\t\"013\",\t\"014\",\t\"015\",\t\"016\",\t\"017\",\t\"018\",\t\"019\",\t\"020\",\t\"021\",\t\"022\",\t\"023\",\t\"024\",\t\"025\",\t\"026\",\t\"027\",\t\"028\",\t\"029\",\t\"030\",\t\"031\",\t\"032\",\t\"033\",\t\"034\",\t\"035\",\t\"036\",\t\"037\",\t\"038\",\t\"039\",\t\"040\",\t\"041\",\t\"042\",\t\"043\",\t\"044\",\t\"045\",\t\"046\",\t\"047\",\t\"048\",\t\"049\",\t\"050\"]\n",
        "vegetable = [\"Asparagus Green\",\t\"Asparagus White\",\t\"Asparagus\",\t\"Baby French Bean\",\t\"Bean Fava\",\t\"Bean French\",\t\"Bean Green\",\t\"Bean Long Green\",\t\"Bean Yellow Wax\",\t\"Beet Chioggia\",\t\"Beet Gold Baby\",\t\"Beet Gold\",\t\"Beet Red\",\t\"Beet Red Baby\",\t\"Beet Striped Baby\",\t\"Bok Choy Baby\",\t\"Bok Choy\",\t\"Broccoli Florets\",\t\"Broccoli Slaw\",\t\"Broccoli\",\t\"Broccolini\",\t\"Brussel Sprout\",\t\"Cabbage Green\",\t\"Cabbage Napa\",\t\"Cabbage Red\",\t\"Cabbage Savoy\",\t\"Cantaloupe\",\t\"Carrot Rainbow\",\t\"Carrot\",\t\"Cauliflower Bud\",\t\"Cauliflower Florets\",\t\"Cauliflower\",\t\"Celery Root\",\t\"Celery\",\t\"Chard Green\",\t\"Chard Rainbow\",\t\"Chard Red\",\t\"Chives\",\t\"Choy Sum\",\t\"Cilantro\",\t\"Collard Green\",\t\"Corn White\",\t\"Corn Yellow\",\t\"Corn\",\t\"Cucumber English\",\t\"Cucumber Pickling\",\t\"Cucumber\",\t\"Radish Daikon\",\t\"Eggplant Japanese\",\t\"Eggplant\",\t\"Fennel\",\t\"Garlic\",\t\"Ginger\",\t\"Ginger Root\",\t\"Horseradish\",\t\"Jicama Root\",\t\"Jicama\",\t\"Kai Lan\",\t\"Kale Green\",\t\"Kale Baby\",\t\"Kale Lacinato\",\t\"Organic Kale Lacinato\",\t\"Kohlrabi\",\t\"Leek\",\t\"Lettuce Boston\",\t\"Lettuce Butter\",\t\"Lettuce Escarole\",\t\"Lettuce Frisee Blonde \",\t\"Lettuce Frisee \",\t\"Lettuce Green Leaf\",\t\"Lettuce Iceberg Premium\",\t\"Lettuce Iceberg\",\t\"Lettuce Mache Hydroponic \",\t\"Lettuce Radicchio\",\t\"Lettuce Red Leaf Fillets \",\t\"Lettuce Romaine Fillets\",\t\"Lettuce Romaine Heart\",\t\"Lettuce Romaine\",\t\"Lotus Root\",\t\"Mushroom Crimini\",\t\"Mushroom Medium\",\t\"Mushroom Oyster\",\t\"Mushroom Portobello\",\t\"Mushroom Shiitake\",\t\"Mushroom Shiitake Flower\",\t\"Mushroom White\",\t\"Mushroom\",\t\"Mustard Green\",\t\"Nopales Cactus Leaves\",\t\"Nopales\",\t\"Okra\",\t\"Onion Green\",\t\"Onion Red\",\t\"Onion Red Jumbo\",\t\"Onion White\",\t\"Onion Yellow\",\t\"Onion Yellow Sweet\",\t\"Organic Bean Greens\",\t\"Organic Brussel Sprout\",\t\"Organic Cabbage Green\",\t\"Organic Cabbage Red\",\t\"Organic Cabbage Savoy\",\t\"Organic Carrot\",\t\"Organic Celery\",\t\"Organic Chard Rainbow\",\t\"Organic Fennel \",\t\"Organic Kale\",\t\"Organic Leek\",\t\"Organic Lettuce Romaine\",\t\"Organic Mushroom Button\",\t\"Organic Onion Red \",\t\"Organic Onion Yellow\",\t\"Organic Pepepr Jalapeno\",\t\"Organic Pepper Red Bell\",\t\"Organic Potato Sweet\",\t\"Organic Potato\",\t\"Organic Red Onion\",\t\"Organic Shallot\",\t\"Organic Squash Butternut\",\t\"Organic Squash Yellow\",\t\"Organic Squash Zucchini\",\t\"Organic Tomato\",\t\"Organic Yam\",\t\"Organic Yellow Onion\",\t\"Parsnip\",\t\"Pea Snap\",\t\"Pea Snow\",\t\"Pepper Anaheim\",\t\"Pepper Fresno Red \",\t\"Pepper Yellow Bell\",\t\"Pepper Green Bell\",\t\"Pepper Jalapeno\",\t\"Organic Pepper Green Bell\",\t\"Pepper Pasilla\",\t\"Pepper Poblano\",\t\"Pepper Red Bell\",\t\"Pepper Red Jalapeno\",\t\"Pepper Serrano\",\t\"Pepper Shishito\",\t\"Potato Russet\",\t\"Potato Fingerling\",\t\"Potato Kennebec\",\t\"Potato Purple A\",\t\"Potato Purple B\",\t\"Potato Purple\",\t\"Potato Red #2\",\t\"Potato Red A\",\t\"Potato Red B\",\t\"Potato Red C\",\t\"Potato Red\",\t\"Potato Russet #2\",\t\"Potato Russet Baker #1\",\t\"Potato Sweet\",\t\"Potato White\",\t\"Potato Yukon A\",\t\"Potato Yukon B\",\t\"Potato Yukon C\",\t\"Potato Yukon \",\t\"Potato\",\t\"Pumpkin\",\t\"Radish Red\",\t\"Radish Watermelon\",\t\"Rutabaga\",\t\"Squash Acorn\",\t\"Squash Banana\",\t\"Squash Butternut\",\t\"Squash Chayote\",\t\"Squash Delicata\",\t\"Squash Kabocha\",\t\"Squash Loofah\",\t\"Squash Sunburst Baby\",\t\"Squash Yellow\",\t\"Squash Yellow Fancy \",\t\"Squash Zucchini\",\t\"Squash Zucchini Fancy\",\t\"Taro Root\",\t\"Turnip Baby\",\t\"Turnip\",\t\"Yam Jumbo\",\t\"Yams\",\t\"Yu Choy \"\n",
        "]\n",
        "vegetable_num = [\"056\", \"057\",\t\"058\",\t\"059\",\t\"060\",\t\"061\",\t\"062\",\t\"063\",\t\"064\",\t\"065\",\t\"066\",\t\"067\",\t\"068\",\t\"069\",\t\"070\",\t\"071\",\t\"072\",\t\"073\",\t\"074\",\t\"075\",\t\"076\",\t\"077\",\t\"078\",\t\"079\",\t\"080\",\t\"081\",\t\"082\",\t\"083\",\t\"084\",\t\"085\",\t\"086\",\t\"087\",\t\"088\",\t\"089\",\t\"090\",\t\"091\",\t\"092\",\t\"093\",\t\"094\",\t\"095\",\t\"096\",\t\"097\",\t\"098\",\t\"099\",\t\"100\",\t\"101\",\t\"102\",\t\"103\",\t\"104\",\t\"105\",\t\"106\",\t\"107\",\t\"108\",\t\"109\",\t\"110\",\t\"111\",\t\"112\",\t\"113\",\t\"114\",\t\"115\",\t\"116\",\t\"117\",\t\"118\",\t\"119\",\t\"120\",\t\"121\",\t\"122\",\t\"123\",\t\"124\",\t\"125\",\t\"126\",\t\"127\",\t\"128\",\t\"129\",\t\"130\",\t\"131\",\t\"132\",\t\"133\",\t\"134\",\t\"135\",\t\"136\",\t\"137\",\t\"138\",\t\"139\",\t\"140\",\t\"141\",\t\"142\",\t\"143\",\t\"144\",\t\"145\",\t\"146\",\t\"147\",\t\"148\",\t\"149\",\t\"150\",\t\"151\",\t\"152\",\t\"153\",\t\"154\",\t\"155\",\t\"156\",\t\"157\",\t\"158\",\t\"159\",\t\"160\",\t\"161\",\t\"162\",\t\"163\",\t\"164\",\t\"165\",\t\"166\",\t\"167\",\t\"168\",\t\"169\",\t\"170\",\t\"171\",\t\"172\",\t\"173\",\t\"174\",\t\"175\",\t\"176\",\t\"177\",\t\"178\",\t\"179\",\t\"180\",\t\"181\",\t\"182\",\t\"183\",\t\"184\",\t\"185\",\t\"186\",\t\"187\",\t\"188\",\t\"189\",\t\"190\",\t\"191\",\t\"192\",\t\"193\",\t\"194\",\t\"195\",\t\"196\",\t\"197\",\t\"198\",\t\"199\",\t\"200\",\t\"201\",\t\"202\",\t\"203\",\t\"204\",\t\"205\",\t\"206\",\t\"207\",\t\"208\",\t\"209\",\t\"210\",\t\"211\",\t\"212\",\t\"213\",\t\"214\",\t\"215\",\t\"216\",\t\"217\",\t\"218\",\t\"219\",\t\"220\",\t\"221\",\t\"222\",\t\"223\",\t\"224\",\t\"225\",\t\"226\",\t\"227\",\t\"228\",\t\"229\",\t\"230\",\t\"231\",\t\"232\",\t\"233\",\t\"234\",\t\"235\",\t\"236\"\n",
        "]\n",
        "herb = [\"Parsley Curley\",\t\"Parsley \",\t\"Shallot\",\t\"Turmeric\",\t\"Yucca Root\"]\n",
        "herb_num = [\"051\",\t\"052\",\t\"053\",\t\"054\",\t\"055\"]\n",
        "\n",
        "#---------------------------------------------------------------------------------------------------------------------------------\n",
        "\n",
        "\n",
        "#----------------------------------------------------Functions-----------------------------------------------------------------\n",
        "#find word(search) in given phrase(text)\n",
        "#return true if found\n",
        "def find_words(text, search):\n",
        "    \"\"\"Find exact words\"\"\"\n",
        "    text = text.lower()\n",
        "    search = search.lower()\n",
        "\n",
        "    dText   = text.split()\n",
        "    dSearch = search.split()\n",
        "\n",
        "    found_word = 0\n",
        "\n",
        "    for text_word in dText:\n",
        "        for search_word in dSearch:\n",
        "            if search_word == text_word:\n",
        "                found_word += 1\n",
        "\n",
        "    return found_word == len(dSearch)\n",
        "\n",
        "#determine if product is organic or not\n",
        "#return true if is organic\n",
        "def find_organic(text):\n",
        "  return find_words(text, 'organic')\n",
        "\n",
        "#determine index of item\n",
        "#returns type of produce index\n",
        "def find_produce(text):\n",
        "  for i in fruit:\n",
        "    if find_words(text, i):\n",
        "      return fruit_num[fruit.index(i)]\n",
        "  for i in herb:\n",
        "    if find_words(text, i):\n",
        "      return herb_num[herb.index(i)]\n",
        "  for i in vegetable:\n",
        "    if find_words(text, i):\n",
        "      return vegetable_num[vegetable.index(i)]\n",
        "\n",
        "#categorize produce by fruit, vegetable, or herb\n",
        "#returns number with index at 0 changed to the appropriate type of produce category value\n",
        "def categorize_produce(index, number):\n",
        "  if int(index) <= 50 and int(index) >= 1:\n",
        "    number[0] = 1\n",
        "  elif int(index) <= 55:\n",
        "    number[0] = 5\n",
        "  elif int(index) <= 236:\n",
        "    number[0] = 2\n",
        "  return number\n",
        "\n",
        "#finds cut method, if it has one\n",
        "#returns the value it is associated with\n",
        "def cut_method(text):\n",
        "  if find_words(text, 'wedge'):\n",
        "    return 1\n",
        "  elif find_words(text, 'juliene'):\n",
        "    return 2\n",
        "  elif find_words(text, 'diced'):\n",
        "    return 3\n",
        "  else:\n",
        "    return 0\n",
        "#--------------------------------------------------------Main--------------------------------------------------------------------\n",
        "tests = input(\"Enter the number of tests: \")\n",
        "i = 0\n",
        "\n",
        "while i < int(tests):\n",
        "  case = input(\"Enter the case value: \")\n",
        "  number = [0,0,0,0,0,0,0,0,0,0,0,0,0,0,0,0,0]\n",
        "\n",
        "  if(find_organic(case)):\n",
        "    number[1] = 2;\n",
        "  else:\n",
        "    number[1] = 1;\n",
        "\n",
        "  type_of_produce_index = find_produce(case)\n",
        "  number = categorize_produce(type_of_produce_index, number)\n",
        "\n",
        "  digits = [int(x) for x in str(type_of_produce_index)]\n",
        "  number[2] = digits[0]\n",
        "  number[3] = digits[1]\n",
        "  number[4] = digits[2]\n",
        "\n",
        "  number[6] = cut_method(case)\n",
        "\n",
        "  print(number)\n",
        "  item_code = 0\n",
        "  for i in number:\n",
        "    item_code = str(item_code) + str(i)\n",
        "    item_code = int(item_code)\n",
        "\n",
        "  print(\"Item Code for \" + case + \" is: \" + str(item_code))\n",
        "  print()\n",
        "  i+=1\n"
      ]
    }
  ],
  "metadata": {
    "colab": {
      "provenance": [],
      "include_colab_link": true
    },
    "kernelspec": {
      "display_name": "Python 3",
      "name": "python3"
    },
    "language_info": {
      "name": "python"
    }
  },
  "nbformat": 4,
  "nbformat_minor": 0
}