{
  "cells": [
    {
      "cell_type": "markdown",
      "metadata": {
        "id": "view-in-github",
        "colab_type": "text"
      },
      "source": [
        "<a href=\"https://colab.research.google.com/github/dinothaurs/productEncoding/blob/main/Copy_of_Production_Coding_2.ipynb\" target=\"_parent\"><img src=\"https://colab.research.google.com/assets/colab-badge.svg\" alt=\"Open In Colab\"/></a>"
      ]
    },
    {
      "cell_type": "markdown",
      "source": [
        "Download the fuzzywuzzy package. This only needs to be run once."
      ],
      "metadata": {
        "id": "sgs5QCAlheVd"
      }
    },
    {
      "cell_type": "code",
      "execution_count": null,
      "metadata": {
        "colab": {
          "base_uri": "https://localhost:8080/"
        },
        "id": "fA5d1MOv4MR-",
        "outputId": "0d189e6b-51d7-4670-f0b1-cfda15a8b596"
      },
      "outputs": [
        {
          "output_type": "stream",
          "name": "stdout",
          "text": [
            "Collecting fuzzywuzzy\n",
            "  Downloading fuzzywuzzy-0.18.0-py2.py3-none-any.whl (18 kB)\n",
            "Installing collected packages: fuzzywuzzy\n",
            "Successfully installed fuzzywuzzy-0.18.0\n",
            "Collecting python-Levenshtein\n",
            "  Downloading python_Levenshtein-0.25.1-py3-none-any.whl (9.4 kB)\n",
            "Collecting Levenshtein==0.25.1 (from python-Levenshtein)\n",
            "  Downloading Levenshtein-0.25.1-cp310-cp310-manylinux_2_17_x86_64.manylinux2014_x86_64.whl (177 kB)\n",
            "\u001b[2K     \u001b[90m━━━━━━━━━━━━━━━━━━━━━━━━━━━━━━━━━━━━━━━━\u001b[0m \u001b[32m177.4/177.4 kB\u001b[0m \u001b[31m2.8 MB/s\u001b[0m eta \u001b[36m0:00:00\u001b[0m\n",
            "\u001b[?25hCollecting rapidfuzz<4.0.0,>=3.8.0 (from Levenshtein==0.25.1->python-Levenshtein)\n",
            "  Downloading rapidfuzz-3.9.4-cp310-cp310-manylinux_2_17_x86_64.manylinux2014_x86_64.whl (3.4 MB)\n",
            "\u001b[2K     \u001b[90m━━━━━━━━━━━━━━━━━━━━━━━━━━━━━━━━━━━━━━━━\u001b[0m \u001b[32m3.4/3.4 MB\u001b[0m \u001b[31m36.1 MB/s\u001b[0m eta \u001b[36m0:00:00\u001b[0m\n",
            "\u001b[?25hInstalling collected packages: rapidfuzz, Levenshtein, python-Levenshtein\n",
            "Successfully installed Levenshtein-0.25.1 python-Levenshtein-0.25.1 rapidfuzz-3.9.4\n"
          ]
        }
      ],
      "source": [
        "!pip install fuzzywuzzy\n",
        "!pip install python-Levenshtein"
      ]
    },
    {
      "cell_type": "markdown",
      "source": [
        "# Connecting Google Drive and Colab\n",
        "Connect Colab with your Google Drive, after it runs it will provide a popup asking you to connect with your Google Drive, select the Google account your spreadsheets will be located in and agree to mount Drive to Colab."
      ],
      "metadata": {
        "id": "3hhy7NjXhlv0"
      }
    },
    {
      "cell_type": "code",
      "execution_count": null,
      "metadata": {
        "colab": {
          "base_uri": "https://localhost:8080/"
        },
        "id": "yC7nTBOvW-nf",
        "outputId": "7526156c-3252-4971-b61e-e7539e03ae82"
      },
      "outputs": [
        {
          "output_type": "stream",
          "name": "stdout",
          "text": [
            "Mounted at /content/drive\n"
          ]
        }
      ],
      "source": [
        "from google.colab import drive\n",
        "drive.mount('/content/drive')"
      ]
    },
    {
      "cell_type": "markdown",
      "source": [
        "Reading data from Google Drive\n",
        "\n",
        "To ensure that the following code works, please open your google drive and find three files that should have been shared with you:\n",
        "\n",
        "\n",
        "*   CutSize.xlsx\n",
        "*   RMfullList.xlsx\n",
        "*   Tests.xlsx\n",
        "\n",
        "Download all three of these spreadsheets onto your computer, then go to My Drive. Open Files and drag each of the three files you just downloaded into your drive. If the upload was successful, there should be a little box on the bottom right hand corner which indicates that the three files have been uploaded to your drive. Now you can proceed and run the program.\n",
        "\n",
        "\n",
        "\n",
        "\n",
        "\n",
        "If it does not run:\n",
        "\n",
        "\n",
        "*   Check if spreadsheet is located in your drive\n",
        "*   Check if the pathway (ie. /content/drive/My Drive/CutSize.xlsx) is correct\n",
        "*   Check if Google Drive is connected to Colab\n",
        "\n",
        "\n",
        "\n",
        "\n"
      ],
      "metadata": {
        "id": "2GW8bslIiQzG"
      }
    },
    {
      "cell_type": "code",
      "execution_count": null,
      "metadata": {
        "id": "vmKTp-aWZeL1"
      },
      "outputs": [],
      "source": [
        "import pandas as pd\n",
        "import numpy as np\n",
        "import re\n",
        "from openpyxl import load_workbook\n",
        "\n",
        "def convert_excel(df, dictionary):\n",
        "  count = 1\n",
        "  for i in df:\n",
        "    if count < 10:\n",
        "      dictionary[str(i)] = \"00\" + str(count)\n",
        "    elif count < 100:\n",
        "      dictionary[str(i)] = \"0\" + str(count)\n",
        "    else:\n",
        "      dictionary[str(i)] = str(count)\n",
        "    count+=1\n",
        "\n",
        "# Load the XLSX file into a DataFrame\n",
        "df = pd.read_excel('/content/drive/My Drive/CutSize.xlsx',)\n",
        "\n",
        "df.dropna(subset=['Cut Method Clean'], inplace=True)\n",
        "cut_method = df['Cut Method Clean'].astype(str).to_numpy()\n",
        "\n",
        "df.dropna(subset=['CutSize/Count'], inplace=True)\n",
        "cut_list = df['CutSize/Count'].astype(str).to_numpy()\n",
        "\n",
        "# df.dropna(subset=['PackSize'], inplace=True)\n",
        "# pack_size = df['PackSize'].astype(str).to_numpy()\n",
        "\n",
        "# df.dropna(subset=['Container'], inplace=True)\n",
        "# container_type = df['Container'].astype(str).to_numpy()\n",
        "\n",
        "# df.dropna(subset=['Packing Material'], inplace=True)\n",
        "# packing_material = df['Packing Material'].astype(str).to_numpy()\n",
        "\n",
        "df.dropna(subset=['Mixes'], inplace = True)\n",
        "mixes = df['Mixes'].astype(str).to_numpy()\n",
        "\n",
        "#cut size dictionary\n",
        "cut_dict = {}\n",
        "\n",
        "#cut methods dictionary\n",
        "cuts = {}\n",
        "\n",
        "#pack size dictionary\n",
        "pack_size_dict = {}\n",
        "container_dict = {}\n",
        "packing_material_dict = {}\n",
        "\n",
        "#mixes\n",
        "\n",
        "convert_excel(cut_list, cut_dict)\n",
        "print(cut_dict)\n",
        "convert_excel(cut_method, cuts)\n",
        "# convert_excel(pack_size, pack_size_dict)\n",
        "# convert_excel(container_type, container_dict)\n",
        "# convert_excel(packing_material, packing_material_dict)\n",
        "\n",
        "#for i in cut_dict:\n",
        "#  i.replace(\"'\", \"+\")\n",
        "#  i.replace('\"', \"+\")\n",
        "\n",
        "#create new dictionary\n",
        "new_cut_dict = {}\n",
        "for key in cut_dict:\n",
        "  #for each value, replace the ' and \" then add the new value into the new dictionary\n",
        "  new_key = key.replace(\"”\", '\"')\n",
        "  new_key = key.replace(\"''\", '_').replace(\"'\", '_').replace('\"\"', '_').replace('\"', \"_\").replace(\"/\", \"a\")\n",
        "  new_cut_dict[new_key] = cut_dict[key]\n",
        "\n",
        "#raw materials\n",
        "gf = pd.read_excel('/content/drive/My Drive/RMfullList.xlsx',)\n",
        "\n",
        "gf.dropna(subset=['Vegetable'], inplace=True)\n",
        "\n",
        "rm_list = gf['Vegetable'].astype(str).to_numpy()\n",
        "\n",
        "rm = {}\n",
        "\n",
        "convert_excel(rm_list, rm)\n",
        "\n",
        "print(rm)\n",
        "print(new_cut_dict)\n",
        "print(cuts)"
      ]
    },
    {
      "cell_type": "code",
      "source": [
        "print(mixes)"
      ],
      "metadata": {
        "id": "Koa8_8PB_J6z"
      },
      "execution_count": null,
      "outputs": []
    },
    {
      "cell_type": "markdown",
      "source": [
        "# Read in Test Cases\n",
        "If there needs be a change in the spreadsheet\n",
        "\n",
        "\n",
        "*   Change the name of the excel link(ie. if the new spread sheet is called MyTest, change \"/content/drive/My Drive/Tests.xlsx\" to \"/content/drive/My Drive/MyTests.xlsx\".\n",
        "*   Make sure that the file is an xlsx file\n",
        "*   Make sure that the list of names of the products is listed under a cell titled \"Name\"\n",
        "\n",
        "\n",
        "\n",
        "\n"
      ],
      "metadata": {
        "id": "bu7ynwNbq2Du"
      }
    },
    {
      "cell_type": "code",
      "execution_count": null,
      "metadata": {
        "id": "AwKi0v_MUGgY"
      },
      "outputs": [],
      "source": [
        "ef = pd.read_excel('/content/drive/My Drive/Product.xlsx', sheet_name='Sheet1')\n",
        "\n",
        "ef.dropna(subset=['Description'], inplace=True)\n",
        "name_cases = ef['Description'].astype(str).to_numpy()\n",
        "name_list = []\n",
        "\n",
        "for i in name_cases:\n",
        "  name_list.append(str(i))\n",
        "\n",
        "print(name_list)\n"
      ]
    },
    {
      "cell_type": "code",
      "execution_count": null,
      "metadata": {
        "id": "4R7jI_HJ2pCc"
      },
      "outputs": [],
      "source": [
        "# @title\n",
        "import re\n",
        "#------------------------------------------------Type of Produce------------------------------------------------------------------\n",
        "\n",
        "#fruit = {'Apple Braeburn': '001', 'Apple Del Gold': '002', 'Apple Fuji': '003', 'Apple Gala': '004', 'Apple Golden': '005', 'Apple Granny Smith': '006', 'Apple Granny': '007', 'Apple Pink Lady': '008', 'Apple Red': '009', 'Apple\\xa0Fuji': '010', 'Apple': '011', 'Banana Green': '012', 'Banana': '013', 'Cantaloupe': '014', 'Casaba': '015', 'Cranberry': '016', 'Grapefruit': '017', 'Grapes Green': '018', 'Grapes Red': '019', 'Honeydew': '020', 'Kiwi': '021', 'Lemon': '022', 'Lime': '023', 'Mango Green': '024', 'Mango': '025', 'Nectarine': '026', 'Orange Blood': '027', 'Orange Kara Kara': '028', 'Orange': '029', 'Papaya Green': '030', 'Papaya Hawaiian': '031', 'Papaya Mexican': '032', 'Papaya Yellow/Hawaiian': '033', 'Papaya': '034', 'Peach': '035', 'Pear Asian': '036', 'Pear Bartlett': '037', 'Pear Bosc': '038', 'Pear Green': '039', 'Pear': '040', 'Pineapple Golden Ripe': '041', 'Pineapple Hawaiian': '042', 'Pineapple': '043', 'Raspberry': '044', 'Strawberry': '045', 'Watermelon Seedless': '046', 'Watermelon ': '047'}\n",
        "\n",
        "#vegetable = {'Asparagus Green': '059', 'Asparagus White': '060', 'Asparagus': '061', 'Baby French Bean': '062', 'Bean Fava': '063', 'Bean French': '064', 'Bean Green': '065', 'Bean Haricot': '066', 'Bean Haricot Baby': '067', 'Bean Long Chinese': '068', 'Bean Long Green': '069', 'Bean Yellow Wax': '070', 'Beet Chioggia': '071', 'Beet Gold': '072', 'Beet Gold Baby': '073', 'Beet Red Baby': '074', 'Beet Red ': '075', 'Beet Striped Baby': '076', 'Bok Choy Baby': '077', 'Bok Choy': '078', 'Broccoli Crowns': '079', 'Broccoli Florets': '080', 'Broccoli Slaw': '081', 'Broccolini': '082', 'Broccoli': '083', 'Brussel Sprout': '084', 'Cabbage Green': '085', 'Cabbage Napa': '086', 'Cabbage Red': '087', 'Cabbage Savoy': '088', 'Cabbage': '089', 'Carrot Baby': '090', 'Carrot Plugs': '091', 'Carrot Rainbow': '092', 'Carrot Yellow Baby': '093', 'Carrot': '094', 'Cauliflower Bud': '095', 'Cauliflower Florets': '096', 'Cauliflower': '097', 'Celery Root': '098', 'Celery': '099', 'Chard Green': '100', 'Chard Rainbow': '101', 'Chard Red': '102', 'Chives': '103', 'Choy Sum': '104', 'Cilantro': '105', 'Collard Green': '106', 'Corn White': '107', 'Corn Yellow': '108', 'Corn': '109', 'Cucumber English': '110', 'Cucumber Pickling': '111', 'Cucumber': '112', 'Dill ': '113', 'Eggplant Chinese': '114', 'Eggplant Japanese': '115', 'Eggplant': '116', 'Fennel': '117', 'Garlic': '118', 'Ginger Root': '119', 'Ginger': '120', 'Horseradish': '121', 'Jicama Root': '122', 'Jicama': '123', 'Kai Lan': '124', 'Kale Baby': '125', 'Kale Green': '126', 'Kale Lacinato': '127', 'Kohlrabi': '128', 'Leek': '129', 'Lettuce Boston': '130', 'Lettuce Butter': '131', 'Lettuce Escarole': '132', 'Lettuce Frisee Blonde ': '133', 'Lettuce Frisee ': '134', 'Lettuce Green Leaf': '135', 'Lettuce Iceberg Premium': '136', 'Lettuce Iceberg': '137', 'Lettuce Mache Hydroponic ': '138', 'Lettuce Radicchio': '139', 'Lettuce Red Belgium Endive': '140', 'Lettuce Red Leaf Fillets ': '141', 'Lettuce Romaine Baby': '142', 'Lettuce Romaine Fillets': '143', 'Lettuce Romaine Heart': '144', 'Lettuce Romaine': '145', 'Lettuce': '146', 'Lotus Root': '147', 'Mushroom Crimini': '148', 'Mushroom Enoki': '149', 'Mushroom Medium': '150', 'Mushroom Oyster': '151', 'Mushroom Portobello': '152', 'Mushroom Shiitake Flower': '153', 'Mushroom Shiitake #2': '154', 'Mushroom Shiitake': '155', 'Mushroom White': '156', 'Mushroom': '157', 'Nopales Cactus Leaves': '158', 'Nopales': '159', 'Okra': '160', 'Onion Cippolini Red': '161', 'Onion Cippolini': '162', 'Onion Colossal Yellow': '163', 'Onion Green': '164', 'Onion Red Jumbo': '165', 'Onion Red Pearl': '166', 'Onion Red': '167', 'Onion Sweet': '168', 'Onion White Pearl': '169', 'Onion White': '170', 'Onion Yellow Sweet': '171', 'Onion Yellow': '172', 'Parsley Curley': '173', 'Parsley Italian': '174', 'Parsley': '175', 'Parsnip': '176', 'Pea Snap': '177', 'Pea Snow': '178', 'Pepper Anaheim': '179', 'Pepper Fresno Red ': '180', 'Pepper Green Bell': '181', 'Pepper Jalapeno': '182', 'Pepper Mini Tri Color': '183', 'Pepper Orange Bell': '184', 'Pepper Pasilla': '185', 'Pepper Poblano': '186', 'Pepper Red Bell': '187', 'Pepper Red Jalapeno': '188', 'Pepper Serrano': '189', 'Pepper Shishito': '190', 'Pepper Yellow Bell': '191', 'Potato Fingerling': '192', 'Potato Kennebec': '193', 'Potato Purple A': '194', 'Potato Purple B': '195', 'Potato Purple': '196', 'Potato Red #2': '197', 'Potato Red A': '198', 'Potato Red B': '199', 'Potato Red C': '200', 'Potato Red': '201', 'Potato Russet #2': '202', 'Potato Russet Baker #1': '203', 'Potato Russet': '204', 'Potato Sweet': '205', 'Potato White': '206', 'Potato Yukon #2': '207', 'Potato Yukon A': '208', 'Potato Yukon B': '209', 'Potato Yukon C': '210', 'Potato Yukon': '211', 'Pumpkin': '212', 'Radish Daikon': '213', 'Radish Red': '214', 'Radish Watermelon': '215', 'Rutabaga': '216', 'Shallot': '217', 'Shelled Edamame': '218', 'Spinach': '219', 'Sprout Sunflower': '220', 'Squash Acorn': '221', 'Squash Banana': '222', 'Squash Butternut Flower': '223', 'Squash Butternut': '224', 'Squash Chayote': '225', 'Squash Delicata': '226', 'Squash Kabocha': '227', 'Squash Koginut': '228', 'Squash Loofah': '229', 'Squash Sunburst Baby': '230', 'Squash Yellow Fancy ': '231', 'Squash Yellow Summer (Baby)': '232', 'Squash Yellow': '233', 'Squash Zucchini Fancy': '234', 'Squash Zucchini': '235', 'Tamarind': '236', 'Taro Root': '237', 'Tomatillo': '238', 'Tomato Cherry': '239', 'Tomato Grape': '240', 'Tomato Green ': '241', 'Tomato Heirloom Green': '242', 'Tomato Heirloom Red': '243', 'Tomato Heirloom Yellow': '244', 'Tomato Roma': '245', 'Tomato Round': '246', 'Tomato Yellow Grape': '247', 'Tomato': '248', 'Turmeric': '249', 'Turnip Baby': '250', 'Turnip': '251', 'Yams Jumbo': '252', 'Yam': '253', 'Yu Choy ': '254', 'Yucca Root': '255'}\n",
        "\n",
        "#herb = {'Herb Epazote': '048', 'Herb Lemongrass': '049', 'Herb Marjoram': '050', 'Herb Mint ': '051', 'Herb Oregano': '052', 'Herb Parsley Curly': '053', 'Herb Rosemary': '054', 'Herb Sage': '055', 'Herb Tarragon': '056', 'Herb Thyme': '057', 'Hibicus Flower Dry': '058'}\n",
        "\n",
        "#--------------------------------------------------Type of Cuts------------------------------------------------------------------\n",
        "cut1 = {\"bite size\":\"01\",\t\"bunch\":\"02\",\t\"Chunk\":\"03\",\t\"coin slice\":\"04\",\t\"coleslaw\":\"05\",\t\"diced\":\"06\",\t\"halved\":\"07\",\t\"julienne\":\"08\",\t\"matchstick\":\"09\",\t\"minced\":\"10\",\"peeled & diced\":\"12\",\t\"peeled & halved\":\"13\",\t\"peeled & julienne\":\"14\",\t\"peeled & matchstick\":\"15\",\t\"peeled & sections\":\"16\",\t\"peeled & sliced\":\"17\",\t\"peeled & wedge\":\"18\",\t\"quartered\":\"19\",\t\"rings\":\"20\",\t\"shredded\":\"21\",\t\"slice\":\"22\",\t\"spear\":\"23\",\t\"tip\":\"24\", \"Wedge\":\"25\",\t\"Whole\":\"26\",\t\"zest\":\"27\",\"peeled\":\"11\"\n",
        "}\n",
        "cut2 = {\"10 cut\":\"01\",\t\"14 pc verde\":\"02\",\t\"16 cut\":\"03\",\t\"4 cut\":\"04\",\t\"5 Cut\":\"05\",\t\"6 cut\":\"06\",\t\"8 cut\":\"07\",\t\"angel hair\":\"08\",\t\"balk\":\"09\",\t\"batonette\":\"10\",\t\"batonnet\":\"10\",\t\"batons\":\"11\",\t\"bias\":\"12\",\t\"brunoise\":\"13\",\t\"button half cut\":\"14\",\t\"Cartwheel\":\"15\",\t\"center cut\":\"16\",\t\"chateau\":\"17\",\t\"coin cut\":\"18\",\t\"crescent\":\"19\",\t\"crimini\":\"20\",\t\"crinkled\":\"21\",\t\"crowless\":\"22\",\t\"cups\":\"23\",\t\"cut half\":\"24\",\t\"cut head\":\"25\",\t\"cut in half\":\"24\",\t\"cut qtr\":\"27\",\t\"diagonal cut\":\"28\",\t\"diamond cut\":\"29\",\t\"filets\":\"30\",\t\"fillets\":\"30\",\t\"fingerling\":\"31\",\t\"flower\":\"32\",\t\"french fries\":\"33\",\t\"french fry\":\"34\",\t\"half moon cut\":\"35\",\t\"halfmoon cut\":\"35\",\t\"halves\":\"36\",\t\"husked\":\"37\",\t\"hydroponic\":\"38\",\t\"jumbo\":\"39\",\t\"kernals\":\"40\",\t\"kernels\":\"40\", \"mandoline\":\"42\",\t\"medium\":\"43\",\t\"mini cut\":\"44\",\t\"noodle\":\"45\",\t\"parisienne\":\"46\",\t\"pickling\":\"47\",\t\"quartermoon\":\"48\",\t\"ribbon\":\"49\",\t\"ring\":\"50\",\t\"roll cut\":\"51\",\t\"rough cut\":\"52\",\t\"Round\":\"53\",\t\"segment\":\"54\",\t\"shaved\":\"55\",\t\"shucked\":\"56\",\t\"silvered\":\"57\",\t\"Squares\":\"58\",\t\"stalk\":\"59\",\t\"Steak Fries\":\"60\",\t\"stew cut\":\"61\",\t\"stick\":\"62\",\t\"stringless\":\"63\",\t\"triangles\":\"64\",\t\"uniform\":\"65\",\t\"wheels\":\"66\",\t\"cut\":\"67\",\n",
        "}\n",
        "#if theres another one just add as 41, cuz missing 41\n",
        "\n",
        "cut3 = {\"butt off\":\"01\",\t\"cleaned\":\"02\",\t\"cored\":\"03\",\t\"crowless\":\"04\",\t\"de seeded\":\"05\",\t\"deseeded\":\"05\",\t\"de-ribbed\":\"06\",\t\"deribbed\":\"06\",\t\"destemmed\":\"07\",\t\"ends off\":\"08\",\t\"fancy\":\"09\",\t\"gas\":\"10\",\t\"gas flush\":\"11\",\t\"hand peeled\":\"12\",\t\"hydroponic\":\"13\",\t\"lengthwise\":\"14\",\t\"medium cap\":\"15\",\t\"no leaf\":\"16\",\t\"no rib\":\"17\",\t\"no seeds\":\"18\",\t\"no stem\":\"19\",\t\"not peeled\":\"20\",\t\"peel\":\"21\",\t\"plank\":\"22\",\t\"premium\":\"23\",\t\"section\":\"24\",\t\"seeded log\":\"24\",\t\"skin on\":\"25\",\t\"skin-on\":\"25\",\t\"sliced necks\":\"26\",\t\"sliced slab\":\"27\",\t\"trimmed\":\"28\",\t\"w/leaves\":\"29\",\t\"w/skin\":\"30\",\t\"w/top\":\"31\",\n",
        "}\n",
        "#cuts = {\"Peeled & Diced\": \"001\", \"Cleaned & Destemmed\":\"002\", \"Shredded\": \"003\", \"Julienne\":\"004\", \"Whole Cleaned & Seedless\":\"005\", \"Cut Half lengthwise\": \"006\", \"Wedge 6 Cut\": \"007\", \"Matchstick\": \"008\"}\n",
        "#---------------------------------------------------------------------------------------------------------------------------------\n",
        "\n",
        "container = {\"Bag1\":\"01\"}\n",
        "\n",
        "''' if find_in_list(modified_case, dict_list) != \"Not FOUND\":\n",
        "    new_cut_code = dict_list[find_in_list(modified_case, dict_list)]\n",
        "    new_key = find_key_by_value(dict_list, new_cut_code)\n",
        "\n",
        "  if len(current_key) < len(new_key):\n",
        "    cut_code = new_cut_code '''\n"
      ]
    },
    {
      "cell_type": "markdown",
      "source": [
        "# Simplifying Product Names"
      ],
      "metadata": {
        "id": "oxU6h2KQA8tQ"
      }
    },
    {
      "cell_type": "code",
      "source": [
        "total = []\n",
        "for x in name_list:\n",
        "  new_word = x.lower()\n",
        "  match = re.search(r'\\d+', new_word)\n",
        "  if match:\n",
        "    # Get the index where the number starts\n",
        "    index = match.start()\n",
        "    new_word = new_word[:index]\n",
        "  for i in cuts:\n",
        "    pattern = r'\\b' + re.escape(i) + r'(?:d|ed|s|es)?\\b'\n",
        "    match = re.search(pattern, new_word, re.IGNORECASE)\n",
        "    if match:\n",
        "      start_index = match.start()\n",
        "      # Find the position of the match in the original string\n",
        "      match_start = len(new_word[:start_index])\n",
        "      if new_word[start_index-1] == ' ':\n",
        "        new_word = new_word[:start_index].rstrip()\n",
        "  print(new_word)\n",
        "  total.append(new_word)"
      ],
      "metadata": {
        "id": "4ELOud49SKs6"
      },
      "execution_count": null,
      "outputs": []
    },
    {
      "cell_type": "code",
      "source": [
        "result = [re.split(r'\\s*\\(.*$', item)[0].strip() for item in total]\n",
        "print(result)\n"
      ],
      "metadata": {
        "id": "8lwWjAsVH0CK"
      },
      "execution_count": null,
      "outputs": []
    },
    {
      "cell_type": "code",
      "source": [
        "total1 = []\n",
        "for x in total:\n",
        "  #remove all spaces\n",
        "  x_nospace = x.replace('(', '')\n",
        "  x_nospace = x_nospace.replace(')', '')\n",
        "  total1.append(x_nospace)"
      ],
      "metadata": {
        "id": "NQc_TCiOu1Av"
      },
      "execution_count": null,
      "outputs": []
    },
    {
      "cell_type": "code",
      "source": [
        "total2 = []\n",
        "for x in total1:\n",
        "  total2.append(x.rstrip())"
      ],
      "metadata": {
        "id": "sZNni140AXXC"
      },
      "execution_count": null,
      "outputs": []
    },
    {
      "cell_type": "code",
      "source": [
        "print(total2)"
      ],
      "metadata": {
        "id": "yctAl9MpCXNX"
      },
      "execution_count": null,
      "outputs": []
    },
    {
      "cell_type": "code",
      "source": [
        "#write back in\n",
        "ef['rm'] = total2\n",
        "#save modified file to dataframe\n",
        "ef.to_excel(\"Product.xlsx\", index = False)\n",
        "\n",
        "df_new = pd.DataFrame({'rm':total2})\n",
        "wb = load_workbook('/content/drive/My Drive/Product.xlsx')\n",
        "\n",
        "ws = wb['Sheet1']\n",
        "\n",
        "for index, row in df_new.iterrows():\n",
        "  cell = 'D%d' % (index+2)\n",
        "  ws[cell] = row[0]\n",
        "\n",
        "# df.iloc[[2],[6]] = 'Edited Description'\n",
        "wb.save('/content/drive/My Drive/Product.xlsx')"
      ],
      "metadata": {
        "id": "M2dVt1G3stII"
      },
      "execution_count": null,
      "outputs": []
    },
    {
      "cell_type": "markdown",
      "source": [
        "This pulls out the mixes that all match to a simplified mix name"
      ],
      "metadata": {
        "id": "mgHTTC71BGtP"
      }
    },
    {
      "cell_type": "code",
      "source": [
        "simplified = ef['simplified'].astype(str).to_numpy()\n",
        "simplified_list = []\n",
        "\n",
        "for i in simplified:\n",
        "  simplified_list.append(str(i))\n"
      ],
      "metadata": {
        "id": "puJ_oVnY74M0"
      },
      "execution_count": null,
      "outputs": []
    },
    {
      "cell_type": "code",
      "source": [
        "counter = 1\n",
        "wanted_row = []\n",
        "for i in simplified_list:\n",
        "  counter+=1\n",
        "  if i in mixes:\n",
        "    wanted_row.append(counter)\n"
      ],
      "metadata": {
        "id": "9QSWipR58MEX"
      },
      "execution_count": null,
      "outputs": []
    },
    {
      "cell_type": "code",
      "source": [
        "print(wanted_row)"
      ],
      "metadata": {
        "id": "2d1i9txl-quj"
      },
      "execution_count": null,
      "outputs": []
    },
    {
      "cell_type": "code",
      "source": [
        "# Install the required libraries\n",
        "!pip install gspread oauth2client"
      ],
      "metadata": {
        "id": "n1f5dmZaHSp2"
      },
      "execution_count": null,
      "outputs": []
    },
    {
      "cell_type": "code",
      "source": [
        "from google.colab import files\n",
        "import gspread\n",
        "from oauth2client.service_account import ServiceAccountCredentials\n",
        "\n",
        "# Upload the credentials.json file\n",
        "uploaded = files.upload()\n",
        "\n",
        "# Define the scope of the application\n",
        "scope = [\"https://spreadsheets.google.com/feeds\", \"https://www.googleapis.com/auth/drive\"]\n",
        "\n",
        "# Authenticate using the uploaded credentials.json file\n",
        "credentials = ServiceAccountCredentials.from_json_keyfile_name('credentials.json', scope)\n",
        "client = gspread.authorize(credentials)\n",
        "\n",
        "# Open the source spreadsheet and select Sheet1\n",
        "source_spreadsheet = client.open(\"Product.xlxs\")\n",
        "source_sheet = source_spreadsheet.worksheet(\"Sheet1\")\n",
        "\n",
        "# Open the target spreadsheet and select Sheet2\n",
        "target_spreadsheet = client.open(\"Product.xlxs\")\n",
        "target_sheet = target_spreadsheet.worksheet(\"Sheet2\")\n",
        "\n",
        "# Array of row numbers you want to pull from Sheet1\n",
        "\n",
        "# Fetch rows from the source sheet\n",
        "rows_data = [source_sheet.row_values(row_num) for row_num in wanted_row]\n",
        "\n",
        "# Clear the target sheet\n",
        "target_sheet.clear()\n",
        "\n",
        "# Write the rows to Sheet2\n",
        "for row in rows_data:\n",
        "    target_sheet.append_row(row)\n",
        "\n",
        "print(\"Rows have been successfully pulled from Sheet1 and written to Sheet2.\")"
      ],
      "metadata": {
        "id": "nKq_BD8bJhov"
      },
      "execution_count": null,
      "outputs": []
    },
    {
      "cell_type": "code",
      "source": [
        "from google.colab import files\n",
        "import gspread\n",
        "from oauth2client.service_account import ServiceAccountCredentials\n",
        "\n",
        "# Upload the credentials.json file\n",
        "uploaded = files.upload()\n",
        "\n",
        "# Define the scope of the application\n",
        "scope = [\"https://spreadsheets.google.com/feeds\", \"https://www.googleapis.com/auth/drive\"]\n",
        "\n",
        "# Authenticate using the uploaded credentials.json file\n",
        "credentials = ServiceAccountCredentials.from_json_keyfile_name('credentials.json', scope)\n",
        "client = gspread.authorize(credentials)\n",
        "\n",
        "# Open the source spreadsheet and select Sheet1\n",
        "source_spreadsheet = client.open(\"Product.xlxs\")\n",
        "source_sheet = source_spreadsheet.worksheet(\"Sheet1\")\n",
        "\n",
        "# Open the target spreadsheet and select Sheet2\n",
        "target_spreadsheet = client.open(\"Product.xlxs\")\n",
        "target_sheet = target_spreadsheet.worksheet(\"Sheet2\")\n",
        "\n",
        "# Array of row numbers you want to pull from Sheet1\n",
        "\n",
        "# Fetch rows from the source sheet\n",
        "rows_data = [source_sheet.row_values(row_num) for row_num in wanted_row]\n",
        "\n",
        "# Clear the target sheet\n",
        "target_sheet.clear()\n",
        "\n",
        "# Write the rows to Sheet2\n",
        "for row in rows_data:\n",
        "    target_sheet.append_row(row)\n",
        "\n",
        "print(\"Rows have been successfully pulled from Sheet1 and written to Sheet2.\")"
      ],
      "metadata": {
        "id": "5MwbvptgJ_3D"
      },
      "execution_count": null,
      "outputs": []
    },
    {
      "cell_type": "markdown",
      "source": [
        "FUZZYWUZZY FUNCTIONS RAWR"
      ],
      "metadata": {
        "id": "3ICrpLsQA0hU"
      }
    },
    {
      "cell_type": "code",
      "execution_count": null,
      "metadata": {
        "id": "pPF_9T5S4oG-"
      },
      "outputs": [],
      "source": [
        "from fuzzywuzzy import fuzz\n",
        "from fuzzywuzzy import process\n",
        "\n",
        "def get_score(case, x_dict):\n",
        "  score = {}\n",
        "  for i in x_dict:\n",
        "    score[str(i)] = fuzz.partial_ratio(case, i)\n",
        "  #keys are the words, values are the scores\n",
        "  #create a list of the words\n",
        "  dict_list = list(x_dict.keys())\n",
        "  maximum = 0\n",
        "  old_word = ''\n",
        "  for i in dict_list:\n",
        "    if score[i] > maximum:\n",
        "      maximum = score[i]\n",
        "      old_word = i\n",
        "    if score[i] == maximum:\n",
        "      current = i\n",
        "      old = find_key_by_value(score, maximum)\n",
        "      if len(current) > len(old_word):\n",
        "        maximum = score[i]\n",
        "        old_word = i\n",
        "      else:\n",
        "        maximum = maximum\n",
        "  item_index = \"000\"\n",
        "  for i in x_dict:\n",
        "    if i == old_word:\n",
        "      item_index = x_dict[i]\n",
        "  return item_index\n",
        "\n",
        "#dictio = {\"green pepper\":\"001\", \"red pepper\":\"010\", \"red pepperg\":\"020\", \"peppers\":\"0010\", \"red peppers\":\"002\", \"pepper\":\"003\", \"yellow pepper\":\"004\", \"red bell pepper\":\"005\", \"jhfshejals\":\"006\", \"dfhisekf\":\"007\", \"dsfhihise\":\"008\"}\n",
        "#get_score(\"this is #kdf red peppers cut\", dictio)\n",
        "#get_score(\"Watermelon Wedge 8 Cut (Skin On)\", cuts)\n"
      ]
    },
    {
      "cell_type": "code",
      "execution_count": null,
      "metadata": {
        "id": "H-1kspJq-wWY"
      },
      "outputs": [],
      "source": [
        "\n",
        "#----------------------------------------------------Functions-----------------------------------------------------------------\n",
        "\n",
        "def find_in_list(text, list):\n",
        "  #find word in list\n",
        "  for x in list:\n",
        "    x_lower = x.lower()\n",
        "    pattern = r'\\b' + re.escape(x_lower) + r'(?:d|ed|s|es)?\\b'\n",
        "    if bool(re.search(pattern, text.lower(), re.IGNORECASE)):\n",
        "      return x\n",
        "  return \"Not FOUND\"\n",
        "\n",
        "#NOT USED ANYMORE\n",
        "#find word(search) in given phrase(text)\n",
        "#return true if found\n",
        "def find_words(text, search):\n",
        "    \"\"\"Find exact words\"\"\"\n",
        "    text = text.lower()\n",
        "    search = search.lower()\n",
        "\n",
        "    dText   = text.split()\n",
        "    dSearch = search.split()\n",
        "\n",
        "    found_word = 0\n",
        "\n",
        "    for text_word in dText:\n",
        "        for search_word in dSearch:\n",
        "            if search_word == text_word:\n",
        "                found_word += 1\n",
        "\n",
        "    return found_word == len(dSearch)\n",
        "\n",
        "#determine if product is organic or not\n",
        "#return true if is organic\n",
        "def find_organic(text):\n",
        "  return find_words(text, 'organic')\n",
        "\n",
        "#NOT USED ANYMORE\n",
        "#determine index of item\n",
        "#returns type of produce index\n",
        "def find_produce(text):\n",
        "  # fruit_list = list(fruit.keys())\n",
        "  # vegetable_list = list(vegetable.keys())\n",
        "  # herb_list = list(herb.keys())\n",
        "  if find_in_list(text, fruit_list) != \"Not FOUND\":\n",
        "    return find_in_list(text, fruit_list)\n",
        "    #return fruit[find_in_list(text, fruit_list)]\n",
        "  # if find_in_list(text, herb_list) != \"Not FOUND\":\n",
        "  #   return find_in_list(text, herb_list)\n",
        "  #   #return herb[find_in_list(text, herb_list)]\n",
        "  # if find_in_list(text, vegetable_list) != \"Not FOUND\":\n",
        "  #   return find_in_list(text, vegetable_list)\n",
        "  #   print(vegetable[find_in_list(text, vegetable_list)])\n",
        "  #   #return vegetable[find_in_list(text, vegetable_list)]\n",
        "  return \"000\"\n",
        "\n",
        "def find_produce_fuzz(text):\n",
        "  return get_score(text, rm)\n",
        "\n",
        "#NOT USED ANYMORE\n",
        "#categorize produce by fruit, vegetable, or herb\n",
        "#returns number with index at 0 changed to the appropriate type of produce category value\n",
        "def categorize_produce(index, number):\n",
        "  if int(index) <= 374 and int(index) >= 1:\n",
        "    number[0] = 2\n",
        "  elif int(index) <= 439:\n",
        "    number[0] = 1\n",
        "  elif int(index) <= 450:\n",
        "    number[0] = 5\n",
        "  return number\n",
        "\n",
        "#also used for determining code for pack size ¯\\_(ツ)_/¯\n",
        "#finds cut method, if it has one\n",
        "#returns the value it is associated with\n",
        "def cut_method(case, cut_list):\n",
        "  cut_num = 0\n",
        "  cut1_list = list(cut_list.keys())\n",
        "  for x in cut1_list:\n",
        "    x_lower = x.lower()\n",
        "    #x_lower = x.replace(\" \", \"\")\n",
        "    pattern = r'\\b' + re.escape(x_lower) + r'(?:d|ed|s|es)?\\b'\n",
        "    if bool(re.search(pattern, case.lower(), re.IGNORECASE)):\n",
        "      cut_num = cut_list[x]\n",
        "      return cut_num\n",
        "  return \"000\"\n",
        "\n",
        "def find_value_by_key(case, dictionary):\n",
        "  cut_num = 0\n",
        "  item_list = list(dictionary.keys())\n",
        "  for x in item_list:\n",
        "    x_lower = x.lower()\n",
        "    pattern = r'\\b\\d*\\s*' + re.escape(x_lower) + r'(?:d|ed|s|es)?\\b'\n",
        "    if bool(re.search(pattern, case.lower(), re.IGNORECASE)):\n",
        "      cut_num = dictionary[x]\n",
        "      return cut_num\n",
        "  return \"000\"\n",
        "\n",
        "#for determining code for cut_size\n",
        "def new_cut_size_funct(case, dict_list):\n",
        "  cut_code = \"000\"\n",
        "  modified_case = get_cut_size(case)\n",
        "  modified_case = modified_case.replace(\" \", \"\")\n",
        "  for i in dict_list:\n",
        "    if modified_case == i:\n",
        "      cut_code = dict_list[i]\n",
        "  current_key = find_key_by_value(dict_list, cut_code)\n",
        "\n",
        "  if current_key == \"Not Found\":\n",
        "    current_key = \"\"\n",
        "  #use fuzzy wuzzy method on it\n",
        "  new_cut_code = get_score(modified_case, dict_list)\n",
        "  new_key = find_key_by_value(dict_list, new_cut_code)\n",
        "  #compare results and save the longer one\n",
        "  actual_size = len(modified_case)\n",
        "  if len(current_key) == actual_size:\n",
        "    return cut_code\n",
        "  elif len(new_key) == actual_size:\n",
        "    return new_cut_code\n",
        "\n",
        "  find_code = find_in_list(case, dict_list)\n",
        "  if len(find_code) == actual_size:\n",
        "    return find_value_by_key(find_code, dict_list)\n",
        "\n",
        "  return cut_code\n",
        "\n",
        "\n",
        "def find_key_by_value(dictionary, target_value):\n",
        "    for key, value in dictionary.items():\n",
        "        if value == target_value:\n",
        "            return key\n",
        "    return \"Not Found\"  # Return None if the value is not found\n",
        "\n",
        "def replace_special(word, list_given, num):\n",
        "  word = word.lower().replace(\" \", \"\")\n",
        "  find = find_key_by_value(list_given, num)\n",
        "  find = find.lower().replace(\" \", \"\")\n",
        "  word = word.replace(find, \"\")\n",
        "  return word"
      ]
    },
    {
      "cell_type": "markdown",
      "metadata": {
        "id": "PcHdL7s6E-_E"
      },
      "source": [
        "Using fuzzywuzzy to calculate the score based on word similarity"
      ]
    },
    {
      "cell_type": "code",
      "source": [
        "def get_cut_size_special_case(word, substr):\n",
        "  new_word = ''\n",
        "  index = word.index(substr)\n",
        "  if index >= 1:\n",
        "    add = len(substr)\n",
        "    new_word = word[index-2] + word[index:index+add]\n",
        "  if not new_word[0].isnumeric():\n",
        "        return \"Not FOUND\"\n",
        "  return new_word\n",
        "\n",
        "#Mango Triangle 2\" X 1\" X 1/2\" (10Gm)\n",
        "def get_cut_size(word):\n",
        "  word = word.lower()\n",
        "  word = word.replace(\"''\", '_').replace(\"'\", '_').replace('\"\"', '_').replace('\"', \"_\").replace(\"/\", \"a\")\n",
        "  if word.find('_') != -1:\n",
        "    initial_index = word.index('_')\n",
        "    final_index = word.rindex('_')\n",
        "    if initial_index != final_index:\n",
        "      word_cut = word[0:initial_index]\n",
        "      begin_index = word_cut.rindex(\" \")\n",
        "      new_word = word[begin_index+1:final_index+1]\n",
        "      return new_word\n",
        "    elif initial_index == final_index:\n",
        "      word_cut = word[0:initial_index]\n",
        "      begin_index = word_cut.rindex(\" \")\n",
        "      new_word = word[begin_index+1:initial_index+1]\n",
        "      return new_word\n",
        "  elif word.find(\"oz\") != -1:\n",
        "    return get_cut_size_special_case(word, \"oz\")\n",
        "  elif word.find(\"gram\") != -1:\n",
        "    print(\"got here\")\n",
        "    return get_cut_size_special_case(word, \"gram\")\n",
        "  elif word.find(\"cut\") != -1:\n",
        "    return get_cut_size_special_case(word, \"cut\")\n",
        "  return \"Not FOUND\"\n",
        "print(get_cut_size('8 gram'))\n",
        "print(new_cut_size_funct('Kale Deribbed & Shredded 3\"x3\"x1/2\"', new_cut_dict))\n",
        "print(new_cut_size_funct('Pepper Yellow Bell Triangle cut (7 gram)', new_cut_dict))\n",
        "print(new_cut_dict)\n"
      ],
      "metadata": {
        "id": "u7XrVK3SfGP_"
      },
      "execution_count": null,
      "outputs": []
    },
    {
      "cell_type": "code",
      "source": [
        "# @title\n",
        "import pandas as pd\n",
        "import re\n",
        "corpus_item = {\"Onion Red Slab Sliced 1/8\\\"\", \"Squash Zucchini Ribbon Cut (No Seeds) 1/8\\\" X 3/4\\\"\", \"Watermelon Wedge 8 Cut (Skin On)\", \"Kale Deribbed & Shredded 1/4\\\"\"}\n",
        "corpus_item = [x.lower() for x in corpus_item]\n",
        "\n",
        "# removing the trailing numbers\n",
        "unit1 = ['lb','#','oz','gm']\n",
        "\n",
        "new_corpus = []\n",
        "\n",
        "# removing the trailing numbers\n",
        "unit1 = ['lb','#','oz','gm']\n",
        "\n",
        "new_corpus = []\n",
        "\n",
        "for sentence in corpus_item:\n",
        "  if any(i != sentence[-2:len(sentence)] for i in unit1) and sentence[-1] in '1234567890':\n",
        "    for c in range(len(sentence)-1, -1, -1):\n",
        "      if sentence[c-1] not in '1234567890':\n",
        "        sentence = sentence[0:c]\n",
        "        new_corpus.append(sentence)\n",
        "        break\n",
        "  else:\n",
        "    new_corpus.append(sentence)\n",
        "    continue\n",
        "\n",
        "#removing all whitespaces,\n",
        "#removing all '.' at the end,\n",
        "#remove all text before and include double-qoute or single-qoute\n",
        "\n",
        "unit2 = ['lb','oz','gm','gal', '#', 'ct']\n",
        "\n",
        "for i in range(len(new_corpus)):\n",
        "  new_corpus[i] = new_corpus[i].replace(' ','')\n",
        "  new_corpus[i] = new_corpus[i].rstrip('.')\n",
        "\n",
        "  if '\"' in new_corpus[i]:\n",
        "    indexDQ = new_corpus[i].rfind('\"')\n",
        "    new_corpus[i] = new_corpus[i].replace(new_corpus[i][0:indexDQ+1],'')\n",
        "\n",
        "  elif \"'\" in new_corpus[i]:\n",
        "    indexSQ = new_corpus[i].rfind(\"'\")\n",
        "    new_corpus[i] = new_corpus[i].replace(new_corpus[i][0:indexSQ+1],'')\n",
        "\n",
        "  else:\n",
        "    continue\n",
        "\n",
        "#add seperator before units in unit2\n",
        "unit2 = ['lb','oz','gm','gal', '#', 'ct']\n",
        "\n",
        "for i in range(len(new_corpus)):\n",
        "  cur_unit = ''\n",
        "  if any(unit in new_corpus[i][-4:] for unit in unit2):\n",
        "    for unit in unit2:\n",
        "      if unit in new_corpus[i][-4:]:\n",
        "        cur_unit = unit\n",
        "    str_idx, end_idx = new_corpus[i].find(cur_unit), new_corpus[i].rfind(cur_unit)\n",
        "    new_corpus[i] = new_corpus[i][0:str_idx] + '-' + new_corpus[i][end_idx:]\n",
        "\n",
        "print(new_corpus)"
      ],
      "metadata": {
        "id": "yb158d7SI1Ow",
        "cellView": "form"
      },
      "execution_count": null,
      "outputs": []
    },
    {
      "cell_type": "markdown",
      "source": [
        "# Spreadsheet Version\n",
        "This will run through all of the cases listed on the spreadsheet read above(Tests) and produce all of the results in the cell adjacent to the name."
      ],
      "metadata": {
        "id": "HDbhejLruuPw"
      }
    },
    {
      "cell_type": "code",
      "execution_count": null,
      "metadata": {
        "id": "0spdI2BQl4so"
      },
      "outputs": [],
      "source": [
        "#----------------------------------------------------Convert Text to Code---------------------------------------------------------------\n",
        "#tests = input(\"Enter the number of tests: \")\n",
        "#i = 0\n",
        "name_to_code = []\n",
        "#while i < int(tests):\n",
        "for case in name_list:\n",
        "  #case = input(\"Enter the case value: \")\n",
        "  #initialize item code\n",
        "  if len(case) < 5:\n",
        "    number = \"Not valid value\"\n",
        "    name_to_code.append(str(item_code))\n",
        "  else:\n",
        "    cut_size_num = new_cut_size_funct(case, new_cut_dict)\n",
        "    number = [0,0,0,0,0,0,0,0,0,0,0,0,0,0,0,0,0,0,0]\n",
        "    #assign second digit based on whether or not it is organic\n",
        "    if(find_organic(case)):\n",
        "      number[1] = 2\n",
        "    else:\n",
        "      number[1] = 1\n",
        "\n",
        "    type_of_produce_index = find_produce_fuzz(case)\n",
        "    case = case.replace(find_key_by_value(rm, type_of_produce_index), \"\")\n",
        "\n",
        "    #assign frist digit based on the product type(ie. fruit or veggie)\n",
        "\n",
        "    number = categorize_produce(type_of_produce_index, number)\n",
        "\n",
        "    #assign digits 2-5 based on the produce\n",
        "    digits = [int(x) for x in str(type_of_produce_index)]\n",
        "    number[2] = digits[0]\n",
        "    number[3] = digits[1]\n",
        "    number[4] = digits[2]\n",
        "\n",
        "    #assign machine/hand cut to 6\n",
        "\n",
        "    #assign digits 7-9 based on the cut method\n",
        "    cut_method_num = str(get_score(case, cuts))\n",
        "    case = case.replace(find_key_by_value(cuts, cut_method_num), \"\")\n",
        "    number[6] = int(cut_method_num[0])\n",
        "    number[7] = int(cut_method_num[1])\n",
        "    number[8] = int(cut_method_num[2])\n",
        "    #for ones with cut and another cut method in it, its wrong\n",
        "\n",
        "    pack_size_num = cut_method(case, pack_size_dict)\n",
        "    #case = case.replace(find_key_by_value(pack_size_dict, pack_size_num), \"\")\n",
        "    case = replace_special(case, pack_size_dict, pack_size_num)\n",
        "    number[12] = int(pack_size_num[0])\n",
        "    number[13] = int(pack_size_num[1])\n",
        "    number[14] = int(pack_size_num[2])\n",
        "\n",
        "    #assign digits 10-12 for cut size\n",
        "    number[9] = int(cut_size_num[0])\n",
        "    number[10] = int(cut_size_num[1])\n",
        "    number[11] = int(cut_size_num[2])\n",
        "    #concatenate result\n",
        "    item_code = 0\n",
        "    for x in number:\n",
        "      item_code = str(item_code) + str(x)\n",
        "      item_code = int(item_code)\n",
        "\n",
        "    #print result\n",
        "    name_to_code.append(str(item_code))\n",
        "  #+=1"
      ]
    },
    {
      "cell_type": "markdown",
      "source": [
        "Prints to Spreadsheet\n",
        "\n",
        "Writes the data into the spreadsheet, if the spreadsheet name was changed, make sure to change the name here too (ie. original spreadsheet was titled Tests.xlsx, new one being used is MyTests, change /content/drive/My Drive/Tests.xlsx to /content/drive/My Drive/MyTests.xlsx)\n",
        "\n",
        "Note: there are two places where you would have to change the name, lines 150 and 159"
      ],
      "metadata": {
        "id": "-gGE2sNqeSc-"
      }
    },
    {
      "cell_type": "code",
      "source": [
        "#write back in\n",
        "ef['New'] = name_to_code\n",
        "#save modified file to dataframe\n",
        "ef.to_excel(\"ProductList07_5_2024.xlsx\", index = False)\n",
        "\n",
        "df_new = pd.DataFrame({'New':name_to_code})\n",
        "wb = load_workbook('/content/drive/My Drive/ProductList07_5_2024.xlsx')\n",
        "\n",
        "ws = wb['ACTIVE LIST']\n",
        "\n",
        "for index, row in df_new.iterrows():\n",
        "  cell = 'C%d' % (index+2)\n",
        "  ws[cell] = row[0]\n",
        "\n",
        "# df.iloc[[2],[6]] = 'Edited Description'\n",
        "wb.save('/content/drive/My Drive/ProductList07_5_2024.xlsx')"
      ],
      "metadata": {
        "id": "mrUF2GbnL7DP"
      },
      "execution_count": null,
      "outputs": []
    },
    {
      "cell_type": "code",
      "source": [
        "df_new = pd.DataFrame({'Code': name_to_code})\n",
        "wb = load_workbook('/content/drive/My Drive/Tests.xlsx')\n",
        "\n",
        "ws = wb['Sheet1']\n",
        "\n",
        "for index, row in df_new.iterrows():\n",
        "    cell = 'B%d'  % (index + 2)\n",
        "    ws[cell] = row[0]\n",
        "\n",
        "\n",
        "wb.save('/content/drive/My Drive/Tests.xlsx')"
      ],
      "metadata": {
        "id": "9jUe_nPEbQwW"
      },
      "execution_count": null,
      "outputs": []
    },
    {
      "cell_type": "markdown",
      "source": [
        "# Input Output Version\n",
        "**Instructions**:\n",
        "\n",
        "Input number of tests you want to complete\n",
        "\n",
        "Enter tests one by one"
      ],
      "metadata": {
        "id": "cup5WzB5gggv"
      }
    },
    {
      "cell_type": "code",
      "source": [
        "#----------------------------------------------------Convert Text to Code---------------------------------------------------------------\n",
        "tests = input(\"Enter the number of tests: \")\n",
        "i = 0\n",
        "name_to_code = []\n",
        "while i < int(tests):\n",
        "  case = input(\"Enter the case value: \")\n",
        "  #initialize item code\n",
        "  number = [0,0,0,0,0,0,0,0,0,0,0,0,0,0,0,0,0,0,0]\n",
        "  #assign second digit based on whether or not it is organic\n",
        "  if(find_organic(case)):\n",
        "    number[1] = 2\n",
        "  else:\n",
        "    number[1] = 1\n",
        "\n",
        "  #get the cut size\n",
        "  cut_size_word = get_cut_size(case)\n",
        "\n",
        "  type_of_produce_index = find_produce_fuzz(case)\n",
        "  case = case.replace(find_key_by_value(rm, type_of_produce_index), \"\")\n",
        "\n",
        "  #assign frist digit based on the product type(ie. fruit or veggie)\n",
        "  #if case.find(\"mix\") or case.find(\"stir\") or case.find(\"salad\") or case.find(\"hamburger\"):\n",
        "  #  number = 3\n",
        " # else:\n",
        "  number = categorize_produce(type_of_produce_index, number)\n",
        "\n",
        "  #assign digits 2-5 based on the produce\n",
        "  digits = [int(x) for x in str(type_of_produce_index)]\n",
        "  number[2] = digits[0]\n",
        "  number[3] = digits[1]\n",
        "  number[4] = digits[2]\n",
        "\n",
        "  #assign machine/hand cut to 6\n",
        "\n",
        "  #assign digits 7-9 based on the cut method\n",
        "  cut_method_num = str(get_score(case, cuts))\n",
        "  case = case.replace(find_key_by_value(cuts, cut_method_num), \"\")\n",
        "  number[6] = int(cut_method_num[0])\n",
        "  number[7] = int(cut_method_num[1])\n",
        "  number[8] = int(cut_method_num[2])\n",
        "  #for ones with cut and another cut method in it, its wrong\n",
        "\n",
        "  pack_size_num = cut_method(case, pack_size_dict)\n",
        "  #case = case.replace(find_key_by_value(pack_size_dict, pack_size_num), \"\")\n",
        "  case = replace_special(case, pack_size_dict, pack_size_num)\n",
        "  number[12] = int(pack_size_num[0])\n",
        "  number[13] = int(pack_size_num[1])\n",
        "  number[14] = int(pack_size_num[2])\n",
        "\n",
        "  print(cut_size_word)\n",
        "  cut_size_num = new_cut_size_funct(cut_size_word, new_cut_dict)\n",
        "  #assign digits 10-12 for cut size\n",
        "  number[9] = int(cut_size_num[0])\n",
        "  number[10] = int(cut_size_num[1])\n",
        "  number[11] = int(cut_size_num[2])\n",
        "\n",
        "  #concatenate result\n",
        "  item_code = 0\n",
        "  for x in number:\n",
        "    item_code = str(item_code) + str(x)\n",
        "    item_code = int(item_code)\n",
        "\n",
        "\n",
        "  #print result\n",
        "  print(\"Item Code for \" + case + \" is: \" + str(item_code))\n",
        "  print()\n",
        "  i+=1"
      ],
      "metadata": {
        "id": "6lolI-tmfQRW"
      },
      "execution_count": null,
      "outputs": []
    },
    {
      "cell_type": "markdown",
      "source": [
        "# Convert Codes to Names\n",
        "\n",
        "\n",
        "\n",
        "*   This reads the codes inputted previously into Colab\n",
        "*   If it doesn't work make sure to wait a little bit to make sure that the spreadsheet and Colab both have received the updates from the previous chunk of code and that the product codes are in the spreadsheet\n",
        "*   Make sure that the product codes are under a row titled \"Codes\"\n",
        "\n"
      ],
      "metadata": {
        "id": "qmtvPFnMytTT"
      }
    },
    {
      "cell_type": "code",
      "source": [
        "ef = pd.read_excel('/content/drive/My Drive/Tests.xlsx',)\n",
        "\n",
        "ef.dropna(subset=['Codes'], inplace=True)\n",
        "code_cases = ef['Codes'].astype(str).to_numpy()\n",
        "\n",
        "code_list = []\n",
        "for i in code_cases:\n",
        "  code_list.append(str(i))"
      ],
      "metadata": {
        "id": "vYEyWvFT1SUR"
      },
      "execution_count": null,
      "outputs": []
    },
    {
      "cell_type": "code",
      "source": [
        "def get_rid_of_not_found(word):\n",
        "  if word == \"Not Found\":\n",
        "    word = \"\"\n",
        "  return word"
      ],
      "metadata": {
        "id": "7xlaQSR_2R87"
      },
      "execution_count": null,
      "outputs": []
    },
    {
      "cell_type": "code",
      "execution_count": null,
      "metadata": {
        "id": "W6KGt_rN2wJy"
      },
      "outputs": [],
      "source": [
        "#--------------------------------------------------------Main--------------------------------------------------------------------\n",
        "#\n",
        "#\n",
        "#----------------------------------------------------Convert Code to Text--------------------------------------------------------\n",
        "code_to_name = []\n",
        "for number in code_list:\n",
        "  category = number[0]\n",
        "  is_organic = number[1]\n",
        "  produce_type = number[2:5]\n",
        "  cut_type_input = number[5]\n",
        "  cut_method_input = number[6:9]\n",
        "  cut_size_input = number[9:12]\n",
        "  pack_size_input = number[12:15]\n",
        "  container_type_input = number[15:17]\n",
        "  packing_material_input = number[17:18]\n",
        "\n",
        "  produce_word = find_key_by_value(rm, produce_type)\n",
        "  cut_word = find_key_by_value(cuts, cut_method_input)\n",
        "  cut_size_word = find_key_by_value(cut_dict, cut_size_input)\n",
        "  pack_word = find_key_by_value(pack_size_dict, pack_size_input)\n",
        "\n",
        "  produce_word = get_rid_of_not_found(produce_word)\n",
        "  cut_word = get_rid_of_not_found(cut_word)\n",
        "  cut_size_word = get_rid_of_not_found(cut_size_word)\n",
        "  pack_word = get_rid_of_not_found(pack_word)\n",
        "\n",
        "  if is_organic == '1':\n",
        "    name = produce_word + \" \" + cut_word + \" \" + cut_size_word + \" \" + pack_word\n",
        "  else:\n",
        "    name = \"Organic \" + produce_word + \" \" + cut_word + \" \" + cut_size_word + \" \" + pack_word\n",
        "  code_to_name.append(name)\n"
      ]
    },
    {
      "cell_type": "markdown",
      "source": [
        "Writes the data into the spreadsheet, if the spreadsheet name was changed, make sure to change the name here too (ie. original spreadsheet was titled Tests.xlsx, new one being used is MyTests, change /content/drive/My Drive/Tests.xlsx to /content/drive/My Drive/MyTests.xlsx)\n",
        "\n",
        "Note: there are two places where you would have to change the name, lines 120 and 129"
      ],
      "metadata": {
        "id": "vYbKF8DSzcXN"
      }
    },
    {
      "cell_type": "code",
      "source": [
        "# @title\n",
        "df_new = pd.DataFrame({'Name': code_to_name})\n",
        "wb = load_workbook('/content/drive/My Drive/Tests.xlsx')\n",
        "\n",
        "ws = wb['Sheet1']\n",
        "\n",
        "for index, row in df_new.iterrows():\n",
        "    cell = 'C%d'  % (index + 2)\n",
        "    ws[cell] = row[0]\n",
        "\n",
        "\n",
        "wb.save('/content/drive/My Drive/Tests.xlsx')"
      ],
      "metadata": {
        "id": "hStqGgAvv45g"
      },
      "execution_count": null,
      "outputs": []
    },
    {
      "cell_type": "code",
      "source": [
        "#--------------------------------------------------------Main--------------------------------------------------------------------\n",
        "#\n",
        "#\n",
        "#----------------------------------------------------Convert Code to Text--------------------------------------------------------\n",
        "tests = input(\"Enter the number of tests: \")\n",
        "i = 0\n",
        "while i < int(tests):\n",
        "  number = input(\"Enter the code value: \")\n",
        "  category = number[0]\n",
        "  is_organic = number[1]\n",
        "  produce_type = number[2:5]\n",
        "  cut_type_input = number[5]\n",
        "  cut_method_input = number[6:9]\n",
        "  cut_size_input = number[9:12]\n",
        "  pack_size_input = number[12:15]\n",
        "  container_type_input = number[15:17]\n",
        "  packing_material_input = number[17:18]\n",
        "\n",
        "  produce_word = find_key_by_value(rm, produce_type)\n",
        "  cut_word = find_key_by_value(cuts, cut_method_input)\n",
        "  cut_size_word = find_key_by_value(cut_dict, cut_size_input)\n",
        "  pack_word = find_key_by_value(pack_size_dict, pack_size_input)\n",
        "\n",
        "  produce_word = get_rid_of_not_found(produce_word)\n",
        "  cut_word = get_rid_of_not_found(cut_word)\n",
        "  cut_size_word = get_rid_of_not_found(cut_size_word)\n",
        "  pack_word = get_rid_of_not_found(pack_word)\n",
        "\n",
        "  if category == '1':\n",
        "    print(\"Category: Fruit\")\n",
        "    if is_organic == '1':\n",
        "      print(\"Organic/Inorganic: Inorganic\")\n",
        "    else:\n",
        "      print(\"Organic/Inorganic: Organic\")\n",
        "\n",
        "  if category == '2':\n",
        "    print(\"Category: Vegetable\")\n",
        "    if is_organic == '1':\n",
        "      print(\"Organic/Inorganic: Inorganic\")\n",
        "    else:\n",
        "      print(\"Organic/Inorganic: Organic\")\n",
        "\n",
        "  if category == '5':\n",
        "    print(\"Category: Herb\")\n",
        "    if is_organic == '1':\n",
        "      print(\"Organic/Inorganic: Inorganic\")\n",
        "    else:\n",
        "      print(\"Organic/Inorganic: Organic\")\n",
        "  print(\"Type of Produce: \" + find_key_by_value(rm, produce_type))\n",
        "  print(\"Cut Method: \" + find_key_by_value(cuts, cut_method_input))\n",
        "  print(\"Cut Size: \" + find_key_by_value(cut_dict, cut_size_input))\n",
        "  pack_size_input = pack_size_input.replace(\" \", \"\")\n",
        "  print(\"Pack Size: \"+ find_key_by_value(pack_size_dict, pack_size_input))\n",
        "  #print(\"Container: \" + find_key_by_value(container_type_input, container_dict))\n",
        "  #print(\"Packing Material: \" + find_key_by_value(packing_material_input, packing_material_dict))\n",
        "  print()\n",
        "\n",
        "  if is_organic == '1':\n",
        "    name = produce_word + \" \" + cut_word + \" \" + cut_size_word + \" \" + pack_word\n",
        "  else:\n",
        "    name = \"Organic \" + produce_word + \" \" + cut_word + \" \" + cut_size_word + \" \" + pack_word\n",
        "  i += 1"
      ],
      "metadata": {
        "id": "vR9YIdAdkNCY"
      },
      "execution_count": null,
      "outputs": []
    },
    {
      "cell_type": "code",
      "execution_count": null,
      "metadata": {
        "cellView": "form",
        "id": "oFvqWP6kM71N"
      },
      "outputs": [],
      "source": [
        "# @title\n",
        "#------------------------------------------------Type of Produce------------------------------------------------------------------\n",
        "\n",
        "fruit = [\"Apple Braeburn\",\t\"Apple Fuji\",\t\"Apple Gala\",\t\"Apple Golden\",\t\"Apple Granny Smith\",\t\"Apple Granny\",\t\"Apple Pink Lady\",\t\"Apple Red\",\t\"Apple Fuji\",\t\"Apples\",\t\"Papaya Green\",\t\"Banana Green\",\t\"Banana\",\t\"Grapefruit\",\t\"Grapes Green\",\t\"Grapes Red\",\t\"Honeydew\",\t\"Kiwi\",\t\"Lemon\",\t\"Lime\",\t\"Mango Green\",\t\"Mango\",\t\"Orange Blood\",\t\"Orange Kara Kara\",\t\"Orange\",\t\"Organic Granny Smith Apple\",\t\"Papaya Hawaiian\",\t\"Papaya Mexican\",\t\"Papaya Yellow/Hawaiian\",\t\"Papaya\",\t\"Peach\",\t\"Pear Asian\",\t\"Pear Bartlett\",\t\"Pear Bosc\",\t\"Pear Green\",\t\"Pear\",\t\"Pineapple Golden Ripe\",\t\"Pineapple\",\t\"Raspberry\",\t\"Strawberry\",\t\"Tamarind \",\t\"Tomatillo\",\t\"Tomato Heirloom Green\",\t\"Tomato Heirloom Red\",\t\"Tomato Heirloom Yellow\",\t\"Tomato Roma\",\t\"Tomato Round\",\t\"Tomato\",\t\"Watermelon Seedless\",\t\"Watermelon\",]\n",
        "fruit_num = [\"001\",\t\"002\",\t\"003\",\t\"004\",\t\"005\",\t\"006\",\t\"007\",\t\"008\",\t\"009\",\t\"010\",\t\"011\",\t\"012\",\t\"013\",\t\"014\",\t\"015\",\t\"016\",\t\"017\",\t\"018\",\t\"019\",\t\"020\",\t\"021\",\t\"022\",\t\"023\",\t\"024\",\t\"025\",\t\"026\",\t\"027\",\t\"028\",\t\"029\",\t\"030\",\t\"031\",\t\"032\",\t\"033\",\t\"034\",\t\"035\",\t\"036\",\t\"037\",\t\"038\",\t\"039\",\t\"040\",\t\"041\",\t\"042\",\t\"043\",\t\"044\",\t\"045\",\t\"046\",\t\"047\",\t\"048\",\t\"049\",\t\"050\"]\n",
        "vegetable = [\"Asparagus Green\",\t\"Asparagus White\",\t\"Asparagus\",\t\"Baby French Bean\",\t\"Bean Fava\",\t\"Bean French\",\t\"Bean Green\",\t\"Bean Long Green\",\t\"Bean Yellow Wax\",\t\"Beet Chioggia\",\t\"Beet Gold Baby\",\t\"Beet Gold\",\t\"Beet Red\",\t\"Beet Red Baby\",\t\"Beet Striped Baby\",\t\"Bok Choy Baby\",\t\"Bok Choy\",\t\"Broccoli Florets\",\t\"Broccoli Slaw\",\t\"Broccoli\",\t\"Broccolini\",\t\"Brussel Sprout\",\t\"Cabbage Green\",\t\"Cabbage Napa\",\t\"Cabbage Red\",\t\"Cabbage Savoy\",\t\"Cantaloupe\",\t\"Carrot Rainbow\",\t\"Carrot\",\t\"Cauliflower Bud\",\t\"Cauliflower Florets\",\t\"Cauliflower\",\t\"Celery Root\",\t\"Celery\",\t\"Chard Green\",\t\"Chard Rainbow\",\t\"Chard Red\",\t\"Chives\",\t\"Choy Sum\",\t\"Cilantro\",\t\"Collard Green\",\t\"Corn White\",\t\"Corn Yellow\",\t\"Corn\",\t\"Cucumber English\",\t\"Cucumber Pickling\",\t\"Cucumber\",\t\"Radish Daikon\",\t\"Eggplant Japanese\",\t\"Eggplant\",\t\"Fennel\",\t\"Garlic\",\t\"Ginger\",\t\"Ginger Root\",\t\"Horseradish\",\t\"Jicama Root\",\t\"Jicama\",\t\"Kai Lan\",\t\"Kale Green\",\t\"Kale Baby\",\t\"Kale Lacinato\",\t\"Organic Kale Lacinato\",\t\"Kohlrabi\",\t\"Leek\",\t\"Lettuce Boston\",\t\"Lettuce Butter\",\t\"Lettuce Escarole\",\t\"Lettuce Frisee Blonde \",\t\"Lettuce Frisee \",\t\"Lettuce Green Leaf\",\t\"Lettuce Iceberg Premium\",\t\"Lettuce Iceberg\",\t\"Lettuce Mache Hydroponic \",\t\"Lettuce Radicchio\",\t\"Lettuce Red Leaf Fillets \",\t\"Lettuce Romaine Fillets\",\t\"Lettuce Romaine Heart\",\t\"Lettuce Romaine\",\t\"Lotus Root\",\t\"Mushroom Crimini\",\t\"Mushroom Medium\",\t\"Mushroom Oyster\",\t\"Mushroom Portobello\",\t\"Mushroom Shiitake\",\t\"Mushroom Shiitake Flower\",\t\"Mushroom White\",\t\"Mushroom\",\t\"Mustard Green\",\t\"Nopales Cactus Leaves\",\t\"Nopales\",\t\"Okra\",\t\"Onion Green\",\t\"Onion Red\",\t\"Onion Red Jumbo\",\t\"Onion White\",\t\"Onion Yellow\",\t\"Onion Yellow Sweet\",\t\"Organic Bean Greens\",\t\"Organic Brussel Sprout\",\t\"Organic Cabbage Green\",\t\"Organic Cabbage Red\",\t\"Organic Cabbage Savoy\",\t\"Organic Carrot\",\t\"Organic Celery\",\t\"Organic Chard Rainbow\",\t\"Organic Fennel \",\t\"Organic Kale\",\t\"Organic Leek\",\t\"Organic Lettuce Romaine\",\t\"Organic Mushroom Button\",\t\"Organic Onion Red \",\t\"Organic Onion Yellow\",\t\"Organic Pepepr Jalapeno\",\t\"Organic Pepper Red Bell\",\t\"Organic Potato Sweet\",\t\"Organic Potato\",\t\"Organic Red Onion\",\t\"Organic Shallot\",\t\"Organic Squash Butternut\",\t\"Organic Squash Yellow\",\t\"Organic Squash Zucchini\",\t\"Organic Tomato\",\t\"Organic Yam\",\t\"Organic Yellow Onion\",\t\"Parsnip\",\t\"Pea Snap\",\t\"Pea Snow\",\t\"Pepper Anaheim\",\t\"Pepper Fresno Red \",\t\"Pepper Yellow Bell\",\t\"Pepper Green Bell\",\t\"Pepper Jalapeno\",\t\"Organic Pepper Green Bell\",\t\"Pepper Pasilla\",\t\"Pepper Poblano\",\t\"Pepper Red Bell\",\t\"Pepper Red Jalapeno\",\t\"Pepper Serrano\",\t\"Pepper Shishito\",\t\"Potato Russet\",\t\"Potato Fingerling\",\t\"Potato Kennebec\",\t\"Potato Purple A\",\t\"Potato Purple B\",\t\"Potato Purple\",\t\"Potato Red #2\",\t\"Potato Red A\",\t\"Potato Red B\",\t\"Potato Red C\",\t\"Potato Red\",\t\"Potato Russet #2\",\t\"Potato Russet Baker #1\",\t\"Potato Sweet\",\t\"Potato White\",\t\"Potato Yukon A\",\t\"Potato Yukon B\",\t\"Potato Yukon C\",\t\"Potato Yukon \",\t\"Potato\",\t\"Pumpkin\",\t\"Radish Red\",\t\"Radish Watermelon\",\t\"Rutabaga\",\t\"Squash Acorn\",\t\"Squash Banana\",\t\"Squash Butternut\",\t\"Squash Chayote\",\t\"Squash Delicata\",\t\"Squash Kabocha\",\t\"Squash Loofah\",\t\"Squash Sunburst Baby\",\t\"Squash Yellow\",\t\"Squash Yellow Fancy \",\t\"Squash Zucchini\",\t\"Squash Zucchini Fancy\",\t\"Taro Root\",\t\"Turnip Baby\",\t\"Turnip\",\t\"Yam Jumbo\",\t\"Yams\",\t\"Yu Choy \"\n",
        "]\n",
        "vegetable_num = [\"056\", \"057\",\t\"058\",\t\"059\",\t\"060\",\t\"061\",\t\"062\",\t\"063\",\t\"064\",\t\"065\",\t\"066\",\t\"067\",\t\"068\",\t\"069\",\t\"070\",\t\"071\",\t\"072\",\t\"073\",\t\"074\",\t\"075\",\t\"076\",\t\"077\",\t\"078\",\t\"079\",\t\"080\",\t\"081\",\t\"082\",\t\"083\",\t\"084\",\t\"085\",\t\"086\",\t\"087\",\t\"088\",\t\"089\",\t\"090\",\t\"091\",\t\"092\",\t\"093\",\t\"094\",\t\"095\",\t\"096\",\t\"097\",\t\"098\",\t\"099\",\t\"100\",\t\"101\",\t\"102\",\t\"103\",\t\"104\",\t\"105\",\t\"106\",\t\"107\",\t\"108\",\t\"109\",\t\"110\",\t\"111\",\t\"112\",\t\"113\",\t\"114\",\t\"115\",\t\"116\",\t\"117\",\t\"118\",\t\"119\",\t\"120\",\t\"121\",\t\"122\",\t\"123\",\t\"124\",\t\"125\",\t\"126\",\t\"127\",\t\"128\",\t\"129\",\t\"130\",\t\"131\",\t\"132\",\t\"133\",\t\"134\",\t\"135\",\t\"136\",\t\"137\",\t\"138\",\t\"139\",\t\"140\",\t\"141\",\t\"142\",\t\"143\",\t\"144\",\t\"145\",\t\"146\",\t\"147\",\t\"148\",\t\"149\",\t\"150\",\t\"151\",\t\"152\",\t\"153\",\t\"154\",\t\"155\",\t\"156\",\t\"157\",\t\"158\",\t\"159\",\t\"160\",\t\"161\",\t\"162\",\t\"163\",\t\"164\",\t\"165\",\t\"166\",\t\"167\",\t\"168\",\t\"169\",\t\"170\",\t\"171\",\t\"172\",\t\"173\",\t\"174\",\t\"175\",\t\"176\",\t\"177\",\t\"178\",\t\"179\",\t\"180\",\t\"181\",\t\"182\",\t\"183\",\t\"184\",\t\"185\",\t\"186\",\t\"187\",\t\"188\",\t\"189\",\t\"190\",\t\"191\",\t\"192\",\t\"193\",\t\"194\",\t\"195\",\t\"196\",\t\"197\",\t\"198\",\t\"199\",\t\"200\",\t\"201\",\t\"202\",\t\"203\",\t\"204\",\t\"205\",\t\"206\",\t\"207\",\t\"208\",\t\"209\",\t\"210\",\t\"211\",\t\"212\",\t\"213\",\t\"214\",\t\"215\",\t\"216\",\t\"217\",\t\"218\",\t\"219\",\t\"220\",\t\"221\",\t\"222\",\t\"223\",\t\"224\",\t\"225\",\t\"226\",\t\"227\",\t\"228\",\t\"229\",\t\"230\",\t\"231\",\t\"232\",\t\"233\",\t\"234\",\t\"235\",\t\"236\"\n",
        "]\n",
        "herb = [\"Parsley Curley\",\t\"Parsley \",\t\"Shallot\",\t\"Turmeric\",\t\"Yucca Root\"]\n",
        "herb_num = [\"051\",\t\"052\",\t\"053\",\t\"054\",\t\"055\"]\n",
        "\n",
        "#---------------------------------------------------------------------------------------------------------------------------------\n",
        "\n",
        "\n",
        "#----------------------------------------------------Functions-----------------------------------------------------------------\n",
        "#find word(search) in given phrase(text)\n",
        "#return true if found\n",
        "def find_words(text, search):\n",
        "    \"\"\"Find exact words\"\"\"\n",
        "    text = text.lower()\n",
        "    search = search.lower()\n",
        "\n",
        "    dText   = text.split()\n",
        "    dSearch = search.split()\n",
        "\n",
        "    found_word = 0\n",
        "\n",
        "    for text_word in dText:\n",
        "        for search_word in dSearch:\n",
        "            if search_word == text_word:\n",
        "                found_word += 1\n",
        "\n",
        "    return found_word == len(dSearch)\n",
        "\n",
        "#determine if product is organic or not\n",
        "#return true if is organic\n",
        "def find_organic(text):\n",
        "  return find_words(text, 'organic')\n",
        "\n",
        "#determine index of item\n",
        "#returns type of produce index\n",
        "def find_produce(text):\n",
        "  for i in fruit:\n",
        "    if find_words(text, i):\n",
        "      return fruit_num[fruit.index(i)]\n",
        "  for i in herb:\n",
        "    if find_words(text, i):\n",
        "      return herb_num[herb.index(i)]\n",
        "  for i in vegetable:\n",
        "    if find_words(text, i):\n",
        "      return vegetable_num[vegetable.index(i)]\n",
        "\n",
        "#categorize produce by fruit, vegetable, or herb\n",
        "#returns number with index at 0 changed to the appropriate type of produce category value\n",
        "def categorize_produce(index, number):\n",
        "  if int(index) <= 50 and int(index) >= 1:\n",
        "    number[0] = 1\n",
        "  elif int(index) <= 55:\n",
        "    number[0] = 5\n",
        "  elif int(index) <= 236:\n",
        "    number[0] = 2\n",
        "  return number\n",
        "\n",
        "#finds cut method, if it has one\n",
        "#returns the value it is associated with\n",
        "def cut_method(text):\n",
        "  if find_words(text, 'wedge'):\n",
        "    return 1\n",
        "  elif find_words(text, 'juliene'):\n",
        "    return 2\n",
        "  elif find_words(text, 'diced'):\n",
        "    return 3\n",
        "  else:\n",
        "    return 0\n",
        "#--------------------------------------------------------Main--------------------------------------------------------------------\n",
        "tests = input(\"Enter the number of tests: \")\n",
        "i = 0\n",
        "\n",
        "while i < int(tests):\n",
        "  case = input(\"Enter the case value: \")\n",
        "  number = [0,0,0,0,0,0,0,0,0,0,0,0,0,0,0,0,0]\n",
        "\n",
        "  if(find_organic(case)):\n",
        "    number[1] = 2;\n",
        "  else:\n",
        "    number[1] = 1;\n",
        "\n",
        "  type_of_produce_index = find_produce(case)\n",
        "  number = categorize_produce(type_of_produce_index, number)\n",
        "\n",
        "  digits = [int(x) for x in str(type_of_produce_index)]\n",
        "  number[2] = digits[0]\n",
        "  number[3] = digits[1]\n",
        "  number[4] = digits[2]\n",
        "\n",
        "  number[6] = cut_method(case)\n",
        "\n",
        "  print(number)\n",
        "  item_code = 0\n",
        "  for i in number:\n",
        "    item_code = str(item_code) + str(i)\n",
        "    item_code = int(item_code)\n",
        "\n",
        "  print(\"Item Code for \" + case + \" is: \" + str(item_code))\n",
        "  print()\n",
        "  i+=1\n"
      ]
    }
  ],
  "metadata": {
    "colab": {
      "provenance": [],
      "include_colab_link": true
    },
    "kernelspec": {
      "display_name": "Python 3",
      "name": "python3"
    },
    "language_info": {
      "name": "python"
    }
  },
  "nbformat": 4,
  "nbformat_minor": 0
}